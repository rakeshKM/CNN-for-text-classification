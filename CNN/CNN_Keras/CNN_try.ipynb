{
 "cells": [
  {
   "cell_type": "code",
   "execution_count": 1,
   "metadata": {
    "collapsed": false,
    "deletable": true,
    "editable": true
   },
   "outputs": [
    {
     "name": "stderr",
     "output_type": "stream",
     "text": [
      "Using TensorFlow backend.\n"
     ]
    }
   ],
   "source": [
    "import keras\n",
    "from keras.datasets import mnist\n",
    "from keras.models import Model, Sequential\n",
    "from keras.layers import Input, Dense, Dropout, Flatten, Embedding\n",
    "from keras.layers import Conv1D, MaxPooling1D\n",
    "from keras.layers.merge import Concatenate\n",
    "from keras import backend as K\n",
    "import numpy as np\n",
    "import matplotlib.pyplot as plt\n",
    "import pickle\n",
    "import random"
   ]
  },
  {
   "cell_type": "code",
   "execution_count": 2,
   "metadata": {
    "collapsed": true,
    "deletable": true,
    "editable": true
   },
   "outputs": [],
   "source": [
    "mode = '-nonstatic'\n",
    "word_vectors = '-rand'"
   ]
  },
  {
   "cell_type": "code",
   "execution_count": 3,
   "metadata": {
    "collapsed": false,
    "deletable": true,
    "editable": true
   },
   "outputs": [
    {
     "name": "stdout",
     "output_type": "stream",
     "text": [
      "Data successfully loaded\n",
      "model architecture: CNN-non-static\n",
      "using: random vectors\n"
     ]
    }
   ],
   "source": [
    "with open(\"mr.p\", 'rb') as f:\n",
    "    x = pickle.load(f, encoding='latin1')\n",
    "\n",
    "# W - word2vec, W2 - rand\n",
    "revs, W, W2, word_idx_map, vocab = x[0], x[1], x[2], x[3], x[4]\n",
    "vocab_size = len(vocab)\n",
    "print('Data successfully loaded')\n",
    "\n",
    "if mode == \"-nonstatic\":\n",
    "    print (\"model architecture: CNN-non-static\")\n",
    "    non_static=True\n",
    "elif mode==\"-static\":\n",
    "    print (\"model architecture: CNN-static\")\n",
    "    non_static=False\n",
    "    \n",
    "if word_vectors==\"-rand\":\n",
    "    print (\"using: random vectors\")\n",
    "    U = W2\n",
    "elif word_vectors==\"-word2vec\":\n",
    "    print (\"using: word2vec vectors\")\n",
    "    U = W"
   ]
  },
  {
   "cell_type": "code",
   "execution_count": 4,
   "metadata": {
    "collapsed": false,
    "deletable": true,
    "editable": true
   },
   "outputs": [
    {
     "data": {
      "text/plain": [
       "34"
      ]
     },
     "execution_count": 4,
     "metadata": {},
     "output_type": "execute_result"
    }
   ],
   "source": [
    "revs[0]['num_words']"
   ]
  },
  {
   "cell_type": "code",
   "execution_count": 5,
   "metadata": {
    "collapsed": false,
    "deletable": true,
    "editable": true
   },
   "outputs": [
    {
     "name": "stdout",
     "output_type": "stream",
     "text": [
      "Max sentence length: 56\n"
     ]
    }
   ],
   "source": [
    "max_sentence_len = -1\n",
    "\n",
    "for i in range(len(revs)):\n",
    "    num = revs[i]['num_words']\n",
    "    max_sentence_len = max(num, max_sentence_len)\n",
    "    \n",
    "print('Max sentence length:', max_sentence_len)"
   ]
  },
  {
   "cell_type": "code",
   "execution_count": 6,
   "metadata": {
    "collapsed": false,
    "deletable": true,
    "editable": true
   },
   "outputs": [
    {
     "data": {
      "text/plain": [
       "9596"
      ]
     },
     "execution_count": 6,
     "metadata": {},
     "output_type": "execute_result"
    }
   ],
   "source": [
    "word_idx_map[',']"
   ]
  },
  {
   "cell_type": "code",
   "execution_count": 7,
   "metadata": {
    "collapsed": false,
    "deletable": true,
    "editable": true
   },
   "outputs": [
    {
     "data": {
      "text/plain": [
       "{'num_words': 13,\n",
       " 'split': 4,\n",
       " 'text': 'chicago is sophisticated , brash , sardonic , completely joyful in its execution',\n",
       " 'y': 1}"
      ]
     },
     "execution_count": 7,
     "metadata": {},
     "output_type": "execute_result"
    }
   ],
   "source": [
    "revs[100]"
   ]
  },
  {
   "cell_type": "code",
   "execution_count": 8,
   "metadata": {
    "collapsed": false,
    "deletable": true,
    "editable": true
   },
   "outputs": [],
   "source": [
    "N = len(revs)\n",
    "N_train = int(np.round(N * 0.1))\n",
    "N_test = int(N - N_train)\n",
    "\n",
    "X = np.zeros((N, max_sentence_len), np.uint16)\n",
    "Y = np.zeros((N,1), np.uint8)\n",
    "\n",
    "random.shuffle(revs)\n",
    "for i in range(len(revs)):\n",
    "    list_wrds = revs[i]['text'].split()\n",
    "    for j in range(len(list_wrds)):\n",
    "        X[i][j] = word_idx_map[list_wrds[j]]\n",
    "    Y[i] = revs[i]['y']\n",
    "\n",
    "x_train = X[0:N_train]\n",
    "y_train = Y[0:N_train]\n",
    "\n",
    "x_test = X[N_train:N]\n",
    "y_test = Y[N_train:N]"
   ]
  },
  {
   "cell_type": "code",
   "execution_count": 9,
   "metadata": {
    "collapsed": false,
    "deletable": true,
    "editable": true
   },
   "outputs": [],
   "source": [
    "batch_size = 50\n",
    "filter_sizes = [3,4,5]\n",
    "num_filters = 100\n",
    "dropout_prob = (0.5, 0.8)\n",
    "hidden_dims = 50\n",
    "\n",
    "l2_reg = 0.3\n",
    "embedding_dim = 300\n",
    "\n",
    "model_input = Input(shape= (max_sentence_len,))\n",
    "\n",
    "z = Embedding(vocab_size+1, embedding_dim, input_length=max_sentence_len, name=\"embedding\")(model_input)\n",
    "z = Dropout(dropout_prob[0])(z)\n",
    "    \n",
    "z1 = Conv1D( filters=100, kernel_size=3, padding=\"valid\", activation=\"relu\", strides=1)(z)\n",
    "z1 = MaxPooling1D(pool_size=2)(z1)\n",
    "z1 = Flatten()(z1)\n",
    "\n",
    "z2 = Conv1D( filters=100, kernel_size=4, padding=\"valid\", activation=\"relu\", strides=1)(z)\n",
    "z2 = MaxPooling1D(pool_size=2)(z2)\n",
    "z2 = Flatten()(z2)\n",
    "\n",
    "z3 = Conv1D( filters=100, kernel_size=5, padding=\"valid\", activation=\"relu\", strides=1)(z)\n",
    "z3 = MaxPooling1D(pool_size=2)(z3)\n",
    "z3 = Flatten()(z3)\n",
    "\n",
    "# Concatenate the output of all convolution layers\n",
    "z = Concatenate()([z1, z2, z3])\n",
    "z = Dropout(dropout_prob[1])(z)\n",
    "\n",
    "z = Dense(hidden_dims, activation=\"relu\")(z)\n",
    "model_output = Dense(1, activation=\"sigmoid\")(z)\n",
    "    \n",
    "model = Model(model_input, model_output)\n",
    "model.compile(loss=\"binary_crossentropy\", optimizer=\"adam\", metrics=[\"accuracy\"])"
   ]
  },
  {
   "cell_type": "code",
   "execution_count": 10,
   "metadata": {
    "collapsed": false,
    "deletable": true,
    "editable": true
   },
   "outputs": [
    {
     "name": "stdout",
     "output_type": "stream",
     "text": [
      "____________________________________________________________________________________________________\n",
      "Layer (type)                     Output Shape          Param #     Connected to                     \n",
      "====================================================================================================\n",
      "input_1 (InputLayer)             (None, 56)            0                                            \n",
      "____________________________________________________________________________________________________\n",
      "embedding (Embedding)            (None, 56, 300)       5629800                                      \n",
      "____________________________________________________________________________________________________\n",
      "dropout_1 (Dropout)              (None, 56, 300)       0                                            \n",
      "____________________________________________________________________________________________________\n",
      "conv1d_1 (Conv1D)                (None, 54, 100)       90100                                        \n",
      "____________________________________________________________________________________________________\n",
      "conv1d_2 (Conv1D)                (None, 53, 100)       120100                                       \n",
      "____________________________________________________________________________________________________\n",
      "conv1d_3 (Conv1D)                (None, 52, 100)       150100                                       \n",
      "____________________________________________________________________________________________________\n",
      "max_pooling1d_1 (MaxPooling1D)   (None, 27, 100)       0                                            \n",
      "____________________________________________________________________________________________________\n",
      "max_pooling1d_2 (MaxPooling1D)   (None, 26, 100)       0                                            \n",
      "____________________________________________________________________________________________________\n",
      "max_pooling1d_3 (MaxPooling1D)   (None, 26, 100)       0                                            \n",
      "____________________________________________________________________________________________________\n",
      "flatten_1 (Flatten)              (None, 2700)          0                                            \n",
      "____________________________________________________________________________________________________\n",
      "flatten_2 (Flatten)              (None, 2600)          0                                            \n",
      "____________________________________________________________________________________________________\n",
      "flatten_3 (Flatten)              (None, 2600)          0                                            \n",
      "____________________________________________________________________________________________________\n",
      "concatenate_1 (Concatenate)      (None, 7900)          0                                            \n",
      "____________________________________________________________________________________________________\n",
      "dropout_2 (Dropout)              (None, 7900)          0                                            \n",
      "____________________________________________________________________________________________________\n",
      "dense_1 (Dense)                  (None, 50)            395050                                       \n",
      "____________________________________________________________________________________________________\n",
      "dense_2 (Dense)                  (None, 1)             51                                           \n",
      "====================================================================================================\n",
      "Total params: 6,385,201.0\n",
      "Trainable params: 6,385,201.0\n",
      "Non-trainable params: 0.0\n",
      "____________________________________________________________________________________________________\n"
     ]
    }
   ],
   "source": [
    "model.summary()"
   ]
  },
  {
   "cell_type": "code",
   "execution_count": 11,
   "metadata": {
    "collapsed": false,
    "deletable": true,
    "editable": true
   },
   "outputs": [
    {
     "data": {
      "text/plain": [
       "(18766, 300)"
      ]
     },
     "execution_count": 11,
     "metadata": {},
     "output_type": "execute_result"
    }
   ],
   "source": [
    "W.shape"
   ]
  },
  {
   "cell_type": "code",
   "execution_count": 12,
   "metadata": {
    "collapsed": false,
    "deletable": true,
    "editable": true
   },
   "outputs": [
    {
     "name": "stdout",
     "output_type": "stream",
     "text": [
      "Train on 1066 samples, validate on 9596 samples\n",
      "Epoch 1/10\n",
      "16s - loss: 0.6940 - acc: 0.5281 - val_loss: 0.6792 - val_acc: 0.5930\n",
      "Epoch 2/10\n",
      "5s - loss: 0.6416 - acc: 0.6435 - val_loss: 0.6293 - val_acc: 0.6700\n",
      "Epoch 3/10\n",
      "4s - loss: 0.5218 - acc: 0.7570 - val_loss: 0.6464 - val_acc: 0.6684\n",
      "Epoch 4/10\n",
      "4s - loss: 0.3614 - acc: 0.8311 - val_loss: 0.5444 - val_acc: 0.7332\n",
      "Epoch 5/10\n",
      "5s - loss: 0.2229 - acc: 0.9203 - val_loss: 0.5837 - val_acc: 0.7325\n",
      "Epoch 6/10\n",
      "5s - loss: 0.1487 - acc: 0.9456 - val_loss: 0.6824 - val_acc: 0.7281\n",
      "Epoch 7/10\n",
      "5s - loss: 0.1017 - acc: 0.9653 - val_loss: 0.7399 - val_acc: 0.7226\n",
      "Epoch 8/10\n",
      "5s - loss: 0.0733 - acc: 0.9756 - val_loss: 0.7583 - val_acc: 0.7354\n",
      "Epoch 9/10\n",
      "5s - loss: 0.0585 - acc: 0.9812 - val_loss: 0.7631 - val_acc: 0.7471\n",
      "Epoch 10/10\n",
      "5s - loss: 0.0506 - acc: 0.9822 - val_loss: 0.7981 - val_acc: 0.7442\n"
     ]
    },
    {
     "data": {
      "text/plain": [
       "<keras.callbacks.History at 0x7fccac767ac8>"
      ]
     },
     "execution_count": 12,
     "metadata": {},
     "output_type": "execute_result"
    }
   ],
   "source": [
    "embedding_layer = model.get_layer(\"embedding\")\n",
    "embedding_layer.set_weights([W])\n",
    "\n",
    "model.fit(x_train, y_train, \n",
    "          batch_size = batch_size, \n",
    "          epochs=10,\n",
    "          validation_data=(x_test, y_test), verbose=2)"
   ]
  },
  {
   "cell_type": "code",
   "execution_count": null,
   "metadata": {
    "collapsed": true
   },
   "outputs": [],
   "source": []
  }
 ],
 "metadata": {
  "kernelspec": {
   "display_name": "Python 3",
   "language": "python",
   "name": "python3"
  },
  "language_info": {
   "codemirror_mode": {
    "name": "ipython",
    "version": 3
   },
   "file_extension": ".py",
   "mimetype": "text/x-python",
   "name": "python",
   "nbconvert_exporter": "python",
   "pygments_lexer": "ipython3",
   "version": "3.5.2"
  }
 },
 "nbformat": 4,
 "nbformat_minor": 2
}
