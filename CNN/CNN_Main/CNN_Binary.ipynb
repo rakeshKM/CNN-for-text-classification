{
 "cells": [
  {
   "cell_type": "code",
   "execution_count": 1,
   "metadata": {},
   "outputs": [
    {
     "name": "stderr",
     "output_type": "stream",
     "text": [
      "Using TensorFlow backend.\n"
     ]
    }
   ],
   "source": [
    "import keras\n",
    "from keras.datasets import mnist\n",
    "from keras.models import Model, Sequential\n",
    "from keras.layers import Input, Dense, Dropout, Flatten, Embedding, regularizers\n",
    "from keras.layers import Conv1D, MaxPooling1D\n",
    "from keras.layers.merge import Concatenate\n",
    "from keras import optimizers\n",
    "from keras.preprocessing import sequence\n",
    "from keras import backend as K\n",
    "from w2v import train_word2vec \n",
    "import pickle, datetime\n",
    "import numpy as np\n",
    "import difflib\n",
    "from keras.datasets import imdb"
   ]
  },
  {
   "cell_type": "markdown",
   "metadata": {},
   "source": [
    "# ------------------------------- Data Preprocessing -----------------------------------"
   ]
  },
  {
   "cell_type": "code",
   "execution_count": 2,
   "metadata": {
    "collapsed": true
   },
   "outputs": [],
   "source": [
    "import os\n",
    "os.environ[\"CUDA_DEVICE_ORDER\"]=\"PCI_BUS_ID\"   # see issue #152\n",
    "os.environ[\"CUDA_VISIBLE_DEVICES\"]=\"0\""
   ]
  },
  {
   "cell_type": "code",
   "execution_count": 3,
   "metadata": {
    "collapsed": true
   },
   "outputs": [],
   "source": [
    "max_words = 5000\n",
    "(x_train, y_train), (x_test, y_test) = imdb.load_data(num_words=max_words, start_char=None)\n",
    "\n",
    "N_TRAIN = x_train.shape[0] \n",
    "N_TEST = x_test.shape[0]"
   ]
  },
  {
   "cell_type": "code",
   "execution_count": 4,
   "metadata": {},
   "outputs": [
    {
     "name": "stdout",
     "output_type": "stream",
     "text": [
      "2493\n"
     ]
    }
   ],
   "source": [
    "max_sent_len = -1\n",
    "for sent in x_train:\n",
    "    max_sent_len = max(max_sent_len, len(sent))\n",
    "\n",
    "for sent in x_test:\n",
    "    max_sent_len = max(max_sent_len, len(sent))\n",
    "\n",
    "print(max_sent_len)\n",
    "max_sent_len = 400"
   ]
  },
  {
   "cell_type": "code",
   "execution_count": 5,
   "metadata": {},
   "outputs": [
    {
     "name": "stdout",
     "output_type": "stream",
     "text": [
      "x_train shape: (25000, 400)\n",
      "x_test shape: (25000, 400)\n"
     ]
    }
   ],
   "source": [
    "x_train = sequence.pad_sequences(x_train, maxlen=max_sent_len, padding=\"post\", truncating=\"post\")\n",
    "x_test = sequence.pad_sequences(x_test, maxlen=max_sent_len, padding=\"post\", truncating=\"post\")\n",
    "\n",
    "print(\"x_train shape:\", x_train.shape)\n",
    "print(\"x_test shape:\", x_test.shape)\n",
    "\n",
    "vocabulary = imdb.get_word_index()\n",
    "vocabulary_inv = dict((v, k) for k, v in vocabulary.items())\n",
    "vocabulary_inv[0] = \"<PAD/>\""
   ]
  },
  {
   "cell_type": "markdown",
   "metadata": {},
   "source": [
    "# -------------------------------- Training model  -----------------------------------"
   ]
  },
  {
   "cell_type": "markdown",
   "metadata": {},
   "source": [
    "### Model Paremeters"
   ]
  },
  {
   "cell_type": "code",
   "execution_count": 6,
   "metadata": {
    "collapsed": true
   },
   "outputs": [],
   "source": [
    "model_type    = 'CNN-rand'  # CNN-rand|CNN-non-static|CNN-static\n",
    "embedding_dim = 300         # word2vec dim\n",
    "vocab_size    = len(vocabulary_inv)\n",
    "N_category    = 2"
   ]
  },
  {
   "cell_type": "markdown",
   "metadata": {},
   "source": [
    "### Generate word2vec "
   ]
  },
  {
   "cell_type": "code",
   "execution_count": 7,
   "metadata": {
    "collapsed": true
   },
   "outputs": [],
   "source": [
    "if model_type in ['CNN-non-static', 'CNN-static']:\n",
    "    embedding_wts = train_word2vec( np.vstack((x_train, x_test)), \n",
    "                                    vocabulary_inv, num_features = embedding_dim)\n",
    "    if model_type == 'CNN-static':\n",
    "        x_train = embedding_wts[0][x_train]\n",
    "        x_test  = embedding_wts[0][x_test]\n",
    "        \n",
    "elif model_type == 'CNN-rand':\n",
    "    embedding_wts = None\n",
    "    \n",
    "else:\n",
    "    raise ValueError(\"Unknown model type\")"
   ]
  },
  {
   "cell_type": "markdown",
   "metadata": {},
   "source": [
    "### Create model"
   ]
  },
  {
   "cell_type": "code",
   "execution_count": 8,
   "metadata": {},
   "outputs": [
    {
     "name": "stdout",
     "output_type": "stream",
     "text": [
      "____________________________________________________________________________________________________\n",
      "Layer (type)                     Output Shape          Param #     Connected to                     \n",
      "====================================================================================================\n",
      "input_1 (InputLayer)             (None, 400)           0                                            \n",
      "____________________________________________________________________________________________________\n",
      "embedding (Embedding)            (None, 400, 300)      26575500                                     \n",
      "____________________________________________________________________________________________________\n",
      "dropout_1 (Dropout)              (None, 400, 300)      0                                            \n",
      "____________________________________________________________________________________________________\n",
      "conv1d_1 (Conv1D)                (None, 398, 100)      90100                                        \n",
      "____________________________________________________________________________________________________\n",
      "conv1d_2 (Conv1D)                (None, 397, 100)      120100                                       \n",
      "____________________________________________________________________________________________________\n",
      "conv1d_3 (Conv1D)                (None, 396, 100)      150100                                       \n",
      "____________________________________________________________________________________________________\n",
      "max_pooling1d_1 (MaxPooling1D)   (None, 1, 100)        0                                            \n",
      "____________________________________________________________________________________________________\n",
      "max_pooling1d_2 (MaxPooling1D)   (None, 1, 100)        0                                            \n",
      "____________________________________________________________________________________________________\n",
      "max_pooling1d_3 (MaxPooling1D)   (None, 1, 100)        0                                            \n",
      "____________________________________________________________________________________________________\n",
      "flatten_1 (Flatten)              (None, 100)           0                                            \n",
      "____________________________________________________________________________________________________\n",
      "flatten_2 (Flatten)              (None, 100)           0                                            \n",
      "____________________________________________________________________________________________________\n",
      "flatten_3 (Flatten)              (None, 100)           0                                            \n",
      "____________________________________________________________________________________________________\n",
      "concatenate_1 (Concatenate)      (None, 300)           0                                            \n",
      "____________________________________________________________________________________________________\n",
      "dropout_2 (Dropout)              (None, 300)           0                                            \n",
      "____________________________________________________________________________________________________\n",
      "dense_1 (Dense)                  (None, 100)           30100                                        \n",
      "____________________________________________________________________________________________________\n",
      "dense_2 (Dense)                  (None, 1)             101                                          \n",
      "====================================================================================================\n",
      "Total params: 26,966,001\n",
      "Trainable params: 26,966,001\n",
      "Non-trainable params: 0\n",
      "____________________________________________________________________________________________________\n"
     ]
    }
   ],
   "source": [
    "filter_sizes = [3,4,5]\n",
    "num_filters  = 100\n",
    "dropout_prob = (0.5, 0.8)\n",
    "hidden_dims  = 100\n",
    "batch_size   = 64\n",
    "l2_reg = 0.3\n",
    "\n",
    "# Deciding dimension of input based on the model\n",
    "input_shape = (max_sent_len, embedding_dim) if model_type == \"CNN-static\" else (max_sent_len,)\n",
    "model_input = Input(shape = input_shape)\n",
    "\n",
    "# Static model do not have embedding layer\n",
    "if model_type == \"CNN-static\":\n",
    "    z = Dropout(dropout_prob[0])(model_input)\n",
    "else:\n",
    "    z = Embedding(vocab_size, embedding_dim, input_length = max_sent_len, name=\"embedding\", trainable=True)(model_input)\n",
    "    z = Dropout(dropout_prob[0])(z)\n",
    "\n",
    "# Convolution layers\n",
    "z1 = Conv1D(    filters=num_filters, kernel_size=filter_sizes[0], \n",
    "                padding=\"valid\", activation=\"relu\", \n",
    "                strides=1)(z)\n",
    "z1 = MaxPooling1D(pool_size = max_sent_len - filter_sizes[0] + 1)(z1)\n",
    "z1 = Flatten()(z1)\n",
    "\n",
    "z2 = Conv1D(    filters=num_filters, kernel_size=filter_sizes[1], \n",
    "                padding=\"valid\", activation=\"relu\", \n",
    "                strides=1)(z)\n",
    "z2 = MaxPooling1D(pool_size=max_sent_len - filter_sizes[1] + 1)(z2)\n",
    "z2 = Flatten()(z2)\n",
    "\n",
    "z3 = Conv1D(    filters=num_filters, kernel_size=filter_sizes[2], \n",
    "                padding=\"valid\", activation=\"relu\",\n",
    "                strides=1)(z)\n",
    "z3 = MaxPooling1D(pool_size=max_sent_len - filter_sizes[2] + 1)(z3)\n",
    "z3 = Flatten()(z3)\n",
    "\n",
    "# Concatenate the output of all convolution layers\n",
    "z = Concatenate()([z1, z2, z3])\n",
    "z = Dropout(dropout_prob[1])(z)\n",
    "\n",
    "z = Dense(hidden_dims, activation=\"relu\")(z)\n",
    "model_output = Dense(1, activation=\"sigmoid\")(z)\n",
    "    \n",
    "model = Model(model_input, model_output)\n",
    "model.summary()"
   ]
  },
  {
   "cell_type": "markdown",
   "metadata": {},
   "source": [
    "### Train model "
   ]
  },
  {
   "cell_type": "code",
   "execution_count": 9,
   "metadata": {
    "collapsed": true
   },
   "outputs": [],
   "source": [
    "# from sklearn.metrics import roc_auc_score\n",
    "import time\n",
    "import pylab as pl\n",
    "from IPython import display\n",
    "pl.style.use('ggplot')\n",
    "%matplotlib inline\n",
    "\n",
    "class Histories(keras.callbacks.Callback):\n",
    "\n",
    "    def on_train_begin(self, logs={}):\n",
    "        self.acc = []\n",
    "        self.loss = []\n",
    "        self.val_loss = []\n",
    "        self.val_acc = []\n",
    "\n",
    "    def on_train_end(self, logs={}):\n",
    "        return\n",
    "\n",
    "    def on_epoch_begin(self, epoch, logs={}):\n",
    "        return\n",
    "\n",
    "    def on_epoch_end(self, epoch, logs={}):\n",
    "        self.acc.append(logs['acc'])\n",
    "        self.loss.append(logs['loss'])\n",
    "        self.val_acc.append(logs['val_acc'])\n",
    "        self.val_loss.append(logs['val_loss'])\n",
    "        \n",
    "        pl.hold(True)\n",
    "        pl.plot(self.acc)\n",
    "        pl.plot(self.loss)\n",
    "        pl.plot(self.val_acc)\n",
    "        pl.plot(self.val_loss)\n",
    "        pl.legend(['Train acc','Train loss','Valid acc', 'Valid loss'], loc=2)\n",
    "        display.clear_output(wait=True)\n",
    "        display.display(pl.gcf())\n",
    "        return\n",
    "\n",
    "    def on_batch_begin(self, batch, logs={}):\n",
    "        return\n",
    "\n",
    "    def on_batch_end(self, batch, logs={}):\n",
    "        return"
   ]
  },
  {
   "cell_type": "code",
   "execution_count": 10,
   "metadata": {
    "scrolled": true
   },
   "outputs": [
    {
     "data": {
      "image/png": "[encoded data removed]",
      "text/plain": [
       "<matplotlib.figure.Figure at 0x7f818f16ba90>"
      ]
     },
     "metadata": {},
     "output_type": "display_data"
    },
    {
     "name": "stdout",
     "output_type": "stream",
     "text": [
      "20s - loss: 0.1629 - acc: 0.9385 - val_loss: 0.2657 - val_acc: 0.8939\n"
     ]
    },
    {
     "data": {
      "image/png": "[encoded data removed]",
      "text/plain": [
       "<matplotlib.figure.Figure at 0x7f818f16ba90>"
      ]
     },
     "metadata": {},
     "output_type": "display_data"
    }
   ],
   "source": [
    "if model_type == \"CNN-non-static\":\n",
    "    embedding_layer = model.get_layer(\"embedding\")\n",
    "    embedding_layer.set_weights(embedding_wts)\n",
    "\n",
    "model.compile(loss=\"binary_crossentropy\", optimizer=optimizers.SGD(), metrics=[\"accuracy\"])\n",
    "histories = Histories()\n",
    "res = model.fit(x_train, y_train,\n",
    "          batch_size = batch_size,\n",
    "          epochs=200,\n",
    "          validation_data=(x_test, y_test), verbose=2, callbacks=[histories])"
   ]
  },
  {
   "cell_type": "code",
   "execution_count": null,
   "metadata": {
    "collapsed": true
   },
   "outputs": [],
   "source": [
    "import os\n",
    "os.system('say done')"
   ]
  },
  {
   "cell_type": "markdown",
   "metadata": {},
   "source": [
    "### Computing Accuracy"
   ]
  },
  {
   "cell_type": "code",
   "execution_count": 11,
   "metadata": {},
   "outputs": [
    {
     "name": "stdout",
     "output_type": "stream",
     "text": [
      "Accuracy: 98.02%\n",
      "Accuracy: 89.39%\n"
     ]
    }
   ],
   "source": [
    "# Final evaluation of the model\n",
    "scores = model.evaluate(x_train, y_train, verbose=0)\n",
    "print(\"Accuracy: %.2f%%\" % (scores[1]*100))\n",
    "# Final evaluation of the model\n",
    "scores = model.evaluate(x_test, y_test, verbose=0)\n",
    "print(\"Accuracy: %.2f%%\" % (scores[1]*100))"
   ]
  },
  {
   "cell_type": "markdown",
   "metadata": {},
   "source": [
    "### Save the model"
   ]
  },
  {
   "cell_type": "code",
   "execution_count": 12,
   "metadata": {
    "collapsed": true
   },
   "outputs": [],
   "source": [
    "def load_model(fname):\n",
    "    model = keras.models.model_from_json(open(fname + '.json').read())\n",
    "    model.load_weights(fname + '_weights.h5')\n",
    "    model.compile(optimizer='sgd', loss='binary_crossentropy', metrics=[\"accuracy\"])\n",
    "    return model\n",
    "\n",
    "def save_model(model, fname):    \n",
    "    json_string = model.to_json()\n",
    "    open(fname + '.json', 'w').write(json_string)\n",
    "    model.save_weights(fname + '_weights.h5', overwrite=True)\n",
    "    with open( fname + '_history', 'wb') as output:\n",
    "        pickle.dump([model.history.history], output, pickle.HIGHEST_PROTOCOL)"
   ]
  },
  {
   "cell_type": "code",
   "execution_count": 13,
   "metadata": {},
   "outputs": [
    {
     "name": "stdout",
     "output_type": "stream",
     "text": [
      "./dodo_binary_cnn_rand\n"
     ]
    }
   ],
   "source": [
    "fname = './dodo_binary_cnn_rand'\n",
    "save_model(model, fname)\n",
    "print(fname)"
   ]
  }
 ],
 "metadata": {
  "kernelspec": {
   "display_name": "Python 3",
   "language": "python",
   "name": "python3"
  },
  "language_info": {
   "codemirror_mode": {
    "name": "ipython",
    "version": 3
   },
   "file_extension": ".py",
   "mimetype": "text/x-python",
   "name": "python",
   "nbconvert_exporter": "python",
   "pygments_lexer": "ipython3",
   "version": "3.5.2"
  }
 },
 "nbformat": 4,
 "nbformat_minor": 2
}
