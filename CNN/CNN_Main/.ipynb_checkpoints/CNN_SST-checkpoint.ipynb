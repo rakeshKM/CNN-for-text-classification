{
 "cells": [
  {
   "cell_type": "code",
   "execution_count": 20,
   "metadata": {
    "collapsed": false,
    "deletable": true,
    "editable": true
   },
   "outputs": [],
   "source": [
    "import keras\n",
    "from keras.datasets import mnist\n",
    "from keras.models import Model, Sequential\n",
    "from keras.layers import Input, Dense, Dropout, Flatten, Embedding, regularizers\n",
    "from keras.layers import Conv1D, MaxPooling1D\n",
    "from keras.layers.merge import Concatenate\n",
    "from keras import optimizers\n",
    "from keras import backend as K\n",
    "from w2v import train_word2vec \n",
    "import pickle, datetime\n",
    "import numpy as np\n",
    "import difflib"
   ]
  },
  {
   "cell_type": "markdown",
   "metadata": {
    "deletable": true,
    "editable": true
   },
   "source": [
    "# ------------------------------- Data Preprocessing -----------------------------------"
   ]
  },
  {
   "cell_type": "markdown",
   "metadata": {
    "deletable": true,
    "editable": true
   },
   "source": [
    "### Phrase -> index"
   ]
  },
  {
   "cell_type": "code",
   "execution_count": 27,
   "metadata": {
    "collapsed": false,
    "deletable": true,
    "editable": true
   },
   "outputs": [
    {
     "name": "stdout",
     "output_type": "stream",
     "text": [
      "239232 14058\n"
     ]
    }
   ],
   "source": [
    "phr_to_ind = dict()\n",
    "\n",
    "with open('../../Datasets/SST1_dataset/dictionary.txt') as f:\n",
    "    for line in f:\n",
    "        entry = line.split('|')\n",
    "        phr_to_ind[entry[0]] = int(entry[1])\n",
    "\n",
    "keys = phr_to_ind.keys();\n",
    "\n",
    "print(len(phr_to_ind), phr_to_ind['Good'])"
   ]
  },
  {
   "cell_type": "markdown",
   "metadata": {
    "deletable": true,
    "editable": true
   },
   "source": [
    "### Getting Index corresponding to sentences"
   ]
  },
  {
   "cell_type": "code",
   "execution_count": 28,
   "metadata": {
    "collapsed": false,
    "deletable": true,
    "editable": true
   },
   "outputs": [
    {
     "name": "stdout",
     "output_type": "stream",
     "text": [
      "11855\n"
     ]
    }
   ],
   "source": [
    "# Without doing the below computation directly load the stored output\n",
    "sentence_list = []\n",
    "sentiment = []\n",
    "\n",
    "with open('../../Datasets/SST1_dataset/SentenceWithCorrection.txt') as f:\n",
    "    for line in f:\n",
    "        sent = line[:-1]\n",
    "        sentence_list.append(sent)\n",
    "        sentiment.append(phr_to_ind[sent])\n",
    "\n",
    "print(len(sentence_list))"
   ]
  },
  {
   "cell_type": "code",
   "execution_count": 29,
   "metadata": {
    "collapsed": false,
    "deletable": true,
    "editable": true
   },
   "outputs": [],
   "source": [
    "# sentence_list = []\n",
    "# sentiment = []\n",
    "\n",
    "# with open('../../Datasets/SST1_dataset/datasetSentences.txt') as f:\n",
    "#     f.readline()\n",
    "#     for line in f:\n",
    "#         entry = line.split('\\t')\n",
    "#         sent = entry[1][:-1]\n",
    "#         sent = sent.replace('-LRB-', '(')\n",
    "#         sent = sent.replace('-RRB-', ')')\n",
    "    \n",
    "#         if sent in phr_to_ind.keys():\n",
    "#             sentiment.append(phr_to_ind[sent])\n",
    "#         else:\n",
    "#             print('.', end=\"\")\n",
    "#             keys_subset = [k for k in keys if (k[0] == sent[0])]\n",
    "#             key = difflib.get_close_matches(sent, keys_subset, n=1);\n",
    "#             sent = key[0]\n",
    "#             sentiment.append(phr_to_ind[sent])\n",
    "            \n",
    "#         sentence_list.append(sent)\n",
    "        \n",
    "# print(len(sentence_list))\n",
    "\n",
    "# # Written the output in a file\n",
    "# f = open('../../Datasets/SST1_dataset/SentenceWithCorrection.txt', 'w')\n",
    "# for sent in sentence_list:\n",
    "#     f.write(sent + '\\n')\n",
    "# f.close()"
   ]
  },
  {
   "cell_type": "markdown",
   "metadata": {
    "deletable": true,
    "editable": true
   },
   "source": [
    "### Phrase Index -> Sentiment"
   ]
  },
  {
   "cell_type": "code",
   "execution_count": 30,
   "metadata": {
    "collapsed": false,
    "deletable": true,
    "editable": true
   },
   "outputs": [
    {
     "name": "stdout",
     "output_type": "stream",
     "text": [
      "239232\n"
     ]
    }
   ],
   "source": [
    "ind_to_senti = dict()\n",
    "\n",
    "with open('../../Datasets/SST1_dataset/sentiment_labels.txt') as f:\n",
    "    f.readline()\n",
    "    for line in f:\n",
    "        entry = line.split('|')\n",
    "        ind_to_senti[int(entry[0])] = float(entry[1])\n",
    "\n",
    "print(len(ind_to_senti))"
   ]
  },
  {
   "cell_type": "markdown",
   "metadata": {
    "deletable": true,
    "editable": true
   },
   "source": [
    "### Loading train, test and valid split info"
   ]
  },
  {
   "cell_type": "code",
   "execution_count": 31,
   "metadata": {
    "collapsed": false,
    "deletable": true,
    "editable": true
   },
   "outputs": [
    {
     "name": "stdout",
     "output_type": "stream",
     "text": [
      "11855\n",
      "9645 2210 0\n"
     ]
    }
   ],
   "source": [
    "split_ind = []\n",
    "with open('../../Datasets/SST1_dataset/datasetSplit.txt') as f:\n",
    "    f.readline()\n",
    "    for line in f:\n",
    "        entry = line.split(',')\n",
    "        split_ind.append(int(entry[1]))\n",
    "\n",
    "print(len(split_ind))\n",
    "\n",
    "for i in range(len(split_ind)):\n",
    "    if split_ind[i] == 3:\n",
    "        split_ind[i] = 1\n",
    "        \n",
    "N_train = split_ind.count(1)\n",
    "N_test = split_ind.count(2)\n",
    "N_valid = split_ind.count(3)\n",
    "print (N_train, N_test, N_valid)"
   ]
  },
  {
   "cell_type": "markdown",
   "metadata": {
    "deletable": true,
    "editable": true
   },
   "source": [
    "### Assigning label to sentences"
   ]
  },
  {
   "cell_type": "code",
   "execution_count": 32,
   "metadata": {
    "collapsed": false,
    "deletable": true,
    "editable": true
   },
   "outputs": [
    {
     "name": "stdout",
     "output_type": "stream",
     "text": [
      "1510 3140 2242 3111\n"
     ]
    }
   ],
   "source": [
    "N_sent = len(sentence_list);\n",
    "N_category = 5\n",
    "\n",
    "y_label = []\n",
    "\n",
    "for ind in sentiment:\n",
    "    val = ind_to_senti[ind]\n",
    "    if val >= 0.0 and val <= 0.2:\n",
    "        y_label.append(0);\n",
    "    elif val > 0.2 and val <= 0.4:\n",
    "        y_label.append(1)\n",
    "    elif val > 0.4 and val <= 0.6:\n",
    "        y_label.append(2)\n",
    "    elif val > 0.6 and val <= 0.8:\n",
    "        y_label.append(3)\n",
    "    else:\n",
    "        y_label.append(4)\n",
    "\n",
    "print(y_label.count(0), y_label.count(1), y_label.count(2), y_label.count(3))\n",
    "\n",
    "# Labels in one-hot encoding\n",
    "y_train = np.zeros((N_train, N_category), np.uint8)\n",
    "y_test  = np.zeros((N_test , N_category), np.uint8)\n",
    "y_valid = np.zeros((N_valid, N_category), np.uint8)\n",
    "\n",
    "c1,c2,c3 = 0,0,0\n",
    "for i in range(len(y_label)):\n",
    "    label = y_label[i]\n",
    "    if split_ind[i] == 1:\n",
    "        y_train[c1, label] = 1;  c1 += 1\n",
    "    elif split_ind[i] == 2:\n",
    "        y_test [c2, label] = 1;  c2 += 1\n",
    "    else:\n",
    "        y_valid[c3, label] = 1;  c3 += 1"
   ]
  },
  {
   "cell_type": "markdown",
   "metadata": {
    "deletable": true,
    "editable": true
   },
   "source": [
    "### Reducing the size of vocabulary"
   ]
  },
  {
   "cell_type": "code",
   "execution_count": 33,
   "metadata": {
    "collapsed": false,
    "deletable": true,
    "editable": true
   },
   "outputs": [
    {
     "name": "stdout",
     "output_type": "stream",
     "text": [
      "239232 21699\n"
     ]
    }
   ],
   "source": [
    "x_all = []\n",
    "max_sent_len = -1;\n",
    "max_wrd_len = -1\n",
    "wrd_to_ind = dict()\n",
    "\n",
    "ind_new = 1;\n",
    "for sent in sentence_list:\n",
    "    wrds = sent.split()\n",
    "    vec = []\n",
    "    for wrd in wrds:\n",
    "        if wrd not in wrd_to_ind.keys():\n",
    "            wrd_to_ind[wrd] = ind_new\n",
    "            ind_new += 1\n",
    "            \n",
    "        ind = wrd_to_ind[wrd]\n",
    "        vec.append(ind)\n",
    "            \n",
    "    max_sent_len = max(len(vec), max_sent_len)\n",
    "    x_all.append(vec)\n",
    "\n",
    "# Get inverse dictionary\n",
    "ind_to_wrd = dict((v, k) for k, v in wrd_to_ind.items())\n",
    "ind_to_wrd[0] = \"<PAD/>\"\n",
    "\n",
    "print(len(phr_to_ind), len(wrd_to_ind))"
   ]
  },
  {
   "cell_type": "markdown",
   "metadata": {
    "deletable": true,
    "editable": true
   },
   "source": [
    "### Create input features"
   ]
  },
  {
   "cell_type": "code",
   "execution_count": 34,
   "metadata": {
    "collapsed": false,
    "deletable": true,
    "editable": true
   },
   "outputs": [
    {
     "name": "stdout",
     "output_type": "stream",
     "text": [
      "9645 2210 0\n"
     ]
    }
   ],
   "source": [
    "x_train = np.zeros((N_train, max_sent_len), np.int32)\n",
    "x_test  = np.zeros((N_test,  max_sent_len), np.int32)\n",
    "x_valid = np.zeros((N_valid, max_sent_len), np.int32)\n",
    "\n",
    "c1, c2, c3 = 0,0,0\n",
    "for i in range(len(x_all)):\n",
    "    vec = x_all[i]\n",
    "    if split_ind[i] == 1:\n",
    "        x_train[c1,0:len(vec)] = np.int32(vec); \n",
    "        c1 += 1\n",
    "    elif split_ind[i] == 2:\n",
    "        x_test [c2,0:len(vec)] = np.int32(vec); \n",
    "        c2 += 1\n",
    "    else:\n",
    "        x_valid[c3,0:len(vec)] = np.int32(vec); \n",
    "        c3 += 1\n",
    "\n",
    "print(c1, c2, c3)"
   ]
  },
  {
   "cell_type": "markdown",
   "metadata": {
    "deletable": true,
    "editable": true
   },
   "source": [
    "# -------------------------------- Training model  -----------------------------------"
   ]
  },
  {
   "cell_type": "markdown",
   "metadata": {
    "deletable": true,
    "editable": true
   },
   "source": [
    "### Model Paremeters"
   ]
  },
  {
   "cell_type": "code",
   "execution_count": 35,
   "metadata": {
    "collapsed": true,
    "deletable": true,
    "editable": true
   },
   "outputs": [],
   "source": [
    "model_type    = 'CNN-rand'  # CNN-rand|CNN-non-static|CNN-static\n",
    "embedding_dim = 300         # word2vec dim\n",
    "vocab_size    = len(ind_to_wrd)"
   ]
  },
  {
   "cell_type": "markdown",
   "metadata": {
    "deletable": true,
    "editable": true
   },
   "source": [
    "### Generate word2vec "
   ]
  },
  {
   "cell_type": "code",
   "execution_count": 36,
   "metadata": {
    "collapsed": false,
    "deletable": true,
    "editable": true
   },
   "outputs": [],
   "source": [
    "if model_type in ['CNN-non-static', 'CNN-static']:\n",
    "    embedding_wts = train_word2vec( np.vstack((x_train, x_test, x_valid)), \n",
    "                                    ind_to_wrd, num_features = embedding_dim)\n",
    "    if model_type == 'CNN-static':\n",
    "        x_train = embedding_wts[0][x_train]\n",
    "        x_test  = embedding_wts[0][x_test]\n",
    "        x_valid = embedding_wts[0][x_valid]\n",
    "        \n",
    "elif model_type == 'CNN-rand':\n",
    "    embedding_wts = None\n",
    "    \n",
    "else:\n",
    "    raise ValueError(\"Unknown model type\")"
   ]
  },
  {
   "cell_type": "markdown",
   "metadata": {
    "deletable": true,
    "editable": true
   },
   "source": [
    "### Create model"
   ]
  },
  {
   "cell_type": "code",
   "execution_count": 37,
   "metadata": {
    "collapsed": false,
    "deletable": true,
    "editable": true
   },
   "outputs": [
    {
     "name": "stdout",
     "output_type": "stream",
     "text": [
      "____________________________________________________________________________________________________\n",
      "Layer (type)                     Output Shape          Param #     Connected to                     \n",
      "====================================================================================================\n",
      "input_2 (InputLayer)             (None, 56)            0                                            \n",
      "____________________________________________________________________________________________________\n",
      "embedding (Embedding)            (None, 56, 300)       6510000                                      \n",
      "____________________________________________________________________________________________________\n",
      "dropout_3 (Dropout)              (None, 56, 300)       0                                            \n",
      "____________________________________________________________________________________________________\n",
      "conv1d_4 (Conv1D)                (None, 54, 100)       90100                                        \n",
      "____________________________________________________________________________________________________\n",
      "conv1d_5 (Conv1D)                (None, 53, 100)       120100                                       \n",
      "____________________________________________________________________________________________________\n",
      "conv1d_6 (Conv1D)                (None, 52, 100)       150100                                       \n",
      "____________________________________________________________________________________________________\n",
      "max_pooling1d_4 (MaxPooling1D)   (None, 27, 100)       0                                            \n",
      "____________________________________________________________________________________________________\n",
      "max_pooling1d_5 (MaxPooling1D)   (None, 26, 100)       0                                            \n",
      "____________________________________________________________________________________________________\n",
      "max_pooling1d_6 (MaxPooling1D)   (None, 26, 100)       0                                            \n",
      "____________________________________________________________________________________________________\n",
      "flatten_4 (Flatten)              (None, 2700)          0                                            \n",
      "____________________________________________________________________________________________________\n",
      "flatten_5 (Flatten)              (None, 2600)          0                                            \n",
      "____________________________________________________________________________________________________\n",
      "flatten_6 (Flatten)              (None, 2600)          0                                            \n",
      "____________________________________________________________________________________________________\n",
      "concatenate_2 (Concatenate)      (None, 7900)          0                                            \n",
      "____________________________________________________________________________________________________\n",
      "dropout_4 (Dropout)              (None, 7900)          0                                            \n",
      "____________________________________________________________________________________________________\n",
      "dense_3 (Dense)                  (None, 100)           790100                                       \n",
      "____________________________________________________________________________________________________\n",
      "dense_4 (Dense)                  (None, 5)             505                                          \n",
      "====================================================================================================\n",
      "Total params: 7,660,905.0\n",
      "Trainable params: 7,660,905.0\n",
      "Non-trainable params: 0.0\n",
      "____________________________________________________________________________________________________\n"
     ]
    }
   ],
   "source": [
    "batch_size   = 50\n",
    "filter_sizes = [3,4,5]\n",
    "num_filters  = 100\n",
    "dropout_prob = (0.5, 0.8)\n",
    "hidden_dims  = 100\n",
    "\n",
    "l2_reg = 0.3\n",
    "embedding_dim = 300\n",
    "\n",
    "# Deciding dimension of input based on the model\n",
    "input_shape = (max_sent_len, embedding_dim) if model_type == \"CNN-static\" else (max_sent_len,)\n",
    "model_input = Input(shape = input_shape)\n",
    "\n",
    "# Static model do not have embedding layer\n",
    "if model_type == \"CNN-static\":\n",
    "    z = Dropout(dropout_prob[0])(model_input)\n",
    "else:\n",
    "    z = Embedding(vocab_size, embedding_dim, input_length = max_sent_len, name=\"embedding\")(model_input)\n",
    "    z = Dropout(dropout_prob[0])(z)\n",
    "\n",
    "# Convolution layers\n",
    "z1 = Conv1D(    filters=100, kernel_size=3, \n",
    "                padding=\"valid\", activation=\"relu\", \n",
    "                strides=1)(z)\n",
    "z1 = MaxPooling1D(pool_size=2)(z1)\n",
    "z1 = Flatten()(z1)\n",
    "\n",
    "z2 = Conv1D(    filters=100, kernel_size=4, \n",
    "                padding=\"valid\", activation=\"relu\", \n",
    "                strides=1)(z)\n",
    "z2 = MaxPooling1D(pool_size=2)(z2)\n",
    "z2 = Flatten()(z2)\n",
    "\n",
    "z3 = Conv1D(    filters=100, kernel_size=5, \n",
    "                padding=\"valid\", activation=\"relu\",\n",
    "                strides=1)(z)\n",
    "z3 = MaxPooling1D(pool_size=2)(z3)\n",
    "z3 = Flatten()(z3)\n",
    "\n",
    "# Concatenate the output of all convolution layers\n",
    "z = Concatenate()([z1, z2, z3])\n",
    "z = Dropout(dropout_prob[1])(z)\n",
    "\n",
    "# Dense(64, input_dim=64, kernel_regularizer=regularizers.l2(0.01), activity_regularizer=regularizers.l1(0.01))\n",
    "\n",
    "z = Dense(hidden_dims, activation=\"relu\", kernel_regularizer=regularizers.l2(0.01))(z)\n",
    "model_output = Dense(N_category, activation=\"sigmoid\")(z)\n",
    "    \n",
    "model = Model(model_input, model_output)\n",
    "model.compile(loss=\"categorical_crossentropy\", optimizer=optimizers.Adadelta(lr=1, decay=0.001), metrics=[\"accuracy\"])\n",
    "model.summary()"
   ]
  },
  {
   "cell_type": "markdown",
   "metadata": {
    "deletable": true,
    "editable": true
   },
   "source": [
    "### Train model "
   ]
  },
  {
   "cell_type": "code",
   "execution_count": 15,
   "metadata": {
    "collapsed": false,
    "deletable": true,
    "editable": true
   },
   "outputs": [
    {
     "name": "stdout",
     "output_type": "stream",
     "text": [
      "Train on 8544 samples, validate on 1101 samples\n",
      "Epoch 1/100\n",
      "32s - loss: 1.9798 - acc: 0.2623 - val_loss: 1.6068 - val_acc: 0.2534\n",
      "Epoch 2/100\n",
      "29s - loss: 1.5861 - acc: 0.2656 - val_loss: 1.5814 - val_acc: 0.2534\n",
      "Epoch 3/100\n",
      "29s - loss: 1.5775 - acc: 0.2667 - val_loss: 1.5816 - val_acc: 0.2534\n",
      "Epoch 4/100\n",
      "29s - loss: 1.5757 - acc: 0.2710 - val_loss: 1.5784 - val_acc: 0.2534\n",
      "Epoch 5/100\n",
      "29s - loss: 1.5740 - acc: 0.2681 - val_loss: 1.5773 - val_acc: 0.2534\n",
      "Epoch 6/100\n",
      "29s - loss: 1.5730 - acc: 0.2717 - val_loss: 1.5776 - val_acc: 0.2534\n",
      "Epoch 7/100\n",
      "29s - loss: 1.5737 - acc: 0.2711 - val_loss: 1.5775 - val_acc: 0.2534\n",
      "Epoch 8/100\n",
      "29s - loss: 1.5719 - acc: 0.2725 - val_loss: 1.5764 - val_acc: 0.2534\n",
      "Epoch 9/100\n",
      "29s - loss: 1.5717 - acc: 0.2717 - val_loss: 1.5756 - val_acc: 0.2534\n",
      "Epoch 10/100\n",
      "29s - loss: 1.5715 - acc: 0.2708 - val_loss: 1.5764 - val_acc: 0.2534\n",
      "Epoch 11/100\n",
      "29s - loss: 1.5709 - acc: 0.2719 - val_loss: 1.5761 - val_acc: 0.2534\n",
      "Epoch 12/100\n",
      "29s - loss: 1.5701 - acc: 0.2721 - val_loss: 1.5756 - val_acc: 0.2534\n",
      "Epoch 13/100\n",
      "29s - loss: 1.5697 - acc: 0.2694 - val_loss: 1.5759 - val_acc: 0.2534\n",
      "Epoch 14/100\n",
      "29s - loss: 1.5695 - acc: 0.2719 - val_loss: 1.5757 - val_acc: 0.2534\n",
      "Epoch 15/100\n",
      "29s - loss: 1.5687 - acc: 0.2714 - val_loss: 1.5754 - val_acc: 0.2534\n",
      "Epoch 16/100\n",
      "29s - loss: 1.5678 - acc: 0.2718 - val_loss: 1.5764 - val_acc: 0.2534\n",
      "Epoch 17/100\n",
      "29s - loss: 1.5668 - acc: 0.2766 - val_loss: 1.5754 - val_acc: 0.2534\n",
      "Epoch 18/100\n",
      "29s - loss: 1.5654 - acc: 0.2728 - val_loss: 1.5753 - val_acc: 0.2534\n",
      "Epoch 19/100\n",
      "29s - loss: 1.5643 - acc: 0.2759 - val_loss: 1.5757 - val_acc: 0.2507\n",
      "Epoch 20/100\n",
      "29s - loss: 1.5628 - acc: 0.2749 - val_loss: 1.5743 - val_acc: 0.2525\n",
      "Epoch 21/100\n",
      "29s - loss: 1.5597 - acc: 0.2732 - val_loss: 1.5760 - val_acc: 0.2534\n",
      "Epoch 22/100\n",
      "29s - loss: 1.5587 - acc: 0.2773 - val_loss: 1.5736 - val_acc: 0.2507\n",
      "Epoch 23/100\n",
      "29s - loss: 1.5561 - acc: 0.2782 - val_loss: 1.5745 - val_acc: 0.2616\n",
      "Epoch 24/100\n",
      "29s - loss: 1.5545 - acc: 0.2836 - val_loss: 1.5710 - val_acc: 0.2643\n",
      "Epoch 25/100\n",
      "29s - loss: 1.5522 - acc: 0.2858 - val_loss: 1.5700 - val_acc: 0.2743\n",
      "Epoch 26/100\n",
      "29s - loss: 1.5490 - acc: 0.2884 - val_loss: 1.5695 - val_acc: 0.2743\n",
      "Epoch 27/100\n",
      "29s - loss: 1.5466 - acc: 0.2846 - val_loss: 1.5674 - val_acc: 0.2797\n",
      "Epoch 28/100\n",
      "29s - loss: 1.5437 - acc: 0.2884 - val_loss: 1.5654 - val_acc: 0.2870\n",
      "Epoch 29/100\n",
      "29s - loss: 1.5407 - acc: 0.2946 - val_loss: 1.5646 - val_acc: 0.2843\n",
      "Epoch 30/100\n",
      "29s - loss: 1.5377 - acc: 0.3004 - val_loss: 1.5633 - val_acc: 0.2888\n",
      "Epoch 31/100\n",
      "29s - loss: 1.5366 - acc: 0.2924 - val_loss: 1.5615 - val_acc: 0.2888\n",
      "Epoch 32/100\n",
      "29s - loss: 1.5349 - acc: 0.2986 - val_loss: 1.5594 - val_acc: 0.2888\n",
      "Epoch 33/100\n",
      "29s - loss: 1.5319 - acc: 0.3035 - val_loss: 1.5585 - val_acc: 0.2943\n",
      "Epoch 34/100\n",
      "29s - loss: 1.5299 - acc: 0.3043 - val_loss: 1.5571 - val_acc: 0.2861\n",
      "Epoch 35/100\n",
      "29s - loss: 1.5275 - acc: 0.3055 - val_loss: 1.5547 - val_acc: 0.2888\n",
      "Epoch 36/100\n",
      "29s - loss: 1.5251 - acc: 0.3057 - val_loss: 1.5539 - val_acc: 0.2961\n",
      "Epoch 37/100\n",
      "29s - loss: 1.5226 - acc: 0.3082 - val_loss: 1.5534 - val_acc: 0.2961\n",
      "Epoch 38/100\n",
      "29s - loss: 1.5205 - acc: 0.3105 - val_loss: 1.5513 - val_acc: 0.2988\n",
      "Epoch 39/100\n",
      "29s - loss: 1.5178 - acc: 0.3111 - val_loss: 1.5505 - val_acc: 0.2997\n",
      "Epoch 40/100\n",
      "29s - loss: 1.5153 - acc: 0.3164 - val_loss: 1.5500 - val_acc: 0.2979\n",
      "Epoch 41/100\n",
      "29s - loss: 1.5136 - acc: 0.3123 - val_loss: 1.5488 - val_acc: 0.2988\n",
      "Epoch 42/100\n",
      "29s - loss: 1.5119 - acc: 0.3136 - val_loss: 1.5466 - val_acc: 0.3034\n",
      "Epoch 43/100\n",
      "29s - loss: 1.5083 - acc: 0.3176 - val_loss: 1.5477 - val_acc: 0.3043\n",
      "Epoch 44/100\n",
      "29s - loss: 1.5081 - acc: 0.3181 - val_loss: 1.5466 - val_acc: 0.3061\n",
      "Epoch 45/100\n",
      "29s - loss: 1.5046 - acc: 0.3184 - val_loss: 1.5443 - val_acc: 0.3070\n",
      "Epoch 46/100\n",
      "29s - loss: 1.5042 - acc: 0.3181 - val_loss: 1.5440 - val_acc: 0.3061\n",
      "Epoch 47/100\n",
      "29s - loss: 1.5004 - acc: 0.3224 - val_loss: 1.5418 - val_acc: 0.3061\n",
      "Epoch 48/100\n",
      "29s - loss: 1.4998 - acc: 0.3291 - val_loss: 1.5408 - val_acc: 0.3079\n",
      "Epoch 49/100\n",
      "29s - loss: 1.4952 - acc: 0.3249 - val_loss: 1.5414 - val_acc: 0.3079\n",
      "Epoch 50/100\n",
      "29s - loss: 1.4938 - acc: 0.3226 - val_loss: 1.5399 - val_acc: 0.3061\n",
      "Epoch 51/100\n",
      "29s - loss: 1.4924 - acc: 0.3277 - val_loss: 1.5390 - val_acc: 0.3088\n",
      "Epoch 52/100\n",
      "29s - loss: 1.4878 - acc: 0.3309 - val_loss: 1.5372 - val_acc: 0.3124\n",
      "Epoch 53/100\n",
      "29s - loss: 1.4861 - acc: 0.3325 - val_loss: 1.5372 - val_acc: 0.3134\n",
      "Epoch 54/100\n",
      "29s - loss: 1.4846 - acc: 0.3283 - val_loss: 1.5365 - val_acc: 0.3115\n",
      "Epoch 55/100\n",
      "29s - loss: 1.4814 - acc: 0.3344 - val_loss: 1.5360 - val_acc: 0.3115\n",
      "Epoch 56/100\n",
      "29s - loss: 1.4789 - acc: 0.3338 - val_loss: 1.5340 - val_acc: 0.3134\n",
      "Epoch 57/100\n",
      "29s - loss: 1.4751 - acc: 0.3373 - val_loss: 1.5345 - val_acc: 0.3134\n",
      "Epoch 58/100\n",
      "29s - loss: 1.4733 - acc: 0.3382 - val_loss: 1.5326 - val_acc: 0.3124\n",
      "Epoch 59/100\n",
      "29s - loss: 1.4720 - acc: 0.3398 - val_loss: 1.5329 - val_acc: 0.3143\n",
      "Epoch 60/100\n",
      "29s - loss: 1.4692 - acc: 0.3413 - val_loss: 1.5329 - val_acc: 0.3124\n",
      "Epoch 61/100\n",
      "29s - loss: 1.4671 - acc: 0.3411 - val_loss: 1.5306 - val_acc: 0.3161\n",
      "Epoch 62/100\n",
      "29s - loss: 1.4658 - acc: 0.3416 - val_loss: 1.5289 - val_acc: 0.3143\n",
      "Epoch 63/100\n",
      "29s - loss: 1.4587 - acc: 0.3464 - val_loss: 1.5295 - val_acc: 0.3188\n",
      "Epoch 64/100\n",
      "29s - loss: 1.4592 - acc: 0.3432 - val_loss: 1.5269 - val_acc: 0.3161\n",
      "Epoch 65/100\n",
      "29s - loss: 1.4545 - acc: 0.3474 - val_loss: 1.5260 - val_acc: 0.3170\n",
      "Epoch 66/100\n",
      "29s - loss: 1.4537 - acc: 0.3488 - val_loss: 1.5251 - val_acc: 0.3179\n",
      "Epoch 67/100\n",
      "29s - loss: 1.4499 - acc: 0.3503 - val_loss: 1.5249 - val_acc: 0.3179\n",
      "Epoch 68/100\n",
      "29s - loss: 1.4454 - acc: 0.3525 - val_loss: 1.5239 - val_acc: 0.3197\n",
      "Epoch 69/100\n",
      "29s - loss: 1.4418 - acc: 0.3557 - val_loss: 1.5249 - val_acc: 0.3224\n",
      "Epoch 70/100\n",
      "29s - loss: 1.4447 - acc: 0.3528 - val_loss: 1.5205 - val_acc: 0.3224\n",
      "Epoch 71/100\n",
      "29s - loss: 1.4387 - acc: 0.3576 - val_loss: 1.5204 - val_acc: 0.3233\n",
      "Epoch 72/100\n",
      "29s - loss: 1.4375 - acc: 0.3560 - val_loss: 1.5224 - val_acc: 0.3233\n",
      "Epoch 73/100\n",
      "29s - loss: 1.4335 - acc: 0.3569 - val_loss: 1.5177 - val_acc: 0.3279\n",
      "Epoch 74/100\n",
      "30s - loss: 1.4295 - acc: 0.3621 - val_loss: 1.5182 - val_acc: 0.3243\n",
      "Epoch 75/100\n",
      "29s - loss: 1.4290 - acc: 0.3626 - val_loss: 1.5175 - val_acc: 0.3297\n",
      "Epoch 76/100\n",
      "29s - loss: 1.4254 - acc: 0.3653 - val_loss: 1.5163 - val_acc: 0.3233\n",
      "Epoch 77/100\n",
      "29s - loss: 1.4216 - acc: 0.3681 - val_loss: 1.5139 - val_acc: 0.3306\n",
      "Epoch 78/100\n",
      "29s - loss: 1.4170 - acc: 0.3713 - val_loss: 1.5160 - val_acc: 0.3342\n",
      "Epoch 79/100\n",
      "29s - loss: 1.4137 - acc: 0.3741 - val_loss: 1.5131 - val_acc: 0.3315\n",
      "Epoch 80/100\n",
      "29s - loss: 1.4150 - acc: 0.3732 - val_loss: 1.5122 - val_acc: 0.3342\n",
      "Epoch 81/100\n",
      "28s - loss: 1.4103 - acc: 0.3837 - val_loss: 1.5121 - val_acc: 0.3370\n",
      "Epoch 82/100\n",
      "33s - loss: 1.4106 - acc: 0.3817 - val_loss: 1.5121 - val_acc: 0.3406\n",
      "Epoch 83/100\n",
      "29s - loss: 1.4054 - acc: 0.3847 - val_loss: 1.5104 - val_acc: 0.3451\n",
      "Epoch 84/100\n",
      "29s - loss: 1.4004 - acc: 0.3910 - val_loss: 1.5100 - val_acc: 0.3379\n",
      "Epoch 85/100\n",
      "29s - loss: 1.4021 - acc: 0.3893 - val_loss: 1.5092 - val_acc: 0.3406\n",
      "Epoch 86/100\n",
      "29s - loss: 1.3962 - acc: 0.3935 - val_loss: 1.5085 - val_acc: 0.3451\n",
      "Epoch 87/100\n",
      "29s - loss: 1.3959 - acc: 0.3981 - val_loss: 1.5086 - val_acc: 0.3488\n",
      "Epoch 88/100\n",
      "29s - loss: 1.3918 - acc: 0.3970 - val_loss: 1.5073 - val_acc: 0.3497\n",
      "Epoch 89/100\n",
      "29s - loss: 1.3867 - acc: 0.4027 - val_loss: 1.5075 - val_acc: 0.3488\n",
      "Epoch 90/100\n",
      "29s - loss: 1.3842 - acc: 0.4058 - val_loss: 1.5090 - val_acc: 0.3506\n",
      "Epoch 91/100\n",
      "29s - loss: 1.3848 - acc: 0.4078 - val_loss: 1.5069 - val_acc: 0.3506\n",
      "Epoch 92/100\n",
      "29s - loss: 1.3780 - acc: 0.4180 - val_loss: 1.5084 - val_acc: 0.3488\n",
      "Epoch 93/100\n",
      "29s - loss: 1.3766 - acc: 0.4109 - val_loss: 1.5061 - val_acc: 0.3497\n",
      "Epoch 94/100\n",
      "29s - loss: 1.3763 - acc: 0.4161 - val_loss: 1.5082 - val_acc: 0.3488\n",
      "Epoch 95/100\n",
      "29s - loss: 1.3766 - acc: 0.4158 - val_loss: 1.5044 - val_acc: 0.3488\n",
      "Epoch 96/100\n",
      "29s - loss: 1.3709 - acc: 0.4195 - val_loss: 1.5054 - val_acc: 0.3470\n",
      "Epoch 97/100\n",
      "29s - loss: 1.3700 - acc: 0.4190 - val_loss: 1.5057 - val_acc: 0.3451\n",
      "Epoch 98/100\n",
      "29s - loss: 1.3645 - acc: 0.4240 - val_loss: 1.5025 - val_acc: 0.3515\n",
      "Epoch 99/100\n",
      "29s - loss: 1.3659 - acc: 0.4226 - val_loss: 1.5062 - val_acc: 0.3506\n",
      "Epoch 100/100\n",
      "29s - loss: 1.3626 - acc: 0.4217 - val_loss: 1.5053 - val_acc: 0.3415\n"
     ]
    }
   ],
   "source": [
    "if model_type == \"CNN-non-static\":\n",
    "    embedding_layer = model.get_layer(\"embedding\")\n",
    "    embedding_layer.set_weights(embedding_wts)\n",
    "\n",
    "res = model.fit(x_train, y_train, \n",
    "          batch_size = batch_size,\n",
    "          epochs=100,\n",
    "          validation_data=(x_test, y_test), verbose=2)"
   ]
  },
  {
   "cell_type": "markdown",
   "metadata": {
    "deletable": true,
    "editable": true
   },
   "source": [
    "### Computing Accuracy"
   ]
  },
  {
   "cell_type": "code",
   "execution_count": 69,
   "metadata": {
    "collapsed": false,
    "deletable": true,
    "editable": true
   },
   "outputs": [
    {
     "name": "stdout",
     "output_type": "stream",
     "text": [
      "Training Accuracy 76.6200103681\n",
      "Testing Accuracy 39.185520362\n"
     ]
    }
   ],
   "source": [
    "# Training Accuracy\n",
    "predictions = model.predict(x_train)\n",
    "pred_train = np.argmax(predictions, axis=1)\n",
    "train_label = np.argmax(y_train, axis=1)\n",
    "print('Training Accuracy', np.sum(pred_train == train_label) / N_train * 100)\n",
    "\n",
    "# # Training Accuracy\n",
    "# predictions = model.predict(x_valid)\n",
    "# pred_valid = np.argmax(predictions, axis=1)\n",
    "# valid_label = np.argmax(y_valid, axis=1)\n",
    "# print('Validation Accuracy', np.sum(pred_valid == valid_label) / N_valid * 100)\n",
    "\n",
    "# Test Accuracy\n",
    "predictions = model.predict(x_test)\n",
    "pred_test = np.argmax(predictions, axis=1)\n",
    "test_label = np.argmax(y_test, axis=1)\n",
    "print('Testing Accuracy', np.sum(pred_test == test_label) / N_test * 100)"
   ]
  },
  {
   "cell_type": "markdown",
   "metadata": {},
   "source": [
    "### Save the model"
   ]
  },
  {
   "cell_type": "code",
   "execution_count": 43,
   "metadata": {
    "collapsed": false,
    "deletable": true,
    "editable": true
   },
   "outputs": [],
   "source": [
    "date = str(datetime.date.today() )\n",
    "time = str(datetime.datetime.now().time())[:-7]\n",
    "\n",
    "filename = '/home/shikhar/Datasets/Models/' + model_type + '_' + date + '_' +time;\n",
    "with open( filename, 'wb') as output:\n",
    "    pickle.dump([res.model.get_config(), res.model.get_weights(), res.history], output, pickle.HIGHEST_PROTOCOL)\n",
    "    \n",
    "## Loading saved data\n",
    "# with open( filename, 'rb') as input:\n",
    "#     out = pickle.load(input)"
   ]
  },
  {
   "cell_type": "markdown",
   "metadata": {},
   "source": [
    "### Plot the results"
   ]
  },
  {
   "cell_type": "code",
   "execution_count": 62,
   "metadata": {
    "collapsed": false,
    "deletable": true,
    "editable": true
   },
   "outputs": [
    {
     "data": {
      "image/png": "[encoded data removed]",
      "text/plain": [
       "<matplotlib.figure.Figure at 0x7f90bfad7198>"
      ]
     },
     "metadata": {},
     "output_type": "display_data"
    }
   ],
   "source": [
    "import matplotlib.pyplot as plt\n",
    "plt.style.use('ggplot')\n",
    "\n",
    "plt.rcParams[\"figure.figsize\"] = (10,6)\n",
    "plt.plot(res.history['acc'])\n",
    "plt.plot(res.history['loss'])\n",
    "plt.plot(res.history['val_acc'])\n",
    "plt.plot(res.history['val_loss'])\n",
    "plt.legend(['Train acc','Train loss','Valid acc', 'Valid loss'], loc=2)\n",
    "plt.xlabel('Epochs')\n",
    "plt.ylabel('Loss/Accuracy')\n",
    "plt.title('Using '+ model_type)\n",
    "imgName = 'Images/' + model_type + '_' + date + '_' + time + '.jpg'\n",
    "plt.savefig( imgName, dpi= 200, bbox_inches='tight', transparent=False)\n",
    "plt.show()"
   ]
  },
  {
   "cell_type": "markdown",
   "metadata": {},
   "source": [
    "### Save the model (marking as continued)"
   ]
  },
  {
   "cell_type": "code",
   "execution_count": 70,
   "metadata": {
    "collapsed": false,
    "deletable": true,
    "editable": true
   },
   "outputs": [],
   "source": [
    "date = str(datetime.date.today() )\n",
    "time = str(datetime.datetime.now().time())[:-7]\n",
    "\n",
    "filename = '/home/shikhar/Datasets/Models/' + model_type + '_continued_' + date + '_' +time;\n",
    "with open( filename, 'wb') as output:\n",
    "    pickle.dump([model.get_config(), model.get_weights(), model.history.history], output, pickle.HIGHEST_PROTOCOL)"
   ]
  },
  {
   "cell_type": "markdown",
   "metadata": {},
   "source": [
    "### Continue from a pretrained model"
   ]
  },
  {
   "cell_type": "code",
   "execution_count": 72,
   "metadata": {
    "collapsed": false
   },
   "outputs": [
    {
     "name": "stdout",
     "output_type": "stream",
     "text": [
      "Train on 9645 samples, validate on 2210 samples\n",
      "Epoch 1/50\n"
     ]
    },
    {
     "ename": "ResourceExhaustedError",
     "evalue": "OOM when allocating tensor with shape[21700,300]\n\t [[Node: mul_1128 = Mul[T=DT_FLOAT, _device=\"/job:localhost/replica:0/task:0/gpu:0\"](mul_1128/x, Variable_351/read)]]\n\t [[Node: Mean_71/_1523 = _Recv[client_terminated=false, recv_device=\"/job:localhost/replica:0/task:0/cpu:0\", send_device=\"/job:localhost/replica:0/task:0/gpu:0\", send_device_incarnation=1, tensor_name=\"edge_419_Mean_71\", tensor_type=DT_FLOAT, _device=\"/job:localhost/replica:0/task:0/cpu:0\"]()]]\n\nCaused by op 'mul_1128', defined at:\n  File \"/usr/lib/python3.5/runpy.py\", line 184, in _run_module_as_main\n    \"__main__\", mod_spec)\n  File \"/usr/lib/python3.5/runpy.py\", line 85, in _run_code\n    exec(code, run_globals)\n  File \"/home/shikhar/.local/lib/python3.5/site-packages/ipykernel/__main__.py\", line 3, in <module>\n    app.launch_new_instance()\n  File \"/usr/local/lib/python3.5/dist-packages/traitlets/config/application.py\", line 658, in launch_instance\n    app.start()\n  File \"/home/shikhar/.local/lib/python3.5/site-packages/ipykernel/kernelapp.py\", line 474, in start\n    ioloop.IOLoop.instance().start()\n  File \"/home/shikhar/.local/lib/python3.5/site-packages/zmq/eventloop/ioloop.py\", line 177, in start\n    super(ZMQIOLoop, self).start()\n  File \"/home/shikhar/.local/lib/python3.5/site-packages/tornado/ioloop.py\", line 887, in start\n    handler_func(fd_obj, events)\n  File \"/home/shikhar/.local/lib/python3.5/site-packages/tornado/stack_context.py\", line 275, in null_wrapper\n    return fn(*args, **kwargs)\n  File \"/home/shikhar/.local/lib/python3.5/site-packages/zmq/eventloop/zmqstream.py\", line 440, in _handle_events\n    self._handle_recv()\n  File \"/home/shikhar/.local/lib/python3.5/site-packages/zmq/eventloop/zmqstream.py\", line 472, in _handle_recv\n    self._run_callback(callback, msg)\n  File \"/home/shikhar/.local/lib/python3.5/site-packages/zmq/eventloop/zmqstream.py\", line 414, in _run_callback\n    callback(*args, **kwargs)\n  File \"/home/shikhar/.local/lib/python3.5/site-packages/tornado/stack_context.py\", line 275, in null_wrapper\n    return fn(*args, **kwargs)\n  File \"/home/shikhar/.local/lib/python3.5/site-packages/ipykernel/kernelbase.py\", line 276, in dispatcher\n    return self.dispatch_shell(stream, msg)\n  File \"/home/shikhar/.local/lib/python3.5/site-packages/ipykernel/kernelbase.py\", line 228, in dispatch_shell\n    handler(stream, idents, msg)\n  File \"/home/shikhar/.local/lib/python3.5/site-packages/ipykernel/kernelbase.py\", line 390, in execute_request\n    user_expressions, allow_stdin)\n  File \"/home/shikhar/.local/lib/python3.5/site-packages/ipykernel/ipkernel.py\", line 196, in do_execute\n    res = shell.run_cell(code, store_history=store_history, silent=silent)\n  File \"/home/shikhar/.local/lib/python3.5/site-packages/ipykernel/zmqshell.py\", line 501, in run_cell\n    return super(ZMQInteractiveShell, self).run_cell(*args, **kwargs)\n  File \"/usr/local/lib/python3.5/dist-packages/IPython/core/interactiveshell.py\", line 2717, in run_cell\n    interactivity=interactivity, compiler=compiler, result=result)\n  File \"/usr/local/lib/python3.5/dist-packages/IPython/core/interactiveshell.py\", line 2821, in run_ast_nodes\n    if self.run_code(code, result):\n  File \"/usr/local/lib/python3.5/dist-packages/IPython/core/interactiveshell.py\", line 2881, in run_code\n    exec(code_obj, self.user_global_ns, self.user_ns)\n  File \"<ipython-input-72-e03c83271473>\", line 14, in <module>\n    validation_data=(x_test, y_test), verbose=2)\n  File \"/usr/local/lib/python3.5/dist-packages/keras/engine/training.py\", line 1457, in fit\n    self._make_train_function()\n  File \"/usr/local/lib/python3.5/dist-packages/keras/engine/training.py\", line 1001, in _make_train_function\n    self.total_loss)\n  File \"/usr/local/lib/python3.5/dist-packages/keras/optimizers.py\", line 340, in get_updates\n    new_d_a = self.rho * d_a + (1 - self.rho) * K.square(update)\n  File \"/usr/local/lib/python3.5/dist-packages/tensorflow/python/ops/variables.py\", line 677, in _run_op\n    return getattr(ops.Tensor, operator)(a._AsTensor(), *args)\n  File \"/usr/local/lib/python3.5/dist-packages/tensorflow/python/ops/math_ops.py\", line 808, in r_binary_op_wrapper\n    return func(x, y, name=name)\n  File \"/usr/local/lib/python3.5/dist-packages/tensorflow/python/ops/math_ops.py\", line 1015, in _mul_dispatch\n    return gen_math_ops._mul(x, y, name=name)\n  File \"/usr/local/lib/python3.5/dist-packages/tensorflow/python/ops/gen_math_ops.py\", line 1625, in _mul\n    result = _op_def_lib.apply_op(\"Mul\", x=x, y=y, name=name)\n  File \"/usr/local/lib/python3.5/dist-packages/tensorflow/python/framework/op_def_library.py\", line 763, in apply_op\n    op_def=op_def)\n  File \"/usr/local/lib/python3.5/dist-packages/tensorflow/python/framework/ops.py\", line 2327, in create_op\n    original_op=self._default_original_op, op_def=op_def)\n  File \"/usr/local/lib/python3.5/dist-packages/tensorflow/python/framework/ops.py\", line 1226, in __init__\n    self._traceback = _extract_stack()\n\nResourceExhaustedError (see above for traceback): OOM when allocating tensor with shape[21700,300]\n\t [[Node: mul_1128 = Mul[T=DT_FLOAT, _device=\"/job:localhost/replica:0/task:0/gpu:0\"](mul_1128/x, Variable_351/read)]]\n\t [[Node: Mean_71/_1523 = _Recv[client_terminated=false, recv_device=\"/job:localhost/replica:0/task:0/cpu:0\", send_device=\"/job:localhost/replica:0/task:0/gpu:0\", send_device_incarnation=1, tensor_name=\"edge_419_Mean_71\", tensor_type=DT_FLOAT, _device=\"/job:localhost/replica:0/task:0/cpu:0\"]()]]\n",
     "output_type": "error",
     "traceback": [
      "\u001b[0;31m---------------------------------------------------------------------------\u001b[0m",
      "\u001b[0;31mResourceExhaustedError\u001b[0m                    Traceback (most recent call last)",
      "\u001b[0;32m/usr/local/lib/python3.5/dist-packages/tensorflow/python/client/session.py\u001b[0m in \u001b[0;36m_do_call\u001b[0;34m(self, fn, *args)\u001b[0m\n\u001b[1;32m   1021\u001b[0m     \u001b[0;32mtry\u001b[0m\u001b[0;34m:\u001b[0m\u001b[0;34m\u001b[0m\u001b[0m\n\u001b[0;32m-> 1022\u001b[0;31m       \u001b[0;32mreturn\u001b[0m \u001b[0mfn\u001b[0m\u001b[0;34m(\u001b[0m\u001b[0;34m*\u001b[0m\u001b[0margs\u001b[0m\u001b[0;34m)\u001b[0m\u001b[0;34m\u001b[0m\u001b[0m\n\u001b[0m\u001b[1;32m   1023\u001b[0m     \u001b[0;32mexcept\u001b[0m \u001b[0merrors\u001b[0m\u001b[0;34m.\u001b[0m\u001b[0mOpError\u001b[0m \u001b[0;32mas\u001b[0m \u001b[0me\u001b[0m\u001b[0;34m:\u001b[0m\u001b[0;34m\u001b[0m\u001b[0m\n",
      "\u001b[0;32m/usr/local/lib/python3.5/dist-packages/tensorflow/python/client/session.py\u001b[0m in \u001b[0;36m_run_fn\u001b[0;34m(session, feed_dict, fetch_list, target_list, options, run_metadata)\u001b[0m\n\u001b[1;32m   1003\u001b[0m                                  \u001b[0mfeed_dict\u001b[0m\u001b[0;34m,\u001b[0m \u001b[0mfetch_list\u001b[0m\u001b[0;34m,\u001b[0m \u001b[0mtarget_list\u001b[0m\u001b[0;34m,\u001b[0m\u001b[0;34m\u001b[0m\u001b[0m\n\u001b[0;32m-> 1004\u001b[0;31m                                  status, run_metadata)\n\u001b[0m\u001b[1;32m   1005\u001b[0m \u001b[0;34m\u001b[0m\u001b[0m\n",
      "\u001b[0;32m/usr/lib/python3.5/contextlib.py\u001b[0m in \u001b[0;36m__exit__\u001b[0;34m(self, type, value, traceback)\u001b[0m\n\u001b[1;32m     65\u001b[0m             \u001b[0;32mtry\u001b[0m\u001b[0;34m:\u001b[0m\u001b[0;34m\u001b[0m\u001b[0m\n\u001b[0;32m---> 66\u001b[0;31m                 \u001b[0mnext\u001b[0m\u001b[0;34m(\u001b[0m\u001b[0mself\u001b[0m\u001b[0;34m.\u001b[0m\u001b[0mgen\u001b[0m\u001b[0;34m)\u001b[0m\u001b[0;34m\u001b[0m\u001b[0m\n\u001b[0m\u001b[1;32m     67\u001b[0m             \u001b[0;32mexcept\u001b[0m \u001b[0mStopIteration\u001b[0m\u001b[0;34m:\u001b[0m\u001b[0;34m\u001b[0m\u001b[0m\n",
      "\u001b[0;32m/usr/local/lib/python3.5/dist-packages/tensorflow/python/framework/errors_impl.py\u001b[0m in \u001b[0;36mraise_exception_on_not_ok_status\u001b[0;34m()\u001b[0m\n\u001b[1;32m    465\u001b[0m           \u001b[0mcompat\u001b[0m\u001b[0;34m.\u001b[0m\u001b[0mas_text\u001b[0m\u001b[0;34m(\u001b[0m\u001b[0mpywrap_tensorflow\u001b[0m\u001b[0;34m.\u001b[0m\u001b[0mTF_Message\u001b[0m\u001b[0;34m(\u001b[0m\u001b[0mstatus\u001b[0m\u001b[0;34m)\u001b[0m\u001b[0;34m)\u001b[0m\u001b[0;34m,\u001b[0m\u001b[0;34m\u001b[0m\u001b[0m\n\u001b[0;32m--> 466\u001b[0;31m           pywrap_tensorflow.TF_GetCode(status))\n\u001b[0m\u001b[1;32m    467\u001b[0m   \u001b[0;32mfinally\u001b[0m\u001b[0;34m:\u001b[0m\u001b[0;34m\u001b[0m\u001b[0m\n",
      "\u001b[0;31mResourceExhaustedError\u001b[0m: OOM when allocating tensor with shape[21700,300]\n\t [[Node: mul_1128 = Mul[T=DT_FLOAT, _device=\"/job:localhost/replica:0/task:0/gpu:0\"](mul_1128/x, Variable_351/read)]]\n\t [[Node: Mean_71/_1523 = _Recv[client_terminated=false, recv_device=\"/job:localhost/replica:0/task:0/cpu:0\", send_device=\"/job:localhost/replica:0/task:0/gpu:0\", send_device_incarnation=1, tensor_name=\"edge_419_Mean_71\", tensor_type=DT_FLOAT, _device=\"/job:localhost/replica:0/task:0/cpu:0\"]()]]",
      "\nDuring handling of the above exception, another exception occurred:\n",
      "\u001b[0;31mResourceExhaustedError\u001b[0m                    Traceback (most recent call last)",
      "\u001b[0;32m<ipython-input-72-e03c83271473>\u001b[0m in \u001b[0;36m<module>\u001b[0;34m()\u001b[0m\n\u001b[1;32m     12\u001b[0m           \u001b[0mbatch_size\u001b[0m \u001b[0;34m=\u001b[0m \u001b[0mbatch_size\u001b[0m\u001b[0;34m,\u001b[0m\u001b[0;34m\u001b[0m\u001b[0m\n\u001b[1;32m     13\u001b[0m           \u001b[0mepochs\u001b[0m\u001b[0;34m=\u001b[0m\u001b[0;36m50\u001b[0m\u001b[0;34m,\u001b[0m\u001b[0;34m\u001b[0m\u001b[0m\n\u001b[0;32m---> 14\u001b[0;31m           validation_data=(x_test, y_test), verbose=2)\n\u001b[0m",
      "\u001b[0;32m/usr/local/lib/python3.5/dist-packages/keras/engine/training.py\u001b[0m in \u001b[0;36mfit\u001b[0;34m(self, x, y, batch_size, epochs, verbose, callbacks, validation_split, validation_data, shuffle, class_weight, sample_weight, initial_epoch, **kwargs)\u001b[0m\n\u001b[1;32m   1483\u001b[0m                               \u001b[0mval_f\u001b[0m\u001b[0;34m=\u001b[0m\u001b[0mval_f\u001b[0m\u001b[0;34m,\u001b[0m \u001b[0mval_ins\u001b[0m\u001b[0;34m=\u001b[0m\u001b[0mval_ins\u001b[0m\u001b[0;34m,\u001b[0m \u001b[0mshuffle\u001b[0m\u001b[0;34m=\u001b[0m\u001b[0mshuffle\u001b[0m\u001b[0;34m,\u001b[0m\u001b[0;34m\u001b[0m\u001b[0m\n\u001b[1;32m   1484\u001b[0m                               \u001b[0mcallback_metrics\u001b[0m\u001b[0;34m=\u001b[0m\u001b[0mcallback_metrics\u001b[0m\u001b[0;34m,\u001b[0m\u001b[0;34m\u001b[0m\u001b[0m\n\u001b[0;32m-> 1485\u001b[0;31m                               initial_epoch=initial_epoch)\n\u001b[0m\u001b[1;32m   1486\u001b[0m \u001b[0;34m\u001b[0m\u001b[0m\n\u001b[1;32m   1487\u001b[0m     \u001b[0;32mdef\u001b[0m \u001b[0mevaluate\u001b[0m\u001b[0;34m(\u001b[0m\u001b[0mself\u001b[0m\u001b[0;34m,\u001b[0m \u001b[0mx\u001b[0m\u001b[0;34m,\u001b[0m \u001b[0my\u001b[0m\u001b[0;34m,\u001b[0m \u001b[0mbatch_size\u001b[0m\u001b[0;34m=\u001b[0m\u001b[0;36m32\u001b[0m\u001b[0;34m,\u001b[0m \u001b[0mverbose\u001b[0m\u001b[0;34m=\u001b[0m\u001b[0;36m1\u001b[0m\u001b[0;34m,\u001b[0m \u001b[0msample_weight\u001b[0m\u001b[0;34m=\u001b[0m\u001b[0;32mNone\u001b[0m\u001b[0;34m)\u001b[0m\u001b[0;34m:\u001b[0m\u001b[0;34m\u001b[0m\u001b[0m\n",
      "\u001b[0;32m/usr/local/lib/python3.5/dist-packages/keras/engine/training.py\u001b[0m in \u001b[0;36m_fit_loop\u001b[0;34m(self, f, ins, out_labels, batch_size, epochs, verbose, callbacks, val_f, val_ins, shuffle, callback_metrics, initial_epoch)\u001b[0m\n\u001b[1;32m   1138\u001b[0m                 \u001b[0mbatch_logs\u001b[0m\u001b[0;34m[\u001b[0m\u001b[0;34m'size'\u001b[0m\u001b[0;34m]\u001b[0m \u001b[0;34m=\u001b[0m \u001b[0mlen\u001b[0m\u001b[0;34m(\u001b[0m\u001b[0mbatch_ids\u001b[0m\u001b[0;34m)\u001b[0m\u001b[0;34m\u001b[0m\u001b[0m\n\u001b[1;32m   1139\u001b[0m                 \u001b[0mcallbacks\u001b[0m\u001b[0;34m.\u001b[0m\u001b[0mon_batch_begin\u001b[0m\u001b[0;34m(\u001b[0m\u001b[0mbatch_index\u001b[0m\u001b[0;34m,\u001b[0m \u001b[0mbatch_logs\u001b[0m\u001b[0;34m)\u001b[0m\u001b[0;34m\u001b[0m\u001b[0m\n\u001b[0;32m-> 1140\u001b[0;31m                 \u001b[0mouts\u001b[0m \u001b[0;34m=\u001b[0m \u001b[0mf\u001b[0m\u001b[0;34m(\u001b[0m\u001b[0mins_batch\u001b[0m\u001b[0;34m)\u001b[0m\u001b[0;34m\u001b[0m\u001b[0m\n\u001b[0m\u001b[1;32m   1141\u001b[0m                 \u001b[0;32mif\u001b[0m \u001b[0;32mnot\u001b[0m \u001b[0misinstance\u001b[0m\u001b[0;34m(\u001b[0m\u001b[0mouts\u001b[0m\u001b[0;34m,\u001b[0m \u001b[0mlist\u001b[0m\u001b[0;34m)\u001b[0m\u001b[0;34m:\u001b[0m\u001b[0;34m\u001b[0m\u001b[0m\n\u001b[1;32m   1142\u001b[0m                     \u001b[0mouts\u001b[0m \u001b[0;34m=\u001b[0m \u001b[0;34m[\u001b[0m\u001b[0mouts\u001b[0m\u001b[0;34m]\u001b[0m\u001b[0;34m\u001b[0m\u001b[0m\n",
      "\u001b[0;32m/usr/local/lib/python3.5/dist-packages/keras/backend/tensorflow_backend.py\u001b[0m in \u001b[0;36m__call__\u001b[0;34m(self, inputs)\u001b[0m\n\u001b[1;32m   2071\u001b[0m         \u001b[0msession\u001b[0m \u001b[0;34m=\u001b[0m \u001b[0mget_session\u001b[0m\u001b[0;34m(\u001b[0m\u001b[0;34m)\u001b[0m\u001b[0;34m\u001b[0m\u001b[0m\n\u001b[1;32m   2072\u001b[0m         updated = session.run(self.outputs + [self.updates_op],\n\u001b[0;32m-> 2073\u001b[0;31m                               feed_dict=feed_dict)\n\u001b[0m\u001b[1;32m   2074\u001b[0m         \u001b[0;32mreturn\u001b[0m \u001b[0mupdated\u001b[0m\u001b[0;34m[\u001b[0m\u001b[0;34m:\u001b[0m\u001b[0mlen\u001b[0m\u001b[0;34m(\u001b[0m\u001b[0mself\u001b[0m\u001b[0;34m.\u001b[0m\u001b[0moutputs\u001b[0m\u001b[0;34m)\u001b[0m\u001b[0;34m]\u001b[0m\u001b[0;34m\u001b[0m\u001b[0m\n\u001b[1;32m   2075\u001b[0m \u001b[0;34m\u001b[0m\u001b[0m\n",
      "\u001b[0;32m/usr/local/lib/python3.5/dist-packages/tensorflow/python/client/session.py\u001b[0m in \u001b[0;36mrun\u001b[0;34m(self, fetches, feed_dict, options, run_metadata)\u001b[0m\n\u001b[1;32m    765\u001b[0m     \u001b[0;32mtry\u001b[0m\u001b[0;34m:\u001b[0m\u001b[0;34m\u001b[0m\u001b[0m\n\u001b[1;32m    766\u001b[0m       result = self._run(None, fetches, feed_dict, options_ptr,\n\u001b[0;32m--> 767\u001b[0;31m                          run_metadata_ptr)\n\u001b[0m\u001b[1;32m    768\u001b[0m       \u001b[0;32mif\u001b[0m \u001b[0mrun_metadata\u001b[0m\u001b[0;34m:\u001b[0m\u001b[0;34m\u001b[0m\u001b[0m\n\u001b[1;32m    769\u001b[0m         \u001b[0mproto_data\u001b[0m \u001b[0;34m=\u001b[0m \u001b[0mtf_session\u001b[0m\u001b[0;34m.\u001b[0m\u001b[0mTF_GetBuffer\u001b[0m\u001b[0;34m(\u001b[0m\u001b[0mrun_metadata_ptr\u001b[0m\u001b[0;34m)\u001b[0m\u001b[0;34m\u001b[0m\u001b[0m\n",
      "\u001b[0;32m/usr/local/lib/python3.5/dist-packages/tensorflow/python/client/session.py\u001b[0m in \u001b[0;36m_run\u001b[0;34m(self, handle, fetches, feed_dict, options, run_metadata)\u001b[0m\n\u001b[1;32m    963\u001b[0m     \u001b[0;32mif\u001b[0m \u001b[0mfinal_fetches\u001b[0m \u001b[0;32mor\u001b[0m \u001b[0mfinal_targets\u001b[0m\u001b[0;34m:\u001b[0m\u001b[0;34m\u001b[0m\u001b[0m\n\u001b[1;32m    964\u001b[0m       results = self._do_run(handle, final_targets, final_fetches,\n\u001b[0;32m--> 965\u001b[0;31m                              feed_dict_string, options, run_metadata)\n\u001b[0m\u001b[1;32m    966\u001b[0m     \u001b[0;32melse\u001b[0m\u001b[0;34m:\u001b[0m\u001b[0;34m\u001b[0m\u001b[0m\n\u001b[1;32m    967\u001b[0m       \u001b[0mresults\u001b[0m \u001b[0;34m=\u001b[0m \u001b[0;34m[\u001b[0m\u001b[0;34m]\u001b[0m\u001b[0;34m\u001b[0m\u001b[0m\n",
      "\u001b[0;32m/usr/local/lib/python3.5/dist-packages/tensorflow/python/client/session.py\u001b[0m in \u001b[0;36m_do_run\u001b[0;34m(self, handle, target_list, fetch_list, feed_dict, options, run_metadata)\u001b[0m\n\u001b[1;32m   1013\u001b[0m     \u001b[0;32mif\u001b[0m \u001b[0mhandle\u001b[0m \u001b[0;32mis\u001b[0m \u001b[0;32mNone\u001b[0m\u001b[0;34m:\u001b[0m\u001b[0;34m\u001b[0m\u001b[0m\n\u001b[1;32m   1014\u001b[0m       return self._do_call(_run_fn, self._session, feed_dict, fetch_list,\n\u001b[0;32m-> 1015\u001b[0;31m                            target_list, options, run_metadata)\n\u001b[0m\u001b[1;32m   1016\u001b[0m     \u001b[0;32melse\u001b[0m\u001b[0;34m:\u001b[0m\u001b[0;34m\u001b[0m\u001b[0m\n\u001b[1;32m   1017\u001b[0m       return self._do_call(_prun_fn, self._session, handle, feed_dict,\n",
      "\u001b[0;32m/usr/local/lib/python3.5/dist-packages/tensorflow/python/client/session.py\u001b[0m in \u001b[0;36m_do_call\u001b[0;34m(self, fn, *args)\u001b[0m\n\u001b[1;32m   1033\u001b[0m         \u001b[0;32mexcept\u001b[0m \u001b[0mKeyError\u001b[0m\u001b[0;34m:\u001b[0m\u001b[0;34m\u001b[0m\u001b[0m\n\u001b[1;32m   1034\u001b[0m           \u001b[0;32mpass\u001b[0m\u001b[0;34m\u001b[0m\u001b[0m\n\u001b[0;32m-> 1035\u001b[0;31m       \u001b[0;32mraise\u001b[0m \u001b[0mtype\u001b[0m\u001b[0;34m(\u001b[0m\u001b[0me\u001b[0m\u001b[0;34m)\u001b[0m\u001b[0;34m(\u001b[0m\u001b[0mnode_def\u001b[0m\u001b[0;34m,\u001b[0m \u001b[0mop\u001b[0m\u001b[0;34m,\u001b[0m \u001b[0mmessage\u001b[0m\u001b[0;34m)\u001b[0m\u001b[0;34m\u001b[0m\u001b[0m\n\u001b[0m\u001b[1;32m   1036\u001b[0m \u001b[0;34m\u001b[0m\u001b[0m\n\u001b[1;32m   1037\u001b[0m   \u001b[0;32mdef\u001b[0m \u001b[0m_extend_graph\u001b[0m\u001b[0;34m(\u001b[0m\u001b[0mself\u001b[0m\u001b[0;34m)\u001b[0m\u001b[0;34m:\u001b[0m\u001b[0;34m\u001b[0m\u001b[0m\n",
      "\u001b[0;31mResourceExhaustedError\u001b[0m: OOM when allocating tensor with shape[21700,300]\n\t [[Node: mul_1128 = Mul[T=DT_FLOAT, _device=\"/job:localhost/replica:0/task:0/gpu:0\"](mul_1128/x, Variable_351/read)]]\n\t [[Node: Mean_71/_1523 = _Recv[client_terminated=false, recv_device=\"/job:localhost/replica:0/task:0/cpu:0\", send_device=\"/job:localhost/replica:0/task:0/gpu:0\", send_device_incarnation=1, tensor_name=\"edge_419_Mean_71\", tensor_type=DT_FLOAT, _device=\"/job:localhost/replica:0/task:0/cpu:0\"]()]]\n\nCaused by op 'mul_1128', defined at:\n  File \"/usr/lib/python3.5/runpy.py\", line 184, in _run_module_as_main\n    \"__main__\", mod_spec)\n  File \"/usr/lib/python3.5/runpy.py\", line 85, in _run_code\n    exec(code, run_globals)\n  File \"/home/shikhar/.local/lib/python3.5/site-packages/ipykernel/__main__.py\", line 3, in <module>\n    app.launch_new_instance()\n  File \"/usr/local/lib/python3.5/dist-packages/traitlets/config/application.py\", line 658, in launch_instance\n    app.start()\n  File \"/home/shikhar/.local/lib/python3.5/site-packages/ipykernel/kernelapp.py\", line 474, in start\n    ioloop.IOLoop.instance().start()\n  File \"/home/shikhar/.local/lib/python3.5/site-packages/zmq/eventloop/ioloop.py\", line 177, in start\n    super(ZMQIOLoop, self).start()\n  File \"/home/shikhar/.local/lib/python3.5/site-packages/tornado/ioloop.py\", line 887, in start\n    handler_func(fd_obj, events)\n  File \"/home/shikhar/.local/lib/python3.5/site-packages/tornado/stack_context.py\", line 275, in null_wrapper\n    return fn(*args, **kwargs)\n  File \"/home/shikhar/.local/lib/python3.5/site-packages/zmq/eventloop/zmqstream.py\", line 440, in _handle_events\n    self._handle_recv()\n  File \"/home/shikhar/.local/lib/python3.5/site-packages/zmq/eventloop/zmqstream.py\", line 472, in _handle_recv\n    self._run_callback(callback, msg)\n  File \"/home/shikhar/.local/lib/python3.5/site-packages/zmq/eventloop/zmqstream.py\", line 414, in _run_callback\n    callback(*args, **kwargs)\n  File \"/home/shikhar/.local/lib/python3.5/site-packages/tornado/stack_context.py\", line 275, in null_wrapper\n    return fn(*args, **kwargs)\n  File \"/home/shikhar/.local/lib/python3.5/site-packages/ipykernel/kernelbase.py\", line 276, in dispatcher\n    return self.dispatch_shell(stream, msg)\n  File \"/home/shikhar/.local/lib/python3.5/site-packages/ipykernel/kernelbase.py\", line 228, in dispatch_shell\n    handler(stream, idents, msg)\n  File \"/home/shikhar/.local/lib/python3.5/site-packages/ipykernel/kernelbase.py\", line 390, in execute_request\n    user_expressions, allow_stdin)\n  File \"/home/shikhar/.local/lib/python3.5/site-packages/ipykernel/ipkernel.py\", line 196, in do_execute\n    res = shell.run_cell(code, store_history=store_history, silent=silent)\n  File \"/home/shikhar/.local/lib/python3.5/site-packages/ipykernel/zmqshell.py\", line 501, in run_cell\n    return super(ZMQInteractiveShell, self).run_cell(*args, **kwargs)\n  File \"/usr/local/lib/python3.5/dist-packages/IPython/core/interactiveshell.py\", line 2717, in run_cell\n    interactivity=interactivity, compiler=compiler, result=result)\n  File \"/usr/local/lib/python3.5/dist-packages/IPython/core/interactiveshell.py\", line 2821, in run_ast_nodes\n    if self.run_code(code, result):\n  File \"/usr/local/lib/python3.5/dist-packages/IPython/core/interactiveshell.py\", line 2881, in run_code\n    exec(code_obj, self.user_global_ns, self.user_ns)\n  File \"<ipython-input-72-e03c83271473>\", line 14, in <module>\n    validation_data=(x_test, y_test), verbose=2)\n  File \"/usr/local/lib/python3.5/dist-packages/keras/engine/training.py\", line 1457, in fit\n    self._make_train_function()\n  File \"/usr/local/lib/python3.5/dist-packages/keras/engine/training.py\", line 1001, in _make_train_function\n    self.total_loss)\n  File \"/usr/local/lib/python3.5/dist-packages/keras/optimizers.py\", line 340, in get_updates\n    new_d_a = self.rho * d_a + (1 - self.rho) * K.square(update)\n  File \"/usr/local/lib/python3.5/dist-packages/tensorflow/python/ops/variables.py\", line 677, in _run_op\n    return getattr(ops.Tensor, operator)(a._AsTensor(), *args)\n  File \"/usr/local/lib/python3.5/dist-packages/tensorflow/python/ops/math_ops.py\", line 808, in r_binary_op_wrapper\n    return func(x, y, name=name)\n  File \"/usr/local/lib/python3.5/dist-packages/tensorflow/python/ops/math_ops.py\", line 1015, in _mul_dispatch\n    return gen_math_ops._mul(x, y, name=name)\n  File \"/usr/local/lib/python3.5/dist-packages/tensorflow/python/ops/gen_math_ops.py\", line 1625, in _mul\n    result = _op_def_lib.apply_op(\"Mul\", x=x, y=y, name=name)\n  File \"/usr/local/lib/python3.5/dist-packages/tensorflow/python/framework/op_def_library.py\", line 763, in apply_op\n    op_def=op_def)\n  File \"/usr/local/lib/python3.5/dist-packages/tensorflow/python/framework/ops.py\", line 2327, in create_op\n    original_op=self._default_original_op, op_def=op_def)\n  File \"/usr/local/lib/python3.5/dist-packages/tensorflow/python/framework/ops.py\", line 1226, in __init__\n    self._traceback = _extract_stack()\n\nResourceExhaustedError (see above for traceback): OOM when allocating tensor with shape[21700,300]\n\t [[Node: mul_1128 = Mul[T=DT_FLOAT, _device=\"/job:localhost/replica:0/task:0/gpu:0\"](mul_1128/x, Variable_351/read)]]\n\t [[Node: Mean_71/_1523 = _Recv[client_terminated=false, recv_device=\"/job:localhost/replica:0/task:0/cpu:0\", send_device=\"/job:localhost/replica:0/task:0/gpu:0\", send_device_incarnation=1, tensor_name=\"edge_419_Mean_71\", tensor_type=DT_FLOAT, _device=\"/job:localhost/replica:0/task:0/cpu:0\"]()]]\n"
     ]
    }
   ],
   "source": [
    "# Loading saved data\n",
    "import pickle\n",
    "\n",
    "# filename = '/home/shikhar/Datasets/Models/CNN-rand_continued_2017-04-02_15:10:15'\n",
    "with open( filename, 'rb') as input:\n",
    "    out = pickle.load(input)\n",
    "\n",
    "model.compile(loss=\"categorical_crossentropy\", optimizer=optimizers.Adadelta(lr=.05, decay=0.0005), metrics=[\"accuracy\"])\n",
    "model.set_weights(out[1])\n",
    "\n",
    "res = model.fit(x_train, y_train, \n",
    "          batch_size = batch_size,\n",
    "          epochs=50,\n",
    "          validation_data=(x_test, y_test), verbose=2)"
   ]
  },
  {
   "cell_type": "code",
   "execution_count": null,
   "metadata": {
    "collapsed": false,
    "deletable": true,
    "editable": true
   },
   "outputs": [],
   "source": [
    "import os\n",
    "os.system('say done')"
   ]
  }
 ],
 "metadata": {
  "kernelspec": {
   "display_name": "Python 3",
   "language": "python",
   "name": "python3"
  },
  "language_info": {
   "codemirror_mode": {
    "name": "ipython",
    "version": 3
   },
   "file_extension": ".py",
   "mimetype": "text/x-python",
   "name": "python",
   "nbconvert_exporter": "python",
   "pygments_lexer": "ipython3",
   "version": "3.5.2"
  }
 },
 "nbformat": 4,
 "nbformat_minor": 2
}
