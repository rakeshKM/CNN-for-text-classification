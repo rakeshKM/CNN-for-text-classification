{
 "cells": [
  {
   "cell_type": "code",
   "execution_count": 1,
   "metadata": {
    "collapsed": false,
    "deletable": true,
    "editable": true
   },
   "outputs": [
    {
     "name": "stderr",
     "output_type": "stream",
     "text": [
      "Using TensorFlow backend.\n"
     ]
    }
   ],
   "source": [
    "import keras\n",
    "from keras.datasets import mnist\n",
    "from keras.models import Model, Sequential\n",
    "from keras.layers import Input, Dense, Dropout, Flatten, Embedding, regularizers\n",
    "from keras.layers import Conv1D, MaxPooling1D\n",
    "from keras.layers.merge import Concatenate\n",
    "from keras import optimizers\n",
    "from keras import backend as K\n",
    "from w2v import train_word2vec \n",
    "import pickle, datetime\n",
    "import numpy as np\n",
    "import difflib"
   ]
  },
  {
   "cell_type": "markdown",
   "metadata": {
    "deletable": true,
    "editable": true
   },
   "source": [
    "# ------------------------------- Data Preprocessing -----------------------------------"
   ]
  },
  {
   "cell_type": "markdown",
   "metadata": {
    "deletable": true,
    "editable": true
   },
   "source": [
    "### Phrase -> index"
   ]
  },
  {
   "cell_type": "code",
   "execution_count": 2,
   "metadata": {
    "collapsed": false,
    "deletable": true,
    "editable": true
   },
   "outputs": [
    {
     "name": "stdout",
     "output_type": "stream",
     "text": [
      "239232 14058\n"
     ]
    }
   ],
   "source": [
    "phr_to_ind = dict()\n",
    "\n",
    "with open('../../Datasets/SST1_dataset/dictionary.txt') as f:\n",
    "    for line in f:\n",
    "        entry = line.split('|')\n",
    "        phr_to_ind[entry[0]] = int(entry[1])\n",
    "\n",
    "keys = phr_to_ind.keys();\n",
    "\n",
    "print(len(phr_to_ind), phr_to_ind['Good'])"
   ]
  },
  {
   "cell_type": "markdown",
   "metadata": {
    "deletable": true,
    "editable": true
   },
   "source": [
    "### Getting Index corresponding to sentences"
   ]
  },
  {
   "cell_type": "code",
   "execution_count": 3,
   "metadata": {
    "collapsed": false,
    "deletable": true,
    "editable": true
   },
   "outputs": [
    {
     "name": "stdout",
     "output_type": "stream",
     "text": [
      "11855\n"
     ]
    }
   ],
   "source": [
    "# Without doing the below computation directly load the stored output\n",
    "sentence_list = []\n",
    "sentiment = []\n",
    "\n",
    "with open('../../Datasets/SST1_dataset/SentenceWithCorrection.txt') as f:\n",
    "    for line in f:\n",
    "        sent = line[:-1]\n",
    "        sentence_list.append(sent)\n",
    "        sentiment.append(phr_to_ind[sent])\n",
    "\n",
    "print(len(sentence_list))"
   ]
  },
  {
   "cell_type": "code",
   "execution_count": 4,
   "metadata": {
    "collapsed": false,
    "deletable": true,
    "editable": true
   },
   "outputs": [],
   "source": [
    "# sentence_list = []\n",
    "# sentiment = []\n",
    "\n",
    "# with open('../../Datasets/SST1_dataset/datasetSentences.txt') as f:\n",
    "#     f.readline()\n",
    "#     for line in f:\n",
    "#         entry = line.split('\\t')\n",
    "#         sent = entry[1][:-1]\n",
    "#         sent = sent.replace('-LRB-', '(')\n",
    "#         sent = sent.replace('-RRB-', ')')\n",
    "    \n",
    "#         if sent in phr_to_ind.keys():\n",
    "#             sentiment.append(phr_to_ind[sent])\n",
    "#         else:\n",
    "#             print('.', end=\"\")\n",
    "#             keys_subset = [k for k in keys if (k[0] == sent[0])]\n",
    "#             key = difflib.get_close_matches(sent, keys_subset, n=1);\n",
    "#             sent = key[0]\n",
    "#             sentiment.append(phr_to_ind[sent])\n",
    "            \n",
    "#         sentence_list.append(sent)\n",
    "        \n",
    "# print(len(sentence_list))\n",
    "\n",
    "# # Written the output in a file\n",
    "# f = open('../../Datasets/SST1_dataset/SentenceWithCorrection.txt', 'w')\n",
    "# for sent in sentence_list:\n",
    "#     f.write(sent + '\\n')\n",
    "# f.close()"
   ]
  },
  {
   "cell_type": "markdown",
   "metadata": {
    "deletable": true,
    "editable": true
   },
   "source": [
    "### Phrase Index -> Sentiment"
   ]
  },
  {
   "cell_type": "code",
   "execution_count": 5,
   "metadata": {
    "collapsed": false,
    "deletable": true,
    "editable": true
   },
   "outputs": [
    {
     "name": "stdout",
     "output_type": "stream",
     "text": [
      "239232\n"
     ]
    }
   ],
   "source": [
    "ind_to_senti = dict()\n",
    "\n",
    "with open('../../Datasets/SST1_dataset/sentiment_labels.txt') as f:\n",
    "    f.readline()\n",
    "    for line in f:\n",
    "        entry = line.split('|')\n",
    "        ind_to_senti[int(entry[0])] = float(entry[1])\n",
    "\n",
    "print(len(ind_to_senti))"
   ]
  },
  {
   "cell_type": "markdown",
   "metadata": {
    "deletable": true,
    "editable": true
   },
   "source": [
    "### Loading train, test and valid split info"
   ]
  },
  {
   "cell_type": "code",
   "execution_count": 6,
   "metadata": {
    "collapsed": false,
    "deletable": true,
    "editable": true
   },
   "outputs": [
    {
     "name": "stdout",
     "output_type": "stream",
     "text": [
      "11855\n",
      "9645 2210 0\n"
     ]
    }
   ],
   "source": [
    "split_ind = []\n",
    "with open('../../Datasets/SST1_dataset/datasetSplit.txt') as f:\n",
    "    f.readline()\n",
    "    for line in f:\n",
    "        entry = line.split(',')\n",
    "        split_ind.append(int(entry[1]))\n",
    "\n",
    "print(len(split_ind))\n",
    "\n",
    "for i in range(len(split_ind)):\n",
    "    if split_ind[i] == 3:\n",
    "        split_ind[i] = 1\n",
    "        \n",
    "N_train = split_ind.count(1)\n",
    "N_test = split_ind.count(2)\n",
    "N_valid = split_ind.count(3)\n",
    "print (N_train, N_test, N_valid)"
   ]
  },
  {
   "cell_type": "markdown",
   "metadata": {
    "deletable": true,
    "editable": true
   },
   "source": [
    "### Assigning label to sentences"
   ]
  },
  {
   "cell_type": "code",
   "execution_count": 7,
   "metadata": {
    "collapsed": false,
    "deletable": true,
    "editable": true
   },
   "outputs": [
    {
     "name": "stdout",
     "output_type": "stream",
     "text": [
      "1510 3140 2242 3111\n"
     ]
    }
   ],
   "source": [
    "N_sent = len(sentence_list);\n",
    "N_category = 5\n",
    "\n",
    "y_label = []\n",
    "\n",
    "for ind in sentiment:\n",
    "    val = ind_to_senti[ind]\n",
    "    if val >= 0.0 and val <= 0.2:\n",
    "        y_label.append(0);\n",
    "    elif val > 0.2 and val <= 0.4:\n",
    "        y_label.append(1)\n",
    "    elif val > 0.4 and val <= 0.6:\n",
    "        y_label.append(2)\n",
    "    elif val > 0.6 and val <= 0.8:\n",
    "        y_label.append(3)\n",
    "    else:\n",
    "        y_label.append(4)\n",
    "\n",
    "print(y_label.count(0), y_label.count(1), y_label.count(2), y_label.count(3))\n",
    "\n",
    "# Labels in one-hot encoding\n",
    "y_train = np.zeros((N_train, N_category), np.uint8)\n",
    "y_test  = np.zeros((N_test , N_category), np.uint8)\n",
    "y_valid = np.zeros((N_valid, N_category), np.uint8)\n",
    "\n",
    "c1,c2,c3 = 0,0,0\n",
    "for i in range(len(y_label)):\n",
    "    label = y_label[i]\n",
    "    if split_ind[i] == 1:\n",
    "        y_train[c1, label] = 1;  c1 += 1\n",
    "    elif split_ind[i] == 2:\n",
    "        y_test [c2, label] = 1;  c2 += 1\n",
    "    else:\n",
    "        y_valid[c3, label] = 1;  c3 += 1"
   ]
  },
  {
   "cell_type": "markdown",
   "metadata": {
    "deletable": true,
    "editable": true
   },
   "source": [
    "### Reducing the size of vocabulary"
   ]
  },
  {
   "cell_type": "code",
   "execution_count": 8,
   "metadata": {
    "collapsed": false,
    "deletable": true,
    "editable": true
   },
   "outputs": [
    {
     "name": "stdout",
     "output_type": "stream",
     "text": [
      "239232 21699\n"
     ]
    }
   ],
   "source": [
    "x_all = []\n",
    "max_sent_len = -1;\n",
    "max_wrd_len = -1\n",
    "wrd_to_ind = dict()\n",
    "\n",
    "ind_new = 1;\n",
    "for sent in sentence_list:\n",
    "    wrds = sent.split()\n",
    "    vec = []\n",
    "    for wrd in wrds:\n",
    "        if wrd not in wrd_to_ind.keys():\n",
    "            wrd_to_ind[wrd] = ind_new\n",
    "            ind_new += 1\n",
    "            \n",
    "        ind = wrd_to_ind[wrd]\n",
    "        vec.append(ind)\n",
    "            \n",
    "    max_sent_len = max(len(vec), max_sent_len)\n",
    "    x_all.append(vec)\n",
    "\n",
    "# Get inverse dictionary\n",
    "ind_to_wrd = dict((v, k) for k, v in wrd_to_ind.items())\n",
    "ind_to_wrd[0] = \"<PAD/>\"\n",
    "\n",
    "print(len(phr_to_ind), len(wrd_to_ind))"
   ]
  },
  {
   "cell_type": "markdown",
   "metadata": {
    "deletable": true,
    "editable": true
   },
   "source": [
    "### Create input features"
   ]
  },
  {
   "cell_type": "code",
   "execution_count": 9,
   "metadata": {
    "collapsed": false,
    "deletable": true,
    "editable": true
   },
   "outputs": [
    {
     "name": "stdout",
     "output_type": "stream",
     "text": [
      "9645 2210 0\n"
     ]
    }
   ],
   "source": [
    "x_train = np.zeros((N_train, max_sent_len), np.int32)\n",
    "x_test  = np.zeros((N_test,  max_sent_len), np.int32)\n",
    "x_valid = np.zeros((N_valid, max_sent_len), np.int32)\n",
    "\n",
    "c1, c2, c3 = 0,0,0\n",
    "for i in range(len(x_all)):\n",
    "    vec = x_all[i]\n",
    "    if split_ind[i] == 1:\n",
    "        x_train[c1,0:len(vec)] = np.int32(vec); \n",
    "        c1 += 1\n",
    "    elif split_ind[i] == 2:\n",
    "        x_test [c2,0:len(vec)] = np.int32(vec); \n",
    "        c2 += 1\n",
    "    else:\n",
    "        x_valid[c3,0:len(vec)] = np.int32(vec); \n",
    "        c3 += 1\n",
    "\n",
    "print(c1, c2, c3)"
   ]
  },
  {
   "cell_type": "markdown",
   "metadata": {
    "deletable": true,
    "editable": true
   },
   "source": [
    "# -------------------------------- Training model  -----------------------------------"
   ]
  },
  {
   "cell_type": "markdown",
   "metadata": {
    "deletable": true,
    "editable": true
   },
   "source": [
    "### Model Paremeters"
   ]
  },
  {
   "cell_type": "code",
   "execution_count": 10,
   "metadata": {
    "collapsed": true,
    "deletable": true,
    "editable": true
   },
   "outputs": [],
   "source": [
    "model_type    = 'CNN-static'  # CNN-rand|CNN-non-static|CNN-static\n",
    "embedding_dim = 300         # word2vec dim\n",
    "vocab_size    = len(ind_to_wrd)"
   ]
  },
  {
   "cell_type": "markdown",
   "metadata": {
    "deletable": true,
    "editable": true
   },
   "source": [
    "### Generate word2vec "
   ]
  },
  {
   "cell_type": "code",
   "execution_count": 11,
   "metadata": {
    "collapsed": false,
    "deletable": true,
    "editable": true
   },
   "outputs": [
    {
     "name": "stdout",
     "output_type": "stream",
     "text": [
      "Load existing Word2Vec model '300features_1minwords_10context'\n"
     ]
    }
   ],
   "source": [
    "if model_type in ['CNN-non-static', 'CNN-static']:\n",
    "    embedding_wts = train_word2vec( np.vstack((x_train, x_test, x_valid)), \n",
    "                                    ind_to_wrd, num_features = embedding_dim)\n",
    "    if model_type == 'CNN-static':\n",
    "        x_train = embedding_wts[0][x_train]\n",
    "        x_test  = embedding_wts[0][x_test]\n",
    "#         x_valid = embedding_wts[0][x_valid]\n",
    "        \n",
    "elif model_type == 'CNN-rand':\n",
    "    embedding_wts = None\n",
    "    \n",
    "else:\n",
    "    raise ValueError(\"Unknown model type\")"
   ]
  },
  {
   "cell_type": "markdown",
   "metadata": {
    "deletable": true,
    "editable": true
   },
   "source": [
    "### Create model"
   ]
  },
  {
   "cell_type": "code",
   "execution_count": 12,
   "metadata": {
    "collapsed": false,
    "deletable": true,
    "editable": true
   },
   "outputs": [
    {
     "name": "stdout",
     "output_type": "stream",
     "text": [
      "____________________________________________________________________________________________________\n",
      "Layer (type)                     Output Shape          Param #     Connected to                     \n",
      "====================================================================================================\n",
      "input_1 (InputLayer)             (None, 56, 300)       0                                            \n",
      "____________________________________________________________________________________________________\n",
      "dropout_1 (Dropout)              (None, 56, 300)       0                                            \n",
      "____________________________________________________________________________________________________\n",
      "conv1d_1 (Conv1D)                (None, 54, 100)       90100                                        \n",
      "____________________________________________________________________________________________________\n",
      "conv1d_2 (Conv1D)                (None, 53, 100)       120100                                       \n",
      "____________________________________________________________________________________________________\n",
      "conv1d_3 (Conv1D)                (None, 52, 100)       150100                                       \n",
      "____________________________________________________________________________________________________\n",
      "max_pooling1d_1 (MaxPooling1D)   (None, 1, 100)        0                                            \n",
      "____________________________________________________________________________________________________\n",
      "max_pooling1d_2 (MaxPooling1D)   (None, 1, 100)        0                                            \n",
      "____________________________________________________________________________________________________\n",
      "max_pooling1d_3 (MaxPooling1D)   (None, 1, 100)        0                                            \n",
      "____________________________________________________________________________________________________\n",
      "flatten_1 (Flatten)              (None, 100)           0                                            \n",
      "____________________________________________________________________________________________________\n",
      "flatten_2 (Flatten)              (None, 100)           0                                            \n",
      "____________________________________________________________________________________________________\n",
      "flatten_3 (Flatten)              (None, 100)           0                                            \n",
      "____________________________________________________________________________________________________\n",
      "concatenate_1 (Concatenate)      (None, 300)           0                                            \n",
      "____________________________________________________________________________________________________\n",
      "dropout_2 (Dropout)              (None, 300)           0                                            \n",
      "____________________________________________________________________________________________________\n",
      "dense_1 (Dense)                  (None, 100)           30100                                        \n",
      "____________________________________________________________________________________________________\n",
      "dense_2 (Dense)                  (None, 5)             505                                          \n",
      "====================================================================================================\n",
      "Total params: 390,905.0\n",
      "Trainable params: 390,905.0\n",
      "Non-trainable params: 0.0\n",
      "____________________________________________________________________________________________________\n"
     ]
    }
   ],
   "source": [
    "batch_size   = 50\n",
    "filter_sizes = [3,4,5]\n",
    "num_filters  = 100\n",
    "dropout_prob = (0.5, 0.8)\n",
    "hidden_dims  = 100\n",
    "\n",
    "l2_reg = 0.3\n",
    "\n",
    "# Deciding dimension of input based on the model\n",
    "input_shape = (max_sent_len, embedding_dim) if model_type == \"CNN-static\" else (max_sent_len,)\n",
    "model_input = Input(shape = input_shape)\n",
    "\n",
    "# Static model do not have embedding layer\n",
    "if model_type == \"CNN-static\":\n",
    "    z = Dropout(dropout_prob[0])(model_input)\n",
    "else:\n",
    "    z = Embedding(vocab_size, embedding_dim, input_length = max_sent_len, name=\"embedding\", trainable=True)(model_input)\n",
    "    z = Dropout(dropout_prob[0])(z)\n",
    "\n",
    "# Convolution layers\n",
    "z1 = Conv1D(    filters=num_filters, kernel_size=filter_sizes[0], \n",
    "                padding=\"valid\", activation=\"relu\", \n",
    "                strides=1)(z)\n",
    "z1 = MaxPooling1D(pool_size = max_sent_len - filter_sizes[0] +1)(z1)\n",
    "z1 = Flatten()(z1)\n",
    "\n",
    "z2 = Conv1D(    filters=num_filters, kernel_size=filter_sizes[1], \n",
    "                padding=\"valid\", activation=\"relu\", \n",
    "                strides=1)(z)\n",
    "z2 = MaxPooling1D(pool_size=max_sent_len - filter_sizes[1] +1)(z2)\n",
    "z2 = Flatten()(z2)\n",
    "\n",
    "z3 = Conv1D(    filters=num_filters, kernel_size=filter_sizes[2], \n",
    "                padding=\"valid\", activation=\"relu\",\n",
    "                strides=1)(z)\n",
    "z3 = MaxPooling1D(pool_size=max_sent_len - filter_sizes[2] +1)(z3)\n",
    "z3 = Flatten()(z3)\n",
    "\n",
    "# Concatenate the output of all convolution layers\n",
    "z = Concatenate()([z1, z2, z3])\n",
    "z = Dropout(dropout_prob[1])(z)\n",
    "\n",
    "z = Dense(hidden_dims, activation=\"relu\")(z)\n",
    "model_output = Dense(N_category, activation=\"softmax\")(z)\n",
    "    \n",
    "model = Model(model_input, model_output)\n",
    "model.summary()"
   ]
  },
  {
   "cell_type": "markdown",
   "metadata": {
    "deletable": true,
    "editable": true
   },
   "source": [
    "### Train model "
   ]
  },
  {
   "cell_type": "code",
   "execution_count": 17,
   "metadata": {
    "collapsed": false,
    "deletable": true,
    "editable": true,
    "scrolled": true
   },
   "outputs": [
    {
     "name": "stdout",
     "output_type": "stream",
     "text": [
      "Train on 9645 samples, validate on 2210 samples\n",
      "Epoch 1/300\n",
      "8s - loss: 1.0939 - acc: 0.5494 - val_loss: 1.4298 - val_acc: 0.3774\n",
      "Epoch 2/300\n",
      "8s - loss: 1.0825 - acc: 0.5578 - val_loss: 1.4313 - val_acc: 0.3828\n",
      "Epoch 3/300\n",
      "8s - loss: 1.0915 - acc: 0.5533 - val_loss: 1.4378 - val_acc: 0.3792\n",
      "Epoch 4/300\n",
      "8s - loss: 1.0803 - acc: 0.5582 - val_loss: 1.4317 - val_acc: 0.3738\n",
      "Epoch 5/300\n",
      "8s - loss: 1.0983 - acc: 0.5511 - val_loss: 1.4264 - val_acc: 0.3796\n",
      "Epoch 6/300\n",
      "8s - loss: 1.1018 - acc: 0.5509 - val_loss: 1.4277 - val_acc: 0.3833\n",
      "Epoch 7/300\n",
      "8s - loss: 1.0968 - acc: 0.5594 - val_loss: 1.4245 - val_acc: 0.3824\n",
      "Epoch 8/300\n",
      "8s - loss: 1.0972 - acc: 0.5493 - val_loss: 1.4310 - val_acc: 0.3819\n",
      "Epoch 9/300\n",
      "8s - loss: 1.0891 - acc: 0.5638 - val_loss: 1.4359 - val_acc: 0.3824\n",
      "Epoch 10/300\n",
      "8s - loss: 1.0889 - acc: 0.5529 - val_loss: 1.4302 - val_acc: 0.3778\n",
      "Epoch 11/300\n",
      "8s - loss: 1.0880 - acc: 0.5566 - val_loss: 1.4363 - val_acc: 0.3760\n",
      "Epoch 12/300\n",
      "8s - loss: 1.0996 - acc: 0.5511 - val_loss: 1.4350 - val_acc: 0.3747\n",
      "Epoch 13/300\n",
      "8s - loss: 1.0991 - acc: 0.5531 - val_loss: 1.4275 - val_acc: 0.3792\n",
      "Epoch 14/300\n",
      "9s - loss: 1.0924 - acc: 0.5605 - val_loss: 1.4290 - val_acc: 0.3824\n",
      "Epoch 15/300\n",
      "9s - loss: 1.0890 - acc: 0.5610 - val_loss: 1.4342 - val_acc: 0.3792\n",
      "Epoch 16/300\n",
      "9s - loss: 1.0967 - acc: 0.5532 - val_loss: 1.4303 - val_acc: 0.3778\n",
      "Epoch 17/300\n",
      "8s - loss: 1.1000 - acc: 0.5519 - val_loss: 1.4315 - val_acc: 0.3765\n",
      "Epoch 18/300\n",
      "8s - loss: 1.0927 - acc: 0.5565 - val_loss: 1.4288 - val_acc: 0.3778\n",
      "Epoch 19/300\n",
      "8s - loss: 1.0957 - acc: 0.5552 - val_loss: 1.4312 - val_acc: 0.3828\n",
      "Epoch 20/300\n",
      "8s - loss: 1.0897 - acc: 0.5570 - val_loss: 1.4283 - val_acc: 0.3869\n",
      "Epoch 21/300\n",
      "8s - loss: 1.0945 - acc: 0.5545 - val_loss: 1.4338 - val_acc: 0.3765\n",
      "Epoch 22/300\n",
      "8s - loss: 1.0751 - acc: 0.5610 - val_loss: 1.4381 - val_acc: 0.3706\n",
      "Epoch 23/300\n",
      "8s - loss: 1.0902 - acc: 0.5576 - val_loss: 1.4327 - val_acc: 0.3724\n",
      "Epoch 24/300\n",
      "8s - loss: 1.0836 - acc: 0.5666 - val_loss: 1.4347 - val_acc: 0.3751\n",
      "Epoch 25/300\n",
      "8s - loss: 1.0925 - acc: 0.5546 - val_loss: 1.4242 - val_acc: 0.3783\n",
      "Epoch 26/300\n",
      "8s - loss: 1.0953 - acc: 0.5600 - val_loss: 1.4379 - val_acc: 0.3665\n",
      "Epoch 27/300\n",
      "8s - loss: 1.0835 - acc: 0.5580 - val_loss: 1.4333 - val_acc: 0.3674\n",
      "Epoch 28/300\n",
      "8s - loss: 1.0844 - acc: 0.5624 - val_loss: 1.4323 - val_acc: 0.3647\n",
      "Epoch 29/300\n",
      "8s - loss: 1.0877 - acc: 0.5504 - val_loss: 1.4321 - val_acc: 0.3679\n",
      "Epoch 30/300\n",
      "8s - loss: 1.0920 - acc: 0.5539 - val_loss: 1.4415 - val_acc: 0.3652\n",
      "Epoch 31/300\n",
      "8s - loss: 1.0668 - acc: 0.5696 - val_loss: 1.4387 - val_acc: 0.3697\n",
      "Epoch 32/300\n",
      "8s - loss: 1.0779 - acc: 0.5661 - val_loss: 1.4345 - val_acc: 0.3733\n",
      "Epoch 33/300\n",
      "8s - loss: 1.0838 - acc: 0.5561 - val_loss: 1.4393 - val_acc: 0.3706\n",
      "Epoch 34/300\n",
      "8s - loss: 1.0974 - acc: 0.5578 - val_loss: 1.4361 - val_acc: 0.3724\n",
      "Epoch 35/300\n",
      "8s - loss: 1.0865 - acc: 0.5596 - val_loss: 1.4294 - val_acc: 0.3706\n",
      "Epoch 36/300\n",
      "8s - loss: 1.0864 - acc: 0.5588 - val_loss: 1.4299 - val_acc: 0.3715\n",
      "Epoch 37/300\n",
      "8s - loss: 1.0694 - acc: 0.5654 - val_loss: 1.4333 - val_acc: 0.3724\n",
      "Epoch 38/300\n",
      "8s - loss: 1.0747 - acc: 0.5688 - val_loss: 1.4323 - val_acc: 0.3719\n",
      "Epoch 39/300\n",
      "8s - loss: 1.0875 - acc: 0.5591 - val_loss: 1.4322 - val_acc: 0.3769\n",
      "Epoch 40/300\n",
      "8s - loss: 1.0885 - acc: 0.5533 - val_loss: 1.4373 - val_acc: 0.3756\n",
      "Epoch 41/300\n",
      "8s - loss: 1.0816 - acc: 0.5595 - val_loss: 1.4384 - val_acc: 0.3715\n",
      "Epoch 42/300\n",
      "8s - loss: 1.0745 - acc: 0.5616 - val_loss: 1.4278 - val_acc: 0.3774\n",
      "Epoch 43/300\n",
      "8s - loss: 1.0679 - acc: 0.5684 - val_loss: 1.4347 - val_acc: 0.3724\n",
      "Epoch 44/300\n",
      "8s - loss: 1.0920 - acc: 0.5603 - val_loss: 1.4271 - val_acc: 0.3787\n",
      "Epoch 45/300\n",
      "8s - loss: 1.0734 - acc: 0.5666 - val_loss: 1.4373 - val_acc: 0.3710\n",
      "Epoch 46/300\n",
      "8s - loss: 1.0951 - acc: 0.5536 - val_loss: 1.4363 - val_acc: 0.3674\n",
      "Epoch 47/300\n",
      "8s - loss: 1.0868 - acc: 0.5581 - val_loss: 1.4333 - val_acc: 0.3701\n",
      "Epoch 48/300\n",
      "8s - loss: 1.0825 - acc: 0.5630 - val_loss: 1.4407 - val_acc: 0.3679\n",
      "Epoch 49/300\n",
      "8s - loss: 1.0785 - acc: 0.5604 - val_loss: 1.4391 - val_acc: 0.3692\n",
      "Epoch 50/300\n",
      "8s - loss: 1.0735 - acc: 0.5569 - val_loss: 1.4294 - val_acc: 0.3670\n",
      "Epoch 51/300\n",
      "8s - loss: 1.0752 - acc: 0.5622 - val_loss: 1.4351 - val_acc: 0.3688\n",
      "Epoch 52/300\n",
      "8s - loss: 1.0847 - acc: 0.5583 - val_loss: 1.4362 - val_acc: 0.3688\n",
      "Epoch 53/300\n",
      "8s - loss: 1.0984 - acc: 0.5572 - val_loss: 1.4329 - val_acc: 0.3688\n",
      "Epoch 54/300\n",
      "8s - loss: 1.0877 - acc: 0.5587 - val_loss: 1.4386 - val_acc: 0.3692\n",
      "Epoch 55/300\n",
      "8s - loss: 1.0861 - acc: 0.5607 - val_loss: 1.4341 - val_acc: 0.3769\n",
      "Epoch 56/300\n",
      "8s - loss: 1.0702 - acc: 0.5690 - val_loss: 1.4399 - val_acc: 0.3661\n",
      "Epoch 57/300\n",
      "8s - loss: 1.0743 - acc: 0.5718 - val_loss: 1.4412 - val_acc: 0.3742\n",
      "Epoch 58/300\n",
      "8s - loss: 1.0873 - acc: 0.5584 - val_loss: 1.4414 - val_acc: 0.3679\n",
      "Epoch 59/300\n",
      "8s - loss: 1.0897 - acc: 0.5568 - val_loss: 1.4347 - val_acc: 0.3692\n",
      "Epoch 60/300\n",
      "8s - loss: 1.0793 - acc: 0.5645 - val_loss: 1.4388 - val_acc: 0.3683\n",
      "Epoch 61/300\n",
      "8s - loss: 1.0732 - acc: 0.5633 - val_loss: 1.4363 - val_acc: 0.3774\n",
      "Epoch 62/300\n",
      "8s - loss: 1.0837 - acc: 0.5618 - val_loss: 1.4393 - val_acc: 0.3742\n",
      "Epoch 63/300\n",
      "8s - loss: 1.0759 - acc: 0.5624 - val_loss: 1.4432 - val_acc: 0.3665\n",
      "Epoch 64/300\n",
      "8s - loss: 1.0794 - acc: 0.5633 - val_loss: 1.4343 - val_acc: 0.3724\n",
      "Epoch 65/300\n",
      "8s - loss: 1.0652 - acc: 0.5747 - val_loss: 1.4310 - val_acc: 0.3738\n",
      "Epoch 66/300\n",
      "8s - loss: 1.0784 - acc: 0.5603 - val_loss: 1.4376 - val_acc: 0.3774\n",
      "Epoch 67/300\n",
      "8s - loss: 1.0662 - acc: 0.5662 - val_loss: 1.4303 - val_acc: 0.3765\n",
      "Epoch 68/300\n",
      "8s - loss: 1.0814 - acc: 0.5616 - val_loss: 1.4380 - val_acc: 0.3652\n",
      "Epoch 69/300\n",
      "8s - loss: 1.0582 - acc: 0.5686 - val_loss: 1.4430 - val_acc: 0.3584\n",
      "Epoch 70/300\n",
      "8s - loss: 1.0672 - acc: 0.5705 - val_loss: 1.4312 - val_acc: 0.3715\n",
      "Epoch 71/300\n",
      "8s - loss: 1.0677 - acc: 0.5679 - val_loss: 1.4295 - val_acc: 0.3729\n",
      "Epoch 72/300\n",
      "8s - loss: 1.0638 - acc: 0.5718 - val_loss: 1.4431 - val_acc: 0.3692\n",
      "Epoch 73/300\n",
      "8s - loss: 1.0761 - acc: 0.5649 - val_loss: 1.4417 - val_acc: 0.3697\n",
      "Epoch 74/300\n",
      "8s - loss: 1.0692 - acc: 0.5671 - val_loss: 1.4345 - val_acc: 0.3701\n",
      "Epoch 75/300\n",
      "8s - loss: 1.0614 - acc: 0.5697 - val_loss: 1.4362 - val_acc: 0.3638\n",
      "Epoch 76/300\n",
      "8s - loss: 1.0895 - acc: 0.5636 - val_loss: 1.4339 - val_acc: 0.3692\n",
      "Epoch 77/300\n",
      "8s - loss: 1.0511 - acc: 0.5793 - val_loss: 1.4368 - val_acc: 0.3665\n",
      "Epoch 78/300\n",
      "8s - loss: 1.0645 - acc: 0.5681 - val_loss: 1.4358 - val_acc: 0.3719\n",
      "Epoch 79/300\n",
      "9s - loss: 1.0748 - acc: 0.5744 - val_loss: 1.4326 - val_acc: 0.3688\n",
      "Epoch 80/300\n",
      "8s - loss: 1.0625 - acc: 0.5744 - val_loss: 1.4242 - val_acc: 0.3810\n",
      "Epoch 81/300\n",
      "9s - loss: 1.0709 - acc: 0.5684 - val_loss: 1.4344 - val_acc: 0.3688\n",
      "Epoch 82/300\n",
      "8s - loss: 1.0642 - acc: 0.5662 - val_loss: 1.4356 - val_acc: 0.3733\n",
      "Epoch 83/300\n",
      "9s - loss: 1.0701 - acc: 0.5703 - val_loss: 1.4349 - val_acc: 0.3733\n",
      "Epoch 84/300\n",
      "9s - loss: 1.0761 - acc: 0.5634 - val_loss: 1.4296 - val_acc: 0.3778\n",
      "Epoch 85/300\n",
      "9s - loss: 1.0713 - acc: 0.5703 - val_loss: 1.4279 - val_acc: 0.3724\n",
      "Epoch 86/300\n",
      "8s - loss: 1.0515 - acc: 0.5707 - val_loss: 1.4317 - val_acc: 0.3738\n",
      "Epoch 87/300\n",
      "8s - loss: 1.0667 - acc: 0.5669 - val_loss: 1.4366 - val_acc: 0.3787\n",
      "Epoch 88/300\n",
      "8s - loss: 1.0769 - acc: 0.5674 - val_loss: 1.4319 - val_acc: 0.3724\n",
      "Epoch 89/300\n",
      "8s - loss: 1.0629 - acc: 0.5721 - val_loss: 1.4311 - val_acc: 0.3778\n",
      "Epoch 90/300\n",
      "8s - loss: 1.0721 - acc: 0.5679 - val_loss: 1.4269 - val_acc: 0.3824\n",
      "Epoch 91/300\n",
      "8s - loss: 1.0541 - acc: 0.5751 - val_loss: 1.4305 - val_acc: 0.3719\n",
      "Epoch 92/300\n",
      "8s - loss: 1.0567 - acc: 0.5747 - val_loss: 1.4304 - val_acc: 0.3796\n",
      "Epoch 93/300\n",
      "8s - loss: 1.0690 - acc: 0.5665 - val_loss: 1.4321 - val_acc: 0.3805\n",
      "Epoch 94/300\n",
      "8s - loss: 1.0685 - acc: 0.5678 - val_loss: 1.4347 - val_acc: 0.3814\n",
      "Epoch 95/300\n",
      "8s - loss: 1.0609 - acc: 0.5729 - val_loss: 1.4371 - val_acc: 0.3756\n",
      "Epoch 96/300\n",
      "8s - loss: 1.0544 - acc: 0.5693 - val_loss: 1.4323 - val_acc: 0.3747\n",
      "Epoch 97/300\n",
      "8s - loss: 1.0645 - acc: 0.5716 - val_loss: 1.4257 - val_acc: 0.3837\n",
      "Epoch 98/300\n",
      "8s - loss: 1.0545 - acc: 0.5746 - val_loss: 1.4330 - val_acc: 0.3787\n",
      "Epoch 99/300\n",
      "8s - loss: 1.0619 - acc: 0.5637 - val_loss: 1.4401 - val_acc: 0.3842\n",
      "Epoch 100/300\n",
      "8s - loss: 1.0726 - acc: 0.5643 - val_loss: 1.4340 - val_acc: 0.3769\n",
      "Epoch 101/300\n",
      "8s - loss: 1.0595 - acc: 0.5678 - val_loss: 1.4312 - val_acc: 0.3792\n",
      "Epoch 102/300\n",
      "8s - loss: 1.0571 - acc: 0.5690 - val_loss: 1.4427 - val_acc: 0.3719\n",
      "Epoch 103/300\n",
      "8s - loss: 1.0689 - acc: 0.5652 - val_loss: 1.4379 - val_acc: 0.3742\n",
      "Epoch 104/300\n",
      "8s - loss: 1.0725 - acc: 0.5666 - val_loss: 1.4407 - val_acc: 0.3778\n",
      "Epoch 105/300\n",
      "8s - loss: 1.0604 - acc: 0.5670 - val_loss: 1.4324 - val_acc: 0.3774\n",
      "Epoch 106/300\n",
      "8s - loss: 1.0670 - acc: 0.5653 - val_loss: 1.4277 - val_acc: 0.3796\n",
      "Epoch 107/300\n",
      "8s - loss: 1.0576 - acc: 0.5731 - val_loss: 1.4334 - val_acc: 0.3792\n",
      "Epoch 108/300\n",
      "8s - loss: 1.0663 - acc: 0.5738 - val_loss: 1.4332 - val_acc: 0.3769\n",
      "Epoch 109/300\n",
      "8s - loss: 1.0553 - acc: 0.5749 - val_loss: 1.4410 - val_acc: 0.3792\n",
      "Epoch 110/300\n",
      "8s - loss: 1.0574 - acc: 0.5720 - val_loss: 1.4337 - val_acc: 0.3819\n",
      "Epoch 111/300\n",
      "8s - loss: 1.0535 - acc: 0.5757 - val_loss: 1.4345 - val_acc: 0.3824\n",
      "Epoch 112/300\n",
      "8s - loss: 1.0483 - acc: 0.5700 - val_loss: 1.4327 - val_acc: 0.3801\n",
      "Epoch 113/300\n",
      "8s - loss: 1.0530 - acc: 0.5739 - val_loss: 1.4411 - val_acc: 0.3756\n",
      "Epoch 114/300\n",
      "8s - loss: 1.0465 - acc: 0.5778 - val_loss: 1.4379 - val_acc: 0.3814\n",
      "Epoch 115/300\n",
      "8s - loss: 1.0531 - acc: 0.5778 - val_loss: 1.4374 - val_acc: 0.3742\n",
      "Epoch 116/300\n",
      "8s - loss: 1.0574 - acc: 0.5784 - val_loss: 1.4457 - val_acc: 0.3778\n",
      "Epoch 117/300\n",
      "8s - loss: 1.0531 - acc: 0.5764 - val_loss: 1.4285 - val_acc: 0.3747\n",
      "Epoch 118/300\n",
      "8s - loss: 1.0515 - acc: 0.5740 - val_loss: 1.4340 - val_acc: 0.3769\n",
      "Epoch 119/300\n",
      "8s - loss: 1.0556 - acc: 0.5684 - val_loss: 1.4339 - val_acc: 0.3824\n",
      "Epoch 120/300\n",
      "8s - loss: 1.0413 - acc: 0.5783 - val_loss: 1.4289 - val_acc: 0.3787\n",
      "Epoch 121/300\n",
      "8s - loss: 1.0593 - acc: 0.5726 - val_loss: 1.4350 - val_acc: 0.3697\n",
      "Epoch 122/300\n",
      "8s - loss: 1.0631 - acc: 0.5672 - val_loss: 1.4309 - val_acc: 0.3747\n",
      "Epoch 123/300\n",
      "8s - loss: 1.0552 - acc: 0.5744 - val_loss: 1.4360 - val_acc: 0.3833\n",
      "Epoch 124/300\n",
      "8s - loss: 1.0381 - acc: 0.5806 - val_loss: 1.4437 - val_acc: 0.3787\n",
      "Epoch 125/300\n",
      "8s - loss: 1.0537 - acc: 0.5775 - val_loss: 1.4301 - val_acc: 0.3792\n",
      "Epoch 126/300\n",
      "8s - loss: 1.0536 - acc: 0.5736 - val_loss: 1.4334 - val_acc: 0.3783\n",
      "Epoch 127/300\n",
      "8s - loss: 1.0574 - acc: 0.5711 - val_loss: 1.4401 - val_acc: 0.3765\n",
      "Epoch 128/300\n",
      "8s - loss: 1.0436 - acc: 0.5800 - val_loss: 1.4403 - val_acc: 0.3792\n",
      "Epoch 129/300\n",
      "8s - loss: 1.0493 - acc: 0.5801 - val_loss: 1.4339 - val_acc: 0.3814\n",
      "Epoch 130/300\n",
      "8s - loss: 1.0409 - acc: 0.5822 - val_loss: 1.4380 - val_acc: 0.3837\n",
      "Epoch 131/300\n",
      "8s - loss: 1.0526 - acc: 0.5758 - val_loss: 1.4394 - val_acc: 0.3733\n",
      "Epoch 132/300\n",
      "8s - loss: 1.0494 - acc: 0.5795 - val_loss: 1.4332 - val_acc: 0.3805\n",
      "Epoch 133/300\n",
      "8s - loss: 1.0481 - acc: 0.5773 - val_loss: 1.4297 - val_acc: 0.3828\n",
      "Epoch 134/300\n",
      "9s - loss: 1.0413 - acc: 0.5778 - val_loss: 1.4292 - val_acc: 0.3851\n",
      "Epoch 135/300\n",
      "8s - loss: 1.0413 - acc: 0.5812 - val_loss: 1.4343 - val_acc: 0.3833\n",
      "Epoch 136/300\n",
      "9s - loss: 1.0535 - acc: 0.5739 - val_loss: 1.4347 - val_acc: 0.3819\n",
      "Epoch 137/300\n",
      "9s - loss: 1.0569 - acc: 0.5712 - val_loss: 1.4307 - val_acc: 0.3819\n",
      "Epoch 138/300\n",
      "9s - loss: 1.0602 - acc: 0.5738 - val_loss: 1.4381 - val_acc: 0.3747\n",
      "Epoch 139/300\n",
      "9s - loss: 1.0687 - acc: 0.5675 - val_loss: 1.4313 - val_acc: 0.3738\n",
      "Epoch 140/300\n",
      "9s - loss: 1.0497 - acc: 0.5827 - val_loss: 1.4347 - val_acc: 0.3724\n",
      "Epoch 141/300\n",
      "8s - loss: 1.0502 - acc: 0.5766 - val_loss: 1.4343 - val_acc: 0.3760\n",
      "Epoch 142/300\n",
      "9s - loss: 1.0456 - acc: 0.5763 - val_loss: 1.4348 - val_acc: 0.3787\n",
      "Epoch 143/300\n",
      "9s - loss: 1.0478 - acc: 0.5769 - val_loss: 1.4281 - val_acc: 0.3805\n",
      "Epoch 144/300\n",
      "9s - loss: 1.0495 - acc: 0.5823 - val_loss: 1.4351 - val_acc: 0.3837\n",
      "Epoch 145/300\n",
      "9s - loss: 1.0436 - acc: 0.5792 - val_loss: 1.4322 - val_acc: 0.3787\n",
      "Epoch 146/300\n",
      "9s - loss: 1.0422 - acc: 0.5795 - val_loss: 1.4478 - val_acc: 0.3719\n",
      "Epoch 147/300\n",
      "9s - loss: 1.0368 - acc: 0.5833 - val_loss: 1.4360 - val_acc: 0.3701\n",
      "Epoch 148/300\n",
      "8s - loss: 1.0412 - acc: 0.5837 - val_loss: 1.4280 - val_acc: 0.3733\n",
      "Epoch 149/300\n",
      "8s - loss: 1.0479 - acc: 0.5771 - val_loss: 1.4445 - val_acc: 0.3719\n",
      "Epoch 150/300\n",
      "8s - loss: 1.0654 - acc: 0.5758 - val_loss: 1.4425 - val_acc: 0.3710\n",
      "Epoch 151/300\n",
      "8s - loss: 1.0583 - acc: 0.5799 - val_loss: 1.4379 - val_acc: 0.3792\n",
      "Epoch 152/300\n",
      "8s - loss: 1.0418 - acc: 0.5816 - val_loss: 1.4393 - val_acc: 0.3751\n",
      "Epoch 153/300\n",
      "8s - loss: 1.0439 - acc: 0.5809 - val_loss: 1.4289 - val_acc: 0.3792\n",
      "Epoch 154/300\n",
      "8s - loss: 1.0448 - acc: 0.5788 - val_loss: 1.4321 - val_acc: 0.3729\n",
      "Epoch 155/300\n",
      "8s - loss: 1.0551 - acc: 0.5787 - val_loss: 1.4395 - val_acc: 0.3710\n",
      "Epoch 156/300\n",
      "8s - loss: 1.0397 - acc: 0.5859 - val_loss: 1.4383 - val_acc: 0.3747\n",
      "Epoch 157/300\n",
      "8s - loss: 1.0573 - acc: 0.5724 - val_loss: 1.4359 - val_acc: 0.3738\n",
      "Epoch 158/300\n",
      "8s - loss: 1.0549 - acc: 0.5708 - val_loss: 1.4467 - val_acc: 0.3742\n",
      "Epoch 159/300\n",
      "8s - loss: 1.0461 - acc: 0.5779 - val_loss: 1.4366 - val_acc: 0.3778\n",
      "Epoch 160/300\n",
      "8s - loss: 1.0317 - acc: 0.5853 - val_loss: 1.4315 - val_acc: 0.3774\n",
      "Epoch 161/300\n",
      "8s - loss: 1.0561 - acc: 0.5757 - val_loss: 1.4456 - val_acc: 0.3706\n",
      "Epoch 162/300\n",
      "8s - loss: 1.0444 - acc: 0.5834 - val_loss: 1.4421 - val_acc: 0.3679\n",
      "Epoch 163/300\n",
      "8s - loss: 1.0362 - acc: 0.5834 - val_loss: 1.4361 - val_acc: 0.3751\n",
      "Epoch 164/300\n",
      "8s - loss: 1.0405 - acc: 0.5778 - val_loss: 1.4514 - val_acc: 0.3783\n",
      "Epoch 165/300\n",
      "8s - loss: 1.0598 - acc: 0.5720 - val_loss: 1.4411 - val_acc: 0.3724\n",
      "Epoch 166/300\n",
      "8s - loss: 1.0331 - acc: 0.5860 - val_loss: 1.4428 - val_acc: 0.3665\n",
      "Epoch 167/300\n",
      "8s - loss: 1.0423 - acc: 0.5835 - val_loss: 1.4425 - val_acc: 0.3656\n",
      "Epoch 168/300\n",
      "8s - loss: 1.0519 - acc: 0.5767 - val_loss: 1.4382 - val_acc: 0.3710\n",
      "Epoch 169/300\n",
      "8s - loss: 1.0383 - acc: 0.5846 - val_loss: 1.4328 - val_acc: 0.3733\n",
      "Epoch 170/300\n",
      "8s - loss: 1.0310 - acc: 0.5918 - val_loss: 1.4400 - val_acc: 0.3692\n",
      "Epoch 171/300\n",
      "8s - loss: 1.0481 - acc: 0.5787 - val_loss: 1.4381 - val_acc: 0.3715\n",
      "Epoch 172/300\n",
      "8s - loss: 1.0268 - acc: 0.5827 - val_loss: 1.4422 - val_acc: 0.3796\n",
      "Epoch 173/300\n",
      "8s - loss: 1.0343 - acc: 0.5797 - val_loss: 1.4389 - val_acc: 0.3774\n",
      "Epoch 174/300\n",
      "8s - loss: 1.0473 - acc: 0.5844 - val_loss: 1.4359 - val_acc: 0.3715\n",
      "Epoch 175/300\n",
      "8s - loss: 1.0550 - acc: 0.5772 - val_loss: 1.4343 - val_acc: 0.3747\n",
      "Epoch 176/300\n",
      "8s - loss: 1.0329 - acc: 0.5878 - val_loss: 1.4336 - val_acc: 0.3710\n",
      "Epoch 177/300\n",
      "8s - loss: 1.0458 - acc: 0.5762 - val_loss: 1.4354 - val_acc: 0.3778\n",
      "Epoch 178/300\n",
      "8s - loss: 1.0252 - acc: 0.5935 - val_loss: 1.4411 - val_acc: 0.3774\n",
      "Epoch 179/300\n",
      "8s - loss: 1.0378 - acc: 0.5806 - val_loss: 1.4363 - val_acc: 0.3751\n",
      "Epoch 180/300\n",
      "8s - loss: 1.0278 - acc: 0.5910 - val_loss: 1.4401 - val_acc: 0.3738\n",
      "Epoch 181/300\n",
      "8s - loss: 1.0514 - acc: 0.5730 - val_loss: 1.4476 - val_acc: 0.3652\n",
      "Epoch 182/300\n",
      "8s - loss: 1.0340 - acc: 0.5868 - val_loss: 1.4532 - val_acc: 0.3643\n",
      "Epoch 183/300\n",
      "8s - loss: 1.0253 - acc: 0.5924 - val_loss: 1.4370 - val_acc: 0.3670\n",
      "Epoch 184/300\n",
      "8s - loss: 1.0385 - acc: 0.5835 - val_loss: 1.4377 - val_acc: 0.3846\n",
      "Epoch 185/300\n",
      "9s - loss: 1.0566 - acc: 0.5804 - val_loss: 1.4410 - val_acc: 0.3801\n",
      "Epoch 186/300\n",
      "9s - loss: 1.0268 - acc: 0.5855 - val_loss: 1.4436 - val_acc: 0.3692\n",
      "Epoch 187/300\n",
      "9s - loss: 1.0439 - acc: 0.5777 - val_loss: 1.4360 - val_acc: 0.3783\n",
      "Epoch 188/300\n",
      "9s - loss: 1.0540 - acc: 0.5798 - val_loss: 1.4446 - val_acc: 0.3787\n",
      "Epoch 189/300\n",
      "9s - loss: 1.0303 - acc: 0.5925 - val_loss: 1.4297 - val_acc: 0.3769\n",
      "Epoch 190/300\n",
      "9s - loss: 1.0412 - acc: 0.5744 - val_loss: 1.4339 - val_acc: 0.3796\n",
      "Epoch 191/300\n",
      "9s - loss: 1.0376 - acc: 0.5822 - val_loss: 1.4302 - val_acc: 0.3828\n",
      "Epoch 192/300\n",
      "9s - loss: 1.0275 - acc: 0.5885 - val_loss: 1.4469 - val_acc: 0.3674\n",
      "Epoch 193/300\n",
      "8s - loss: 1.0436 - acc: 0.5818 - val_loss: 1.4358 - val_acc: 0.3778\n",
      "Epoch 194/300\n",
      "8s - loss: 1.0368 - acc: 0.5832 - val_loss: 1.4469 - val_acc: 0.3729\n",
      "Epoch 195/300\n",
      "9s - loss: 1.0303 - acc: 0.5893 - val_loss: 1.4315 - val_acc: 0.3851\n",
      "Epoch 196/300\n",
      "8s - loss: 1.0440 - acc: 0.5760 - val_loss: 1.4361 - val_acc: 0.3796\n",
      "Epoch 197/300\n",
      "8s - loss: 1.0479 - acc: 0.5767 - val_loss: 1.4429 - val_acc: 0.3729\n",
      "Epoch 198/300\n",
      "8s - loss: 1.0338 - acc: 0.5823 - val_loss: 1.4357 - val_acc: 0.3805\n",
      "Epoch 199/300\n",
      "8s - loss: 1.0392 - acc: 0.5871 - val_loss: 1.4340 - val_acc: 0.3846\n",
      "Epoch 200/300\n",
      "8s - loss: 1.0246 - acc: 0.5903 - val_loss: 1.4330 - val_acc: 0.3846\n",
      "Epoch 201/300\n",
      "8s - loss: 1.0338 - acc: 0.5835 - val_loss: 1.4451 - val_acc: 0.3796\n",
      "Epoch 202/300\n",
      "9s - loss: 1.0313 - acc: 0.5839 - val_loss: 1.4317 - val_acc: 0.3810\n",
      "Epoch 203/300\n",
      "8s - loss: 1.0368 - acc: 0.5847 - val_loss: 1.4378 - val_acc: 0.3824\n",
      "Epoch 204/300\n",
      "8s - loss: 1.0325 - acc: 0.5864 - val_loss: 1.4332 - val_acc: 0.3833\n",
      "Epoch 205/300\n",
      "8s - loss: 1.0365 - acc: 0.5819 - val_loss: 1.4381 - val_acc: 0.3814\n",
      "Epoch 206/300\n",
      "8s - loss: 1.0215 - acc: 0.5829 - val_loss: 1.4377 - val_acc: 0.3756\n",
      "Epoch 207/300\n",
      "8s - loss: 1.0284 - acc: 0.5860 - val_loss: 1.4387 - val_acc: 0.3778\n",
      "Epoch 208/300\n",
      "9s - loss: 1.0449 - acc: 0.5815 - val_loss: 1.4348 - val_acc: 0.3814\n",
      "Epoch 209/300\n",
      "9s - loss: 1.0360 - acc: 0.5832 - val_loss: 1.4393 - val_acc: 0.3805\n",
      "Epoch 210/300\n",
      "8s - loss: 1.0414 - acc: 0.5830 - val_loss: 1.4409 - val_acc: 0.3747\n",
      "Epoch 211/300\n",
      "9s - loss: 1.0299 - acc: 0.5880 - val_loss: 1.4354 - val_acc: 0.3837\n",
      "Epoch 212/300\n",
      "8s - loss: 1.0187 - acc: 0.5914 - val_loss: 1.4468 - val_acc: 0.3778\n",
      "Epoch 213/300\n",
      "8s - loss: 1.0359 - acc: 0.5815 - val_loss: 1.4372 - val_acc: 0.3778\n",
      "Epoch 214/300\n",
      "9s - loss: 1.0290 - acc: 0.5840 - val_loss: 1.4372 - val_acc: 0.3751\n",
      "Epoch 215/300\n",
      "10s - loss: 1.0313 - acc: 0.5938 - val_loss: 1.4365 - val_acc: 0.3837\n",
      "Epoch 216/300\n",
      "9s - loss: 1.0393 - acc: 0.5829 - val_loss: 1.4407 - val_acc: 0.3805\n",
      "Epoch 217/300\n",
      "8s - loss: 1.0374 - acc: 0.5840 - val_loss: 1.4392 - val_acc: 0.3765\n",
      "Epoch 218/300\n",
      "8s - loss: 1.0226 - acc: 0.5911 - val_loss: 1.4324 - val_acc: 0.3710\n",
      "Epoch 219/300\n",
      "8s - loss: 1.0475 - acc: 0.5767 - val_loss: 1.4317 - val_acc: 0.3833\n",
      "Epoch 220/300\n",
      "8s - loss: 1.0292 - acc: 0.5818 - val_loss: 1.4281 - val_acc: 0.3846\n",
      "Epoch 221/300\n",
      "8s - loss: 1.0364 - acc: 0.5787 - val_loss: 1.4407 - val_acc: 0.3760\n",
      "Epoch 222/300\n",
      "9s - loss: 1.0341 - acc: 0.5831 - val_loss: 1.4385 - val_acc: 0.3769\n",
      "Epoch 223/300\n",
      "8s - loss: 1.0280 - acc: 0.5899 - val_loss: 1.4407 - val_acc: 0.3729\n",
      "Epoch 224/300\n",
      "9s - loss: 1.0273 - acc: 0.5897 - val_loss: 1.4345 - val_acc: 0.3747\n",
      "Epoch 225/300\n",
      "9s - loss: 1.0338 - acc: 0.5819 - val_loss: 1.4355 - val_acc: 0.3765\n",
      "Epoch 226/300\n",
      "9s - loss: 1.0436 - acc: 0.5826 - val_loss: 1.4375 - val_acc: 0.3765\n",
      "Epoch 227/300\n",
      "8s - loss: 1.0393 - acc: 0.5865 - val_loss: 1.4324 - val_acc: 0.3783\n",
      "Epoch 228/300\n",
      "9s - loss: 1.0239 - acc: 0.5862 - val_loss: 1.4359 - val_acc: 0.3760\n",
      "Epoch 229/300\n",
      "8s - loss: 1.0363 - acc: 0.5792 - val_loss: 1.4359 - val_acc: 0.3783\n",
      "Epoch 230/300\n",
      "8s - loss: 1.0211 - acc: 0.5858 - val_loss: 1.4380 - val_acc: 0.3778\n",
      "Epoch 231/300\n",
      "8s - loss: 1.0164 - acc: 0.5956 - val_loss: 1.4344 - val_acc: 0.3747\n",
      "Epoch 232/300\n",
      "9s - loss: 1.0217 - acc: 0.5902 - val_loss: 1.4334 - val_acc: 0.3805\n",
      "Epoch 233/300\n",
      "8s - loss: 1.0295 - acc: 0.5857 - val_loss: 1.4420 - val_acc: 0.3715\n",
      "Epoch 234/300\n",
      "8s - loss: 1.0211 - acc: 0.5879 - val_loss: 1.4412 - val_acc: 0.3706\n",
      "Epoch 235/300\n",
      "9s - loss: 1.0324 - acc: 0.5858 - val_loss: 1.4393 - val_acc: 0.3837\n",
      "Epoch 236/300\n",
      "8s - loss: 1.0212 - acc: 0.5954 - val_loss: 1.4479 - val_acc: 0.3769\n",
      "Epoch 237/300\n",
      "8s - loss: 1.0257 - acc: 0.5867 - val_loss: 1.4331 - val_acc: 0.3801\n",
      "Epoch 238/300\n",
      "8s - loss: 1.0076 - acc: 0.5980 - val_loss: 1.4426 - val_acc: 0.3706\n",
      "Epoch 239/300\n",
      "8s - loss: 1.0300 - acc: 0.5859 - val_loss: 1.4371 - val_acc: 0.3801\n",
      "Epoch 240/300\n",
      "8s - loss: 1.0475 - acc: 0.5745 - val_loss: 1.4333 - val_acc: 0.3778\n",
      "Epoch 241/300\n",
      "8s - loss: 1.0414 - acc: 0.5808 - val_loss: 1.4311 - val_acc: 0.3819\n",
      "Epoch 242/300\n",
      "9s - loss: 1.0281 - acc: 0.5846 - val_loss: 1.4308 - val_acc: 0.3805\n",
      "Epoch 243/300\n",
      "8s - loss: 1.0385 - acc: 0.5846 - val_loss: 1.4372 - val_acc: 0.3769\n",
      "Epoch 244/300\n",
      "8s - loss: 1.0158 - acc: 0.5944 - val_loss: 1.4363 - val_acc: 0.3769\n",
      "Epoch 245/300\n",
      "8s - loss: 1.0159 - acc: 0.5937 - val_loss: 1.4364 - val_acc: 0.3665\n",
      "Epoch 246/300\n",
      "8s - loss: 1.0265 - acc: 0.5908 - val_loss: 1.4359 - val_acc: 0.3710\n",
      "Epoch 247/300\n",
      "8s - loss: 1.0234 - acc: 0.5950 - val_loss: 1.4440 - val_acc: 0.3729\n",
      "Epoch 248/300\n",
      "8s - loss: 1.0210 - acc: 0.5893 - val_loss: 1.4287 - val_acc: 0.3783\n",
      "Epoch 249/300\n",
      "9s - loss: 1.0078 - acc: 0.5972 - val_loss: 1.4315 - val_acc: 0.3747\n",
      "Epoch 250/300\n",
      "9s - loss: 1.0346 - acc: 0.5849 - val_loss: 1.4408 - val_acc: 0.3738\n",
      "Epoch 251/300\n",
      "9s - loss: 1.0134 - acc: 0.5982 - val_loss: 1.4342 - val_acc: 0.3774\n",
      "Epoch 252/300\n",
      "8s - loss: 1.0390 - acc: 0.5885 - val_loss: 1.4320 - val_acc: 0.3774\n",
      "Epoch 253/300\n",
      "9s - loss: 1.0084 - acc: 0.5965 - val_loss: 1.4353 - val_acc: 0.3715\n",
      "Epoch 254/300\n",
      "9s - loss: 1.0292 - acc: 0.5916 - val_loss: 1.4336 - val_acc: 0.3751\n",
      "Epoch 255/300\n",
      "8s - loss: 1.0174 - acc: 0.5949 - val_loss: 1.4322 - val_acc: 0.3733\n",
      "Epoch 256/300\n",
      "9s - loss: 1.0212 - acc: 0.5878 - val_loss: 1.4330 - val_acc: 0.3729\n",
      "Epoch 257/300\n",
      "8s - loss: 1.0229 - acc: 0.5919 - val_loss: 1.4323 - val_acc: 0.3783\n",
      "Epoch 258/300\n",
      "9s - loss: 1.0396 - acc: 0.5792 - val_loss: 1.4370 - val_acc: 0.3760\n",
      "Epoch 259/300\n",
      "9s - loss: 1.0293 - acc: 0.5847 - val_loss: 1.4418 - val_acc: 0.3724\n",
      "Epoch 260/300\n",
      "8s - loss: 1.0304 - acc: 0.5826 - val_loss: 1.4365 - val_acc: 0.3833\n",
      "Epoch 261/300\n",
      "8s - loss: 1.0147 - acc: 0.5929 - val_loss: 1.4396 - val_acc: 0.3688\n",
      "Epoch 262/300\n",
      "10s - loss: 1.0100 - acc: 0.5899 - val_loss: 1.4324 - val_acc: 0.3756\n",
      "Epoch 263/300\n",
      "9s - loss: 1.0227 - acc: 0.5908 - val_loss: 1.4329 - val_acc: 0.3715\n",
      "Epoch 264/300\n",
      "8s - loss: 1.0245 - acc: 0.5832 - val_loss: 1.4455 - val_acc: 0.3706\n",
      "Epoch 265/300\n",
      "9s - loss: 1.0050 - acc: 0.5974 - val_loss: 1.4308 - val_acc: 0.3765\n",
      "Epoch 266/300\n",
      "9s - loss: 1.0206 - acc: 0.5967 - val_loss: 1.4407 - val_acc: 0.3819\n",
      "Epoch 267/300\n",
      "8s - loss: 1.0146 - acc: 0.5929 - val_loss: 1.4364 - val_acc: 0.3760\n",
      "Epoch 268/300\n",
      "9s - loss: 1.0205 - acc: 0.5928 - val_loss: 1.4425 - val_acc: 0.3706\n",
      "Epoch 269/300\n",
      "9s - loss: 1.0248 - acc: 0.5893 - val_loss: 1.4319 - val_acc: 0.3796\n",
      "Epoch 270/300\n",
      "8s - loss: 1.0105 - acc: 0.5937 - val_loss: 1.4374 - val_acc: 0.3805\n",
      "Epoch 271/300\n",
      "8s - loss: 1.0235 - acc: 0.5935 - val_loss: 1.4369 - val_acc: 0.3796\n",
      "Epoch 272/300\n",
      "8s - loss: 1.0087 - acc: 0.5956 - val_loss: 1.4422 - val_acc: 0.3738\n",
      "Epoch 273/300\n",
      "8s - loss: 1.0156 - acc: 0.5943 - val_loss: 1.4334 - val_acc: 0.3783\n",
      "Epoch 274/300\n",
      "9s - loss: 1.0079 - acc: 0.6043 - val_loss: 1.4368 - val_acc: 0.3769\n",
      "Epoch 275/300\n",
      "10s - loss: 1.0079 - acc: 0.5935 - val_loss: 1.4374 - val_acc: 0.3756\n",
      "Epoch 276/300\n",
      "8s - loss: 1.0183 - acc: 0.5944 - val_loss: 1.4394 - val_acc: 0.3828\n",
      "Epoch 277/300\n",
      "9s - loss: 1.0097 - acc: 0.5933 - val_loss: 1.4357 - val_acc: 0.3765\n",
      "Epoch 278/300\n",
      "9s - loss: 1.0214 - acc: 0.5942 - val_loss: 1.4297 - val_acc: 0.3828\n",
      "Epoch 279/300\n",
      "9s - loss: 1.0230 - acc: 0.5856 - val_loss: 1.4348 - val_acc: 0.3842\n",
      "Epoch 280/300\n",
      "9s - loss: 1.0108 - acc: 0.5949 - val_loss: 1.4397 - val_acc: 0.3792\n",
      "Epoch 281/300\n",
      "9s - loss: 1.0039 - acc: 0.6023 - val_loss: 1.4350 - val_acc: 0.3801\n",
      "Epoch 282/300\n",
      "10s - loss: 1.0189 - acc: 0.5939 - val_loss: 1.4320 - val_acc: 0.3819\n",
      "Epoch 283/300\n",
      "8s - loss: 1.0166 - acc: 0.5971 - val_loss: 1.4350 - val_acc: 0.3778\n",
      "Epoch 284/300\n",
      "9s - loss: 1.0061 - acc: 0.5977 - val_loss: 1.4400 - val_acc: 0.3778\n",
      "Epoch 285/300\n",
      "8s - loss: 1.0192 - acc: 0.5955 - val_loss: 1.4301 - val_acc: 0.3824\n",
      "Epoch 286/300\n",
      "8s - loss: 1.0216 - acc: 0.6010 - val_loss: 1.4319 - val_acc: 0.3747\n",
      "Epoch 287/300\n",
      "8s - loss: 1.0060 - acc: 0.6007 - val_loss: 1.4307 - val_acc: 0.3792\n",
      "Epoch 288/300\n",
      "10s - loss: 1.0070 - acc: 0.5969 - val_loss: 1.4338 - val_acc: 0.3805\n",
      "Epoch 289/300\n",
      "8s - loss: 1.0143 - acc: 0.5998 - val_loss: 1.4365 - val_acc: 0.3810\n",
      "Epoch 290/300\n",
      "8s - loss: 1.0094 - acc: 0.5938 - val_loss: 1.4302 - val_acc: 0.3855\n",
      "Epoch 291/300\n",
      "9s - loss: 1.0184 - acc: 0.5943 - val_loss: 1.4334 - val_acc: 0.3905\n",
      "Epoch 292/300\n",
      "9s - loss: 1.0130 - acc: 0.5905 - val_loss: 1.4328 - val_acc: 0.3869\n",
      "Epoch 293/300\n",
      "8s - loss: 1.0043 - acc: 0.5992 - val_loss: 1.4283 - val_acc: 0.3833\n",
      "Epoch 294/300\n",
      "8s - loss: 1.0128 - acc: 0.5914 - val_loss: 1.4265 - val_acc: 0.3860\n",
      "Epoch 295/300\n",
      "9s - loss: 1.0186 - acc: 0.5880 - val_loss: 1.4419 - val_acc: 0.3842\n",
      "Epoch 296/300\n",
      "8s - loss: 1.0146 - acc: 0.5931 - val_loss: 1.4285 - val_acc: 0.3878\n",
      "Epoch 297/300\n",
      "9s - loss: 1.0223 - acc: 0.5975 - val_loss: 1.4333 - val_acc: 0.3828\n",
      "Epoch 298/300\n",
      "9s - loss: 1.0098 - acc: 0.6015 - val_loss: 1.4302 - val_acc: 0.3887\n",
      "Epoch 299/300\n",
      "8s - loss: 1.0119 - acc: 0.5990 - val_loss: 1.4292 - val_acc: 0.3787\n",
      "Epoch 300/300\n",
      "8s - loss: 1.0244 - acc: 0.5927 - val_loss: 1.4373 - val_acc: 0.3801\n"
     ]
    }
   ],
   "source": [
    "if model_type == \"CNN-non-static\":\n",
    "    embedding_layer = model.get_layer(\"embedding\")\n",
    "    embedding_layer.set_weights(embedding_wts)\n",
    "\n",
    "model.compile(loss=\"categorical_crossentropy\", optimizer=optimizers.Adam(), metrics=[\"accuracy\"])\n",
    "\n",
    "res = model.fit(x_train, y_train, \n",
    "          batch_size = batch_size,\n",
    "          epochs=300,\n",
    "          validation_data=(x_test, y_test), verbose=2)"
   ]
  },
  {
   "cell_type": "code",
   "execution_count": 18,
   "metadata": {
    "collapsed": false,
    "deletable": true,
    "editable": true
   },
   "outputs": [
    {
     "data": {
      "text/plain": [
       "256"
      ]
     },
     "execution_count": 18,
     "metadata": {},
     "output_type": "execute_result"
    }
   ],
   "source": [
    "import os\n",
    "os.system('say done')"
   ]
  },
  {
   "cell_type": "markdown",
   "metadata": {
    "deletable": true,
    "editable": true
   },
   "source": [
    "### Computing Accuracy"
   ]
  },
  {
   "cell_type": "code",
   "execution_count": 14,
   "metadata": {
    "collapsed": false,
    "deletable": true,
    "editable": true
   },
   "outputs": [
    {
     "name": "stdout",
     "output_type": "stream",
     "text": [
      "Training Accuracy 26.5422498704\n",
      "Testing Accuracy 26.9683257919\n"
     ]
    }
   ],
   "source": [
    "# Training Accuracy\n",
    "predictions = model.predict(x_train)\n",
    "pred_train = np.argmax(predictions, axis=1)\n",
    "train_label = np.argmax(y_train, axis=1)\n",
    "print('Training Accuracy', np.sum(pred_train == train_label) / N_train * 100)\n",
    "\n",
    "# # Training Accuracy\n",
    "# predictions = model.predict(x_valid)\n",
    "# pred_valid = np.argmax(predictions, axis=1)\n",
    "# valid_label = np.argmax(y_valid, axis=1)\n",
    "# print('Validation Accuracy', np.sum(pred_valid == valid_label) / N_valid * 100)\n",
    "\n",
    "# Test Accuracy\n",
    "predictions = model.predict(x_test)\n",
    "pred_test = np.argmax(predictions, axis=1)\n",
    "test_label = np.argmax(y_test, axis=1)\n",
    "print('Testing Accuracy', np.sum(pred_test == test_label) / N_test * 100)"
   ]
  },
  {
   "cell_type": "markdown",
   "metadata": {
    "deletable": true,
    "editable": true
   },
   "source": [
    "### Save the model"
   ]
  },
  {
   "cell_type": "code",
   "execution_count": 19,
   "metadata": {
    "collapsed": false,
    "deletable": true,
    "editable": true
   },
   "outputs": [],
   "source": [
    "date = str(datetime.date.today() )\n",
    "time = str(datetime.datetime.now().time())[:-7]\n",
    "\n",
    "filename = '/home/shikhar/Datasets/Models/32_' + model_type + '_' + date + '_' +time;\n",
    "with open( filename, 'wb') as output:\n",
    "    pickle.dump([model.get_config(), model.get_weights(), model.history.history], output, pickle.HIGHEST_PROTOCOL)"
   ]
  },
  {
   "cell_type": "markdown",
   "metadata": {
    "deletable": true,
    "editable": true
   },
   "source": [
    "### Plot the results"
   ]
  },
  {
   "cell_type": "code",
   "execution_count": 62,
   "metadata": {
    "collapsed": false,
    "deletable": true,
    "editable": true
   },
   "outputs": [
    {
     "data": {
      "image/png": "[encoded data removed]",
      "text/plain": [
       "<matplotlib.figure.Figure at 0x7f90bfad7198>"
      ]
     },
     "metadata": {},
     "output_type": "display_data"
    }
   ],
   "source": [
    "import matplotlib.pyplot as plt\n",
    "plt.style.use('ggplot')\n",
    "\n",
    "plt.rcParams[\"figure.figsize\"] = (10,6)\n",
    "plt.plot(res.history['acc'])\n",
    "plt.plot(res.history['loss'])\n",
    "plt.plot(res.history['val_acc'])\n",
    "plt.plot(res.history['val_loss'])\n",
    "plt.legend(['Train acc','Train loss','Valid acc', 'Valid loss'], loc=2)\n",
    "plt.xlabel('Epochs')\n",
    "plt.ylabel('Loss/Accuracy')\n",
    "plt.title('Using '+ model_type)\n",
    "imgName = 'Images/' + model_type + '_' + date + '_' + time + '.jpg'\n",
    "plt.savefig( imgName, dpi= 200, bbox_inches='tight', transparent=False)\n",
    "plt.show()"
   ]
  },
  {
   "cell_type": "markdown",
   "metadata": {
    "deletable": true,
    "editable": true
   },
   "source": [
    "### Continue from a pretrained model"
   ]
  },
  {
   "cell_type": "code",
   "execution_count": 13,
   "metadata": {
    "collapsed": true
   },
   "outputs": [],
   "source": [
    "# Loading saved data\n",
    "import pickle\n",
    "\n",
    "filename = '/home/shikhar/Datasets/Models/3_CNN-static_2017-04-04_11:38:41'\n",
    "with open( filename, 'rb') as input:\n",
    "    out = pickle.load(input)\n",
    "\n",
    "model.compile(loss=\"categorical_crossentropy\", optimizer=optimizers.Adam(), metrics=[\"accuracy\"])\n",
    "model.set_weights(out[1])"
   ]
  },
  {
   "cell_type": "code",
   "execution_count": 13,
   "metadata": {
    "collapsed": false,
    "deletable": true,
    "editable": true
   },
   "outputs": [
    {
     "name": "stdout",
     "output_type": "stream",
     "text": [
      "Train on 9645 samples, validate on 2210 samples\n",
      "Epoch 1/1000\n",
      "15s - loss: 1.6891 - acc: 0.2445 - val_loss: 1.6018 - val_acc: 0.2765\n",
      "Epoch 2/1000\n",
      "8s - loss: 1.5747 - acc: 0.2691 - val_loss: 1.5937 - val_acc: 0.2855\n",
      "Epoch 3/1000\n",
      "8s - loss: 1.5736 - acc: 0.2635 - val_loss: 1.5913 - val_acc: 0.2869\n",
      "Epoch 4/1000\n",
      "8s - loss: 1.5735 - acc: 0.2691 - val_loss: 1.5902 - val_acc: 0.2887\n",
      "Epoch 5/1000\n",
      "8s - loss: 1.5743 - acc: 0.2727 - val_loss: 1.5918 - val_acc: 0.2882\n",
      "Epoch 6/1000\n",
      "8s - loss: 1.5708 - acc: 0.2699 - val_loss: 1.5922 - val_acc: 0.2878\n",
      "Epoch 7/1000\n",
      "8s - loss: 1.5741 - acc: 0.2642 - val_loss: 1.5911 - val_acc: 0.2869\n",
      "Epoch 8/1000\n",
      "8s - loss: 1.5718 - acc: 0.2682 - val_loss: 1.5888 - val_acc: 0.2864\n",
      "Epoch 9/1000\n",
      "8s - loss: 1.5714 - acc: 0.2649 - val_loss: 1.5905 - val_acc: 0.2878\n",
      "Epoch 10/1000\n",
      "8s - loss: 1.5705 - acc: 0.2673 - val_loss: 1.5874 - val_acc: 0.2860\n",
      "Epoch 11/1000\n",
      "8s - loss: 1.5706 - acc: 0.2731 - val_loss: 1.5863 - val_acc: 0.2873\n",
      "Epoch 12/1000\n",
      "8s - loss: 1.5679 - acc: 0.2792 - val_loss: 1.5824 - val_acc: 0.2905\n",
      "Epoch 13/1000\n",
      "8s - loss: 1.5676 - acc: 0.2794 - val_loss: 1.5785 - val_acc: 0.2964\n",
      "Epoch 14/1000\n",
      "8s - loss: 1.5681 - acc: 0.2802 - val_loss: 1.5794 - val_acc: 0.2910\n",
      "Epoch 15/1000\n",
      "8s - loss: 1.5679 - acc: 0.2804 - val_loss: 1.5780 - val_acc: 0.2964\n",
      "Epoch 16/1000\n",
      "8s - loss: 1.5639 - acc: 0.2805 - val_loss: 1.5766 - val_acc: 0.2964\n",
      "Epoch 17/1000\n",
      "8s - loss: 1.5629 - acc: 0.2795 - val_loss: 1.5763 - val_acc: 0.3032\n",
      "Epoch 18/1000\n",
      "8s - loss: 1.5657 - acc: 0.2795 - val_loss: 1.5774 - val_acc: 0.3027\n",
      "Epoch 19/1000\n",
      "8s - loss: 1.5623 - acc: 0.2795 - val_loss: 1.5714 - val_acc: 0.2932\n",
      "Epoch 20/1000\n",
      "8s - loss: 1.5601 - acc: 0.2810 - val_loss: 1.5628 - val_acc: 0.2928\n",
      "Epoch 21/1000\n",
      "8s - loss: 1.5584 - acc: 0.2898 - val_loss: 1.5709 - val_acc: 0.3095\n",
      "Epoch 22/1000\n",
      "8s - loss: 1.5603 - acc: 0.2879 - val_loss: 1.5617 - val_acc: 0.3063\n",
      "Epoch 23/1000\n",
      "8s - loss: 1.5557 - acc: 0.2879 - val_loss: 1.5650 - val_acc: 0.3050\n",
      "Epoch 24/1000\n",
      "8s - loss: 1.5535 - acc: 0.2957 - val_loss: 1.5573 - val_acc: 0.3095\n",
      "Epoch 25/1000\n",
      "8s - loss: 1.5567 - acc: 0.2868 - val_loss: 1.5618 - val_acc: 0.2937\n",
      "Epoch 26/1000\n",
      "8s - loss: 1.5526 - acc: 0.2872 - val_loss: 1.5611 - val_acc: 0.3054\n",
      "Epoch 27/1000\n",
      "8s - loss: 1.5512 - acc: 0.2899 - val_loss: 1.5510 - val_acc: 0.3081\n",
      "Epoch 28/1000\n",
      "8s - loss: 1.5483 - acc: 0.2916 - val_loss: 1.5528 - val_acc: 0.3136\n",
      "Epoch 29/1000\n",
      "8s - loss: 1.5491 - acc: 0.2917 - val_loss: 1.5534 - val_acc: 0.3050\n",
      "Epoch 30/1000\n",
      "8s - loss: 1.5452 - acc: 0.2991 - val_loss: 1.5536 - val_acc: 0.3100\n",
      "Epoch 31/1000\n",
      "8s - loss: 1.5475 - acc: 0.2977 - val_loss: 1.5520 - val_acc: 0.3072\n",
      "Epoch 32/1000\n",
      "8s - loss: 1.5459 - acc: 0.2974 - val_loss: 1.5462 - val_acc: 0.3113\n",
      "Epoch 33/1000\n",
      "8s - loss: 1.5423 - acc: 0.2993 - val_loss: 1.5484 - val_acc: 0.3149\n",
      "Epoch 34/1000\n",
      "8s - loss: 1.5400 - acc: 0.2989 - val_loss: 1.5489 - val_acc: 0.3149\n",
      "Epoch 35/1000\n",
      "8s - loss: 1.5376 - acc: 0.3024 - val_loss: 1.5457 - val_acc: 0.3190\n",
      "Epoch 36/1000\n",
      "8s - loss: 1.5344 - acc: 0.2995 - val_loss: 1.5443 - val_acc: 0.3208\n",
      "Epoch 37/1000\n",
      "8s - loss: 1.5397 - acc: 0.2964 - val_loss: 1.5411 - val_acc: 0.3222\n",
      "Epoch 38/1000\n",
      "8s - loss: 1.5301 - acc: 0.3092 - val_loss: 1.5423 - val_acc: 0.3186\n",
      "Epoch 39/1000\n",
      "8s - loss: 1.5268 - acc: 0.3109 - val_loss: 1.5365 - val_acc: 0.3235\n",
      "Epoch 40/1000\n",
      "8s - loss: 1.5274 - acc: 0.3111 - val_loss: 1.5330 - val_acc: 0.3226\n",
      "Epoch 41/1000\n",
      "8s - loss: 1.5228 - acc: 0.3111 - val_loss: 1.5436 - val_acc: 0.3235\n",
      "Epoch 42/1000\n",
      "8s - loss: 1.5226 - acc: 0.3186 - val_loss: 1.5405 - val_acc: 0.3213\n",
      "Epoch 43/1000\n",
      "8s - loss: 1.5210 - acc: 0.3159 - val_loss: 1.5385 - val_acc: 0.3253\n",
      "Epoch 44/1000\n",
      "8s - loss: 1.5173 - acc: 0.3207 - val_loss: 1.5328 - val_acc: 0.3312\n",
      "Epoch 45/1000\n",
      "8s - loss: 1.5201 - acc: 0.3201 - val_loss: 1.5331 - val_acc: 0.3344\n",
      "Epoch 46/1000\n",
      "8s - loss: 1.5174 - acc: 0.3176 - val_loss: 1.5357 - val_acc: 0.3276\n",
      "Epoch 47/1000\n",
      "8s - loss: 1.5178 - acc: 0.3175 - val_loss: 1.5292 - val_acc: 0.3389\n",
      "Epoch 48/1000\n",
      "8s - loss: 1.5159 - acc: 0.3165 - val_loss: 1.5335 - val_acc: 0.3321\n",
      "Epoch 49/1000\n",
      "8s - loss: 1.5074 - acc: 0.3196 - val_loss: 1.5329 - val_acc: 0.3317\n",
      "Epoch 50/1000\n",
      "8s - loss: 1.5067 - acc: 0.3329 - val_loss: 1.5303 - val_acc: 0.3348\n",
      "Epoch 51/1000\n",
      "8s - loss: 1.5056 - acc: 0.3274 - val_loss: 1.5321 - val_acc: 0.3362\n",
      "Epoch 52/1000\n",
      "8s - loss: 1.5042 - acc: 0.3301 - val_loss: 1.5285 - val_acc: 0.3344\n",
      "Epoch 53/1000\n",
      "8s - loss: 1.5068 - acc: 0.3328 - val_loss: 1.5311 - val_acc: 0.3317\n",
      "Epoch 54/1000\n",
      "8s - loss: 1.5028 - acc: 0.3325 - val_loss: 1.5260 - val_acc: 0.3416\n",
      "Epoch 55/1000\n",
      "8s - loss: 1.4987 - acc: 0.3384 - val_loss: 1.5258 - val_acc: 0.3439\n",
      "Epoch 56/1000\n",
      "8s - loss: 1.5006 - acc: 0.3385 - val_loss: 1.5238 - val_acc: 0.3380\n",
      "Epoch 57/1000\n",
      "8s - loss: 1.4983 - acc: 0.3348 - val_loss: 1.5149 - val_acc: 0.3448\n",
      "Epoch 58/1000\n",
      "8s - loss: 1.4978 - acc: 0.3301 - val_loss: 1.5248 - val_acc: 0.3403\n",
      "Epoch 59/1000\n",
      "8s - loss: 1.4930 - acc: 0.3408 - val_loss: 1.5157 - val_acc: 0.3480\n",
      "Epoch 60/1000\n",
      "9s - loss: 1.4859 - acc: 0.3444 - val_loss: 1.5209 - val_acc: 0.3403\n",
      "Epoch 61/1000\n",
      "8s - loss: 1.4843 - acc: 0.3373 - val_loss: 1.5141 - val_acc: 0.3516\n",
      "Epoch 62/1000\n",
      "9s - loss: 1.4869 - acc: 0.3382 - val_loss: 1.5128 - val_acc: 0.3538\n",
      "Epoch 63/1000\n",
      "9s - loss: 1.4848 - acc: 0.3395 - val_loss: 1.5193 - val_acc: 0.3425\n",
      "Epoch 64/1000\n",
      "10s - loss: 1.4856 - acc: 0.3401 - val_loss: 1.5155 - val_acc: 0.3498\n",
      "Epoch 65/1000\n"
     ]
    },
    {
     "ename": "KeyboardInterrupt",
     "evalue": "",
     "output_type": "error",
     "traceback": [
      "\u001b[0;31m---------------------------------------------------------------------------\u001b[0m",
      "\u001b[0;31mKeyboardInterrupt\u001b[0m                         Traceback (most recent call last)",
      "\u001b[0;32m<ipython-input-13-9cfd43ce6686>\u001b[0m in \u001b[0;36m<module>\u001b[0;34m()\u001b[0m\n\u001b[1;32m     12\u001b[0m           \u001b[0mbatch_size\u001b[0m \u001b[0;34m=\u001b[0m \u001b[0mbatch_size\u001b[0m\u001b[0;34m,\u001b[0m\u001b[0;34m\u001b[0m\u001b[0m\n\u001b[1;32m     13\u001b[0m           \u001b[0mepochs\u001b[0m\u001b[0;34m=\u001b[0m\u001b[0;36m1000\u001b[0m\u001b[0;34m,\u001b[0m\u001b[0;34m\u001b[0m\u001b[0m\n\u001b[0;32m---> 14\u001b[0;31m           validation_data=(x_test, y_test), verbose=2)\n\u001b[0m",
      "\u001b[0;32m/usr/local/lib/python3.5/dist-packages/keras/engine/training.py\u001b[0m in \u001b[0;36mfit\u001b[0;34m(self, x, y, batch_size, epochs, verbose, callbacks, validation_split, validation_data, shuffle, class_weight, sample_weight, initial_epoch, **kwargs)\u001b[0m\n\u001b[1;32m   1483\u001b[0m                               \u001b[0mval_f\u001b[0m\u001b[0;34m=\u001b[0m\u001b[0mval_f\u001b[0m\u001b[0;34m,\u001b[0m \u001b[0mval_ins\u001b[0m\u001b[0;34m=\u001b[0m\u001b[0mval_ins\u001b[0m\u001b[0;34m,\u001b[0m \u001b[0mshuffle\u001b[0m\u001b[0;34m=\u001b[0m\u001b[0mshuffle\u001b[0m\u001b[0;34m,\u001b[0m\u001b[0;34m\u001b[0m\u001b[0m\n\u001b[1;32m   1484\u001b[0m                               \u001b[0mcallback_metrics\u001b[0m\u001b[0;34m=\u001b[0m\u001b[0mcallback_metrics\u001b[0m\u001b[0;34m,\u001b[0m\u001b[0;34m\u001b[0m\u001b[0m\n\u001b[0;32m-> 1485\u001b[0;31m                               initial_epoch=initial_epoch)\n\u001b[0m\u001b[1;32m   1486\u001b[0m \u001b[0;34m\u001b[0m\u001b[0m\n\u001b[1;32m   1487\u001b[0m     \u001b[0;32mdef\u001b[0m \u001b[0mevaluate\u001b[0m\u001b[0;34m(\u001b[0m\u001b[0mself\u001b[0m\u001b[0;34m,\u001b[0m \u001b[0mx\u001b[0m\u001b[0;34m,\u001b[0m \u001b[0my\u001b[0m\u001b[0;34m,\u001b[0m \u001b[0mbatch_size\u001b[0m\u001b[0;34m=\u001b[0m\u001b[0;36m32\u001b[0m\u001b[0;34m,\u001b[0m \u001b[0mverbose\u001b[0m\u001b[0;34m=\u001b[0m\u001b[0;36m1\u001b[0m\u001b[0;34m,\u001b[0m \u001b[0msample_weight\u001b[0m\u001b[0;34m=\u001b[0m\u001b[0;32mNone\u001b[0m\u001b[0;34m)\u001b[0m\u001b[0;34m:\u001b[0m\u001b[0;34m\u001b[0m\u001b[0m\n",
      "\u001b[0;32m/usr/local/lib/python3.5/dist-packages/keras/engine/training.py\u001b[0m in \u001b[0;36m_fit_loop\u001b[0;34m(self, f, ins, out_labels, batch_size, epochs, verbose, callbacks, val_f, val_ins, shuffle, callback_metrics, initial_epoch)\u001b[0m\n\u001b[1;32m   1138\u001b[0m                 \u001b[0mbatch_logs\u001b[0m\u001b[0;34m[\u001b[0m\u001b[0;34m'size'\u001b[0m\u001b[0;34m]\u001b[0m \u001b[0;34m=\u001b[0m \u001b[0mlen\u001b[0m\u001b[0;34m(\u001b[0m\u001b[0mbatch_ids\u001b[0m\u001b[0;34m)\u001b[0m\u001b[0;34m\u001b[0m\u001b[0m\n\u001b[1;32m   1139\u001b[0m                 \u001b[0mcallbacks\u001b[0m\u001b[0;34m.\u001b[0m\u001b[0mon_batch_begin\u001b[0m\u001b[0;34m(\u001b[0m\u001b[0mbatch_index\u001b[0m\u001b[0;34m,\u001b[0m \u001b[0mbatch_logs\u001b[0m\u001b[0;34m)\u001b[0m\u001b[0;34m\u001b[0m\u001b[0m\n\u001b[0;32m-> 1140\u001b[0;31m                 \u001b[0mouts\u001b[0m \u001b[0;34m=\u001b[0m \u001b[0mf\u001b[0m\u001b[0;34m(\u001b[0m\u001b[0mins_batch\u001b[0m\u001b[0;34m)\u001b[0m\u001b[0;34m\u001b[0m\u001b[0m\n\u001b[0m\u001b[1;32m   1141\u001b[0m                 \u001b[0;32mif\u001b[0m \u001b[0;32mnot\u001b[0m \u001b[0misinstance\u001b[0m\u001b[0;34m(\u001b[0m\u001b[0mouts\u001b[0m\u001b[0;34m,\u001b[0m \u001b[0mlist\u001b[0m\u001b[0;34m)\u001b[0m\u001b[0;34m:\u001b[0m\u001b[0;34m\u001b[0m\u001b[0m\n\u001b[1;32m   1142\u001b[0m                     \u001b[0mouts\u001b[0m \u001b[0;34m=\u001b[0m \u001b[0;34m[\u001b[0m\u001b[0mouts\u001b[0m\u001b[0;34m]\u001b[0m\u001b[0;34m\u001b[0m\u001b[0m\n",
      "\u001b[0;32m/usr/local/lib/python3.5/dist-packages/keras/backend/tensorflow_backend.py\u001b[0m in \u001b[0;36m__call__\u001b[0;34m(self, inputs)\u001b[0m\n\u001b[1;32m   2071\u001b[0m         \u001b[0msession\u001b[0m \u001b[0;34m=\u001b[0m \u001b[0mget_session\u001b[0m\u001b[0;34m(\u001b[0m\u001b[0;34m)\u001b[0m\u001b[0;34m\u001b[0m\u001b[0m\n\u001b[1;32m   2072\u001b[0m         updated = session.run(self.outputs + [self.updates_op],\n\u001b[0;32m-> 2073\u001b[0;31m                               feed_dict=feed_dict)\n\u001b[0m\u001b[1;32m   2074\u001b[0m         \u001b[0;32mreturn\u001b[0m \u001b[0mupdated\u001b[0m\u001b[0;34m[\u001b[0m\u001b[0;34m:\u001b[0m\u001b[0mlen\u001b[0m\u001b[0;34m(\u001b[0m\u001b[0mself\u001b[0m\u001b[0;34m.\u001b[0m\u001b[0moutputs\u001b[0m\u001b[0;34m)\u001b[0m\u001b[0;34m]\u001b[0m\u001b[0;34m\u001b[0m\u001b[0m\n\u001b[1;32m   2075\u001b[0m \u001b[0;34m\u001b[0m\u001b[0m\n",
      "\u001b[0;32m/usr/local/lib/python3.5/dist-packages/tensorflow/python/client/session.py\u001b[0m in \u001b[0;36mrun\u001b[0;34m(self, fetches, feed_dict, options, run_metadata)\u001b[0m\n\u001b[1;32m    765\u001b[0m     \u001b[0;32mtry\u001b[0m\u001b[0;34m:\u001b[0m\u001b[0;34m\u001b[0m\u001b[0m\n\u001b[1;32m    766\u001b[0m       result = self._run(None, fetches, feed_dict, options_ptr,\n\u001b[0;32m--> 767\u001b[0;31m                          run_metadata_ptr)\n\u001b[0m\u001b[1;32m    768\u001b[0m       \u001b[0;32mif\u001b[0m \u001b[0mrun_metadata\u001b[0m\u001b[0;34m:\u001b[0m\u001b[0;34m\u001b[0m\u001b[0m\n\u001b[1;32m    769\u001b[0m         \u001b[0mproto_data\u001b[0m \u001b[0;34m=\u001b[0m \u001b[0mtf_session\u001b[0m\u001b[0;34m.\u001b[0m\u001b[0mTF_GetBuffer\u001b[0m\u001b[0;34m(\u001b[0m\u001b[0mrun_metadata_ptr\u001b[0m\u001b[0;34m)\u001b[0m\u001b[0;34m\u001b[0m\u001b[0m\n",
      "\u001b[0;32m/usr/local/lib/python3.5/dist-packages/tensorflow/python/client/session.py\u001b[0m in \u001b[0;36m_run\u001b[0;34m(self, handle, fetches, feed_dict, options, run_metadata)\u001b[0m\n\u001b[1;32m    963\u001b[0m     \u001b[0;32mif\u001b[0m \u001b[0mfinal_fetches\u001b[0m \u001b[0;32mor\u001b[0m \u001b[0mfinal_targets\u001b[0m\u001b[0;34m:\u001b[0m\u001b[0;34m\u001b[0m\u001b[0m\n\u001b[1;32m    964\u001b[0m       results = self._do_run(handle, final_targets, final_fetches,\n\u001b[0;32m--> 965\u001b[0;31m                              feed_dict_string, options, run_metadata)\n\u001b[0m\u001b[1;32m    966\u001b[0m     \u001b[0;32melse\u001b[0m\u001b[0;34m:\u001b[0m\u001b[0;34m\u001b[0m\u001b[0m\n\u001b[1;32m    967\u001b[0m       \u001b[0mresults\u001b[0m \u001b[0;34m=\u001b[0m \u001b[0;34m[\u001b[0m\u001b[0;34m]\u001b[0m\u001b[0;34m\u001b[0m\u001b[0m\n",
      "\u001b[0;32m/usr/local/lib/python3.5/dist-packages/tensorflow/python/client/session.py\u001b[0m in \u001b[0;36m_do_run\u001b[0;34m(self, handle, target_list, fetch_list, feed_dict, options, run_metadata)\u001b[0m\n\u001b[1;32m   1013\u001b[0m     \u001b[0;32mif\u001b[0m \u001b[0mhandle\u001b[0m \u001b[0;32mis\u001b[0m \u001b[0;32mNone\u001b[0m\u001b[0;34m:\u001b[0m\u001b[0;34m\u001b[0m\u001b[0m\n\u001b[1;32m   1014\u001b[0m       return self._do_call(_run_fn, self._session, feed_dict, fetch_list,\n\u001b[0;32m-> 1015\u001b[0;31m                            target_list, options, run_metadata)\n\u001b[0m\u001b[1;32m   1016\u001b[0m     \u001b[0;32melse\u001b[0m\u001b[0;34m:\u001b[0m\u001b[0;34m\u001b[0m\u001b[0m\n\u001b[1;32m   1017\u001b[0m       return self._do_call(_prun_fn, self._session, handle, feed_dict,\n",
      "\u001b[0;32m/usr/local/lib/python3.5/dist-packages/tensorflow/python/client/session.py\u001b[0m in \u001b[0;36m_do_call\u001b[0;34m(self, fn, *args)\u001b[0m\n\u001b[1;32m   1020\u001b[0m   \u001b[0;32mdef\u001b[0m \u001b[0m_do_call\u001b[0m\u001b[0;34m(\u001b[0m\u001b[0mself\u001b[0m\u001b[0;34m,\u001b[0m \u001b[0mfn\u001b[0m\u001b[0;34m,\u001b[0m \u001b[0;34m*\u001b[0m\u001b[0margs\u001b[0m\u001b[0;34m)\u001b[0m\u001b[0;34m:\u001b[0m\u001b[0;34m\u001b[0m\u001b[0m\n\u001b[1;32m   1021\u001b[0m     \u001b[0;32mtry\u001b[0m\u001b[0;34m:\u001b[0m\u001b[0;34m\u001b[0m\u001b[0m\n\u001b[0;32m-> 1022\u001b[0;31m       \u001b[0;32mreturn\u001b[0m \u001b[0mfn\u001b[0m\u001b[0;34m(\u001b[0m\u001b[0;34m*\u001b[0m\u001b[0margs\u001b[0m\u001b[0;34m)\u001b[0m\u001b[0;34m\u001b[0m\u001b[0m\n\u001b[0m\u001b[1;32m   1023\u001b[0m     \u001b[0;32mexcept\u001b[0m \u001b[0merrors\u001b[0m\u001b[0;34m.\u001b[0m\u001b[0mOpError\u001b[0m \u001b[0;32mas\u001b[0m \u001b[0me\u001b[0m\u001b[0;34m:\u001b[0m\u001b[0;34m\u001b[0m\u001b[0m\n\u001b[1;32m   1024\u001b[0m       \u001b[0mmessage\u001b[0m \u001b[0;34m=\u001b[0m \u001b[0mcompat\u001b[0m\u001b[0;34m.\u001b[0m\u001b[0mas_text\u001b[0m\u001b[0;34m(\u001b[0m\u001b[0me\u001b[0m\u001b[0;34m.\u001b[0m\u001b[0mmessage\u001b[0m\u001b[0;34m)\u001b[0m\u001b[0;34m\u001b[0m\u001b[0m\n",
      "\u001b[0;32m/usr/local/lib/python3.5/dist-packages/tensorflow/python/client/session.py\u001b[0m in \u001b[0;36m_run_fn\u001b[0;34m(session, feed_dict, fetch_list, target_list, options, run_metadata)\u001b[0m\n\u001b[1;32m   1002\u001b[0m         return tf_session.TF_Run(session, options,\n\u001b[1;32m   1003\u001b[0m                                  \u001b[0mfeed_dict\u001b[0m\u001b[0;34m,\u001b[0m \u001b[0mfetch_list\u001b[0m\u001b[0;34m,\u001b[0m \u001b[0mtarget_list\u001b[0m\u001b[0;34m,\u001b[0m\u001b[0;34m\u001b[0m\u001b[0m\n\u001b[0;32m-> 1004\u001b[0;31m                                  status, run_metadata)\n\u001b[0m\u001b[1;32m   1005\u001b[0m \u001b[0;34m\u001b[0m\u001b[0m\n\u001b[1;32m   1006\u001b[0m     \u001b[0;32mdef\u001b[0m \u001b[0m_prun_fn\u001b[0m\u001b[0;34m(\u001b[0m\u001b[0msession\u001b[0m\u001b[0;34m,\u001b[0m \u001b[0mhandle\u001b[0m\u001b[0;34m,\u001b[0m \u001b[0mfeed_dict\u001b[0m\u001b[0;34m,\u001b[0m \u001b[0mfetch_list\u001b[0m\u001b[0;34m)\u001b[0m\u001b[0;34m:\u001b[0m\u001b[0;34m\u001b[0m\u001b[0m\n",
      "\u001b[0;31mKeyboardInterrupt\u001b[0m: "
     ]
    }
   ],
   "source": [
    "res = model.fit(x_train, y_train,\n",
    "          batch_size = batch_size,\n",
    "          epochs=1000,\n",
    "          validation_data=(x_test, y_test), verbose=2)"
   ]
  },
  {
   "cell_type": "markdown",
   "metadata": {
    "deletable": true,
    "editable": true
   },
   "source": [
    "### Save the model (marking as continued)"
   ]
  },
  {
   "cell_type": "code",
   "execution_count": 24,
   "metadata": {
    "collapsed": false,
    "deletable": true,
    "editable": true
   },
   "outputs": [],
   "source": [
    "date = str(datetime.date.today() )\n",
    "time = str(datetime.datetime.now().time())[:-7]\n",
    "\n",
    "filename = '/home/shikhar/Datasets/Models/' + model_type + '_continued_' + date + '_' +time;\n",
    "with open( filename, 'wb') as output:\n",
    "    pickle.dump([model.get_config(), model.get_weights(), model.history.history], output, pickle.HIGHEST_PROTOCOL)"
   ]
  },
  {
   "cell_type": "code",
   "execution_count": 23,
   "metadata": {
    "collapsed": false,
    "deletable": true,
    "editable": true
   },
   "outputs": [
    {
     "data": {
      "text/plain": [
       "256"
      ]
     },
     "execution_count": 23,
     "metadata": {},
     "output_type": "execute_result"
    }
   ],
   "source": [
    "import os\n",
    "os.system('say done')"
   ]
  },
  {
   "cell_type": "code",
   "execution_count": 24,
   "metadata": {
    "collapsed": true,
    "deletable": true,
    "editable": true
   },
   "outputs": [],
   "source": [
    "files = [\n",
    "    'CNN-rand_continued_2017-04-02_19:26:35',\n",
    "    'CNN-rand_continued_2017-04-03_16:50:47',\n",
    "    'CNN-rand_continued_2017-04-03_17:18:47'\n",
    "]"
   ]
  },
  {
   "cell_type": "code",
   "execution_count": 25,
   "metadata": {
    "collapsed": false,
    "deletable": true,
    "editable": true
   },
   "outputs": [],
   "source": [
    "train_acc, train_loss, val_acc, val_loss = [],[],[],[]\n",
    "\n",
    "for file in files:\n",
    "    filename = '/home/shikhar/Datasets/Models/'  + file\n",
    "    with open( filename, 'rb') as input:\n",
    "        out = pickle.load(input)\n",
    "    train_acc += out[2]['acc']\n",
    "    train_loss += out[2]['loss']\n",
    "    val_acc += out[2]['val_acc']\n",
    "    val_loss += out[2]['val_loss']"
   ]
  },
  {
   "cell_type": "code",
   "execution_count": 35,
   "metadata": {
    "collapsed": false,
    "deletable": true,
    "editable": true,
    "scrolled": true
   },
   "outputs": [
    {
     "data": {
      "image/png": "[encoded data removed]",
      "text/plain": [
       "<matplotlib.figure.Figure at 0x7f9ad4f0c278>"
      ]
     },
     "metadata": {},
     "output_type": "display_data"
    }
   ],
   "source": [
    "import matplotlib.pyplot as plt\n",
    "plt.style.use('ggplot')\n",
    "plt.rcParams[\"figure.figsize\"] = (10,6)\n",
    "plt.plot(train_acc)\n",
    "plt.plot(train_loss)\n",
    "plt.plot(val_acc)\n",
    "# plt.plot(val_loss)\n",
    "plt.legend(['Train acc','Train loss','Valid acc', 'Valid loss'], loc=2)\n",
    "plt.xlabel('Epochs')\n",
    "plt.ylabel('Loss/Accuracy')\n",
    "plt.title('Using '+ model_type)\n",
    "date = str(datetime.date.today() )\n",
    "time = str(datetime.datetime.now().time())[:-7]\n",
    "imgName = 'Images/' + model_type + '_' + date + '_' + time + '.jpg'\n",
    "plt.savefig( imgName, dpi= 200, bbox_inches='tight', transparent=False)\n",
    "plt.show()"
   ]
  }
 ],
 "metadata": {
  "kernelspec": {
   "display_name": "Python 3",
   "language": "python",
   "name": "python3"
  },
  "language_info": {
   "codemirror_mode": {
    "name": "ipython",
    "version": 3
   },
   "file_extension": ".py",
   "mimetype": "text/x-python",
   "name": "python",
   "nbconvert_exporter": "python",
   "pygments_lexer": "ipython3",
   "version": "3.5.2"
  }
 },
 "nbformat": 4,
 "nbformat_minor": 2
}
