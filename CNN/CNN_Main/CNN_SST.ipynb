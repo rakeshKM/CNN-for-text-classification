{
 "cells": [
  {
   "cell_type": "code",
   "execution_count": 1,
   "metadata": {},
   "outputs": [
    {
     "name": "stderr",
     "output_type": "stream",
     "text": [
      "Using TensorFlow backend.\n"
     ]
    }
   ],
   "source": [
    "import numpy as np\n",
    "import pandas as pd\n",
    "\n",
    "from gensim import corpora\n",
    "from nltk.corpus import stopwords\n",
    "from nltk.tokenize import word_tokenize \n",
    "from nltk.stem import SnowballStemmer\n",
    "from w2v import train_word2vec \n",
    "import pickle, datetime\n",
    "import difflib\n",
    "\n",
    "import keras\n",
    "from keras.datasets import mnist\n",
    "from keras.models import Model, Sequential\n",
    "from keras.utils import np_utils\n",
    "from keras.layers import Input, Dense, Dropout, Flatten, Embedding, regularizers\n",
    "from keras.layers import Conv1D, MaxPooling1D\n",
    "from keras.layers.merge import Concatenate\n",
    "from keras import optimizers\n",
    "from keras.preprocessing import sequence\n",
    "from keras import backend as K\n",
    "\n",
    "np.random.seed(0)"
   ]
  },
  {
   "cell_type": "code",
   "execution_count": 2,
   "metadata": {
    "collapsed": true
   },
   "outputs": [],
   "source": [
    "df = pd.read_csv('../../Datasets/SST1_dataset/Processed_SST1.tsv', sep='\\t')\n",
    "train_df = pd.read_csv('../../Datasets/Kaggle_dataset/train.tsv', sep='\\t', header=0)\n",
    "\n",
    "# raw_docs_train      = df[df.split_ind == 1]['Phrases'].values\n",
    "# sentiment_train     = df[df.split_ind == 1]['Label'].values\n",
    "raw_docs_train      = train_df['Phrase'].values\n",
    "sentiment_train     = train_df['Sentiment'].values\n",
    "raw_docs_test       = df[df.split_ind == 2]['Phrases'].values\n",
    "sentiment_test      = df[df.split_ind == 2]['Label'].values\n",
    "num_labels          = len(np.unique(sentiment_train))\n",
    "\n",
    "N_TRAIN = len(raw_docs_train)\n",
    "N_TEST = len(raw_docs_test)"
   ]
  },
  {
   "cell_type": "code",
   "execution_count": 3,
   "metadata": {},
   "outputs": [
    {
     "name": "stdout",
     "output_type": "stream",
     "text": [
      "pre-processing train docs...\n",
      "pre-processing test docs...\n",
      "converting to token ids...\n"
     ]
    }
   ],
   "source": [
    "#text pre-processing\n",
    "stop_words = set(stopwords.words('english'))\n",
    "stop_words.update(['.', ',', '\"', \"'\", ':', ';', '(', ')', '[', ']', '{', '}'])\n",
    "stemmer = SnowballStemmer('english')\n",
    "\n",
    "print (\"pre-processing train docs...\")\n",
    "processed_docs_train = []\n",
    "for doc in raw_docs_train:\n",
    "   tokens = word_tokenize(doc)\n",
    "   filtered = [word for word in tokens if word not in stop_words]\n",
    "   stemmed = [stemmer.stem(word) for word in filtered]\n",
    "   processed_docs_train.append(stemmed)\n",
    "\n",
    "print (\"pre-processing test docs...\")\n",
    "processed_docs_test = []\n",
    "for doc in raw_docs_test:\n",
    "   tokens = word_tokenize(doc)\n",
    "   filtered = [word for word in tokens if word not in stop_words]\n",
    "   stemmed = [stemmer.stem(word) for word in filtered]\n",
    "   processed_docs_test.append(stemmed)\n",
    "    \n",
    "processed_docs_all = np.concatenate((processed_docs_train, processed_docs_test), axis=0)\n",
    "\n",
    "dictionary = corpora.Dictionary(processed_docs_all)\n",
    "dictionary_size = len(dictionary.keys())\n",
    "\n",
    "print (\"converting to token ids...\")\n",
    "word_id_train, word_id_len = [], []\n",
    "for doc in processed_docs_train:\n",
    "    word_ids = [dictionary.token2id[word] for word in doc]\n",
    "    word_id_train.append(word_ids)\n",
    "    word_id_len.append(len(word_ids))\n",
    "\n",
    "word_id_test, word_ids = [], []\n",
    "for doc in processed_docs_test:\n",
    "    word_ids = [dictionary.token2id[word] for word in doc]\n",
    "    word_id_test.append(word_ids)\n",
    "    word_id_len.append(len(word_ids))\n",
    "        \n",
    "seq_len = np.round((np.mean(word_id_len) + 2*np.std(word_id_len))).astype(int)\n",
    "\n",
    "#pad sequences\n",
    "x_train = sequence.pad_sequences(np.array(word_id_train), maxlen=seq_len)\n",
    "x_test  = sequence.pad_sequences(np.array(word_id_test), maxlen=seq_len)\n",
    "y_train = np_utils.to_categorical(sentiment_train, num_labels)\n",
    "y_test  = np_utils.to_categorical(sentiment_test, num_labels)"
   ]
  },
  {
   "cell_type": "code",
   "execution_count": 4,
   "metadata": {},
   "outputs": [
    {
     "name": "stdout",
     "output_type": "stream",
     "text": [
      "(156060, 12) (2210, 12) (156060, 5) (2210, 5)\n"
     ]
    }
   ],
   "source": [
    "print(x_train.shape, x_test.shape, y_train.shape, y_test.shape)"
   ]
  },
  {
   "cell_type": "markdown",
   "metadata": {},
   "source": [
    "# -------------------------------- Training model  -----------------------------------"
   ]
  },
  {
   "cell_type": "markdown",
   "metadata": {},
   "source": [
    "### Model Paremeters"
   ]
  },
  {
   "cell_type": "code",
   "execution_count": 10,
   "metadata": {
    "collapsed": true
   },
   "outputs": [],
   "source": [
    "model_type    = 'CNN-rand'  # CNN-rand|CNN-non-static|CNN-static\n",
    "embedding_dim = 100         # word2vec dim\n",
    "vocab_size    = dictionary_size\n",
    "max_sent_len  = seq_len\n",
    "N_CATEGORY    = 5"
   ]
  },
  {
   "cell_type": "markdown",
   "metadata": {},
   "source": [
    "### Generate word2vec "
   ]
  },
  {
   "cell_type": "code",
   "execution_count": 11,
   "metadata": {
    "collapsed": true
   },
   "outputs": [],
   "source": [
    "if model_type in ['CNN-non-static', 'CNN-static']:\n",
    "    embedding_wts = train_word2vec( np.vstack((x_train, x_test)), \n",
    "                                    dictionary.token2id, num_features = embedding_dim)\n",
    "    if model_type == 'CNN-static':\n",
    "        x_train = embedding_wts[0][x_train]\n",
    "        x_test  = embedding_wts[0][x_test]\n",
    "        \n",
    "elif model_type == 'CNN-rand':\n",
    "    embedding_wts = None\n",
    "    \n",
    "else:\n",
    "    raise ValueError(\"Unknown model type\")"
   ]
  },
  {
   "cell_type": "markdown",
   "metadata": {},
   "source": [
    "### Create model"
   ]
  },
  {
   "cell_type": "code",
   "execution_count": 32,
   "metadata": {},
   "outputs": [
    {
     "name": "stdout",
     "output_type": "stream",
     "text": [
      "_________________________________________________________________\n",
      "Layer (type)                 Output Shape              Param #   \n",
      "=================================================================\n",
      "input_9 (InputLayer)         (None, 12)                0         \n",
      "_________________________________________________________________\n",
      "embedding (Embedding)        (None, 12, 100)           1318900   \n",
      "_________________________________________________________________\n",
      "dropout_12 (Dropout)         (None, 12, 100)           0         \n",
      "_________________________________________________________________\n",
      "conv1d_19 (Conv1D)           (None, 6, 100)            70100     \n",
      "_________________________________________________________________\n",
      "max_pooling1d_14 (MaxPooling (None, 3, 100)            0         \n",
      "_________________________________________________________________\n",
      "conv1d_20 (Conv1D)           (None, 1, 100)            30100     \n",
      "_________________________________________________________________\n",
      "dropout_13 (Dropout)         (None, 1, 100)            0         \n",
      "_________________________________________________________________\n",
      "dense_7 (Dense)              (None, 1, 100)            10100     \n",
      "_________________________________________________________________\n",
      "dense_8 (Dense)              (None, 1, 5)              505       \n",
      "=================================================================\n",
      "Total params: 1,429,705.0\n",
      "Trainable params: 1,429,705.0\n",
      "Non-trainable params: 0.0\n",
      "_________________________________________________________________\n"
     ]
    }
   ],
   "source": [
    "batch_size   = 50\n",
    "filter_sizes = [7,3]\n",
    "num_filters  = 100\n",
    "dropout_prob = (0.5, 0.8)\n",
    "hidden_dims  = 100\n",
    "\n",
    "# Deciding dimension of input based on the model\n",
    "input_shape = (max_sent_len, embedding_dim) if model_type == \"CNN-static\" else (max_sent_len,)\n",
    "model_input = Input(shape = input_shape)\n",
    "\n",
    "# Static model do not have embedding layer\n",
    "if model_type == \"CNN-static\":\n",
    "    z = Dropout(dropout_prob[0])(model_input)\n",
    "else:\n",
    "    z = Embedding(vocab_size, embedding_dim, input_length = max_sent_len, name=\"embedding\", trainable=True)(model_input)\n",
    "    z = Dropout(dropout_prob[0])(z)\n",
    "\n",
    "# Convolution layers\n",
    "z1 = Conv1D(    filters=num_filters, kernel_size=filter_sizes[0], \n",
    "                padding=\"valid\", activation=\"relu\", \n",
    "                strides=1)(z)\n",
    "z1 = MaxPooling1D(pool_size =2)(z1)\n",
    "#z1 = Flatten()(z1)\n",
    "\n",
    "z2 = Conv1D(    filters=num_filters, kernel_size=filter_sizes[1], \n",
    "                padding=\"valid\", activation=\"relu\", \n",
    "                strides=1)(z1)\n",
    "#z2 = MaxPooling1D(pool_size=2)(z2)\n",
    "#z2 = Flatten()(z2)\n",
    "\n",
    "#z3 = Conv1D(    filters=num_filters, kernel_size=filter_sizes[2], \n",
    "#                padding=\"valid\", activation=\"relu\",\n",
    "#                strides=1)(z2)\n",
    "#z3 = MaxPooling1D(pool_size=2)(z3)\n",
    "#z3 = Flatten()(z3)\n",
    "\n",
    "# Concatenate the output of all convolution layers\n",
    "#z = Concatenate()([z1, z2, z3])\n",
    "z = Dropout(dropout_prob[1])(z2)\n",
    "\n",
    "z = Dense(hidden_dims, activation=\"relu\")(z)\n",
    "model_output = Dense(N_CATEGORY, activation=\"softmax\")(z)\n",
    "    \n",
    "model = Model(model_input, model_output)\n",
    "model.summary()"
   ]
  },
  {
   "cell_type": "markdown",
   "metadata": {},
   "source": [
    "### Train model "
   ]
  },
  {
   "cell_type": "code",
   "execution_count": 8,
   "metadata": {
    "collapsed": true
   },
   "outputs": [],
   "source": [
    "from sklearn.metrics import roc_auc_score\n",
    "import time\n",
    "import pylab as pl\n",
    "from IPython import display\n",
    "pl.style.use('ggplot')\n",
    "%matplotlib inline\n",
    "\n",
    "class Histories(keras.callbacks.Callback):\n",
    "\n",
    "    def on_train_begin(self, logs={}):\n",
    "        self.acc = []\n",
    "        self.loss = []\n",
    "        self.val_loss = []\n",
    "        self.val_acc = []\n",
    "\n",
    "    def on_train_end(self, logs={}):\n",
    "        return\n",
    "\n",
    "    def on_epoch_begin(self, epoch, logs={}):\n",
    "        return\n",
    "\n",
    "    def on_epoch_end(self, epoch, logs={}):\n",
    "        self.acc.append(logs['acc'])\n",
    "        self.loss.append(logs['loss'])\n",
    "        self.val_acc.append(logs['val_acc'])\n",
    "        self.val_loss.append(logs['val_loss'])\n",
    "        \n",
    "        pl.hold(True)\n",
    "        pl.plot(self.acc)\n",
    "        pl.plot(self.loss)\n",
    "        pl.plot(self.val_acc)\n",
    "        pl.plot(self.val_loss)\n",
    "        pl.legend(['Train acc','Train loss','Valid acc', 'Valid loss'], loc=2)\n",
    "        display.clear_output(wait=True)\n",
    "        display.display(pl.gcf())\n",
    "        return\n",
    "\n",
    "    def on_batch_begin(self, batch, logs={}):\n",
    "        return\n",
    "\n",
    "    def on_batch_end(self, batch, logs={}):\n",
    "        return"
   ]
  },
  {
   "cell_type": "code",
   "execution_count": 29,
   "metadata": {
    "scrolled": true
   },
   "outputs": [
    {
     "ename": "ValueError",
     "evalue": "Error when checking model target: expected dense_6 to have 3 dimensions, but got array with shape (156060, 5)",
     "output_type": "error",
     "traceback": [
      "\u001b[0;31m---------------------------------------------------------------------------\u001b[0m",
      "\u001b[0;31mValueError\u001b[0m                                Traceback (most recent call last)",
      "\u001b[0;32m<ipython-input-29-7380afa5243f>\u001b[0m in \u001b[0;36m<module>\u001b[0;34m()\u001b[0m\n\u001b[1;32m      9\u001b[0m           \u001b[0mbatch_size\u001b[0m \u001b[0;34m=\u001b[0m \u001b[0mbatch_size\u001b[0m\u001b[0;34m,\u001b[0m\u001b[0;34m\u001b[0m\u001b[0m\n\u001b[1;32m     10\u001b[0m           \u001b[0mepochs\u001b[0m\u001b[0;34m=\u001b[0m\u001b[0;36m50\u001b[0m\u001b[0;34m,\u001b[0m\u001b[0;34m\u001b[0m\u001b[0m\n\u001b[0;32m---> 11\u001b[0;31m           validation_data=(x_test, y_test), verbose=2, callbacks=[histories])\n\u001b[0m",
      "\u001b[0;32m/usr/local/lib/python3.5/dist-packages/keras/engine/training.py\u001b[0m in \u001b[0;36mfit\u001b[0;34m(self, x, y, batch_size, epochs, verbose, callbacks, validation_split, validation_data, shuffle, class_weight, sample_weight, initial_epoch, **kwargs)\u001b[0m\n\u001b[1;32m   1403\u001b[0m             \u001b[0mclass_weight\u001b[0m\u001b[0;34m=\u001b[0m\u001b[0mclass_weight\u001b[0m\u001b[0;34m,\u001b[0m\u001b[0;34m\u001b[0m\u001b[0m\n\u001b[1;32m   1404\u001b[0m             \u001b[0mcheck_batch_axis\u001b[0m\u001b[0;34m=\u001b[0m\u001b[0;32mFalse\u001b[0m\u001b[0;34m,\u001b[0m\u001b[0;34m\u001b[0m\u001b[0m\n\u001b[0;32m-> 1405\u001b[0;31m             batch_size=batch_size)\n\u001b[0m\u001b[1;32m   1406\u001b[0m         \u001b[0;31m# prepare validation data\u001b[0m\u001b[0;34m\u001b[0m\u001b[0;34m\u001b[0m\u001b[0m\n\u001b[1;32m   1407\u001b[0m         \u001b[0;32mif\u001b[0m \u001b[0mvalidation_data\u001b[0m\u001b[0;34m:\u001b[0m\u001b[0;34m\u001b[0m\u001b[0m\n",
      "\u001b[0;32m/usr/local/lib/python3.5/dist-packages/keras/engine/training.py\u001b[0m in \u001b[0;36m_standardize_user_data\u001b[0;34m(self, x, y, sample_weight, class_weight, check_batch_axis, batch_size)\u001b[0m\n\u001b[1;32m   1297\u001b[0m                                     \u001b[0moutput_shapes\u001b[0m\u001b[0;34m,\u001b[0m\u001b[0;34m\u001b[0m\u001b[0m\n\u001b[1;32m   1298\u001b[0m                                     \u001b[0mcheck_batch_axis\u001b[0m\u001b[0;34m=\u001b[0m\u001b[0;32mFalse\u001b[0m\u001b[0;34m,\u001b[0m\u001b[0;34m\u001b[0m\u001b[0m\n\u001b[0;32m-> 1299\u001b[0;31m                                     exception_prefix='model target')\n\u001b[0m\u001b[1;32m   1300\u001b[0m         sample_weights = _standardize_sample_weights(sample_weight,\n\u001b[1;32m   1301\u001b[0m                                                      self._feed_output_names)\n",
      "\u001b[0;32m/usr/local/lib/python3.5/dist-packages/keras/engine/training.py\u001b[0m in \u001b[0;36m_standardize_input_data\u001b[0;34m(data, names, shapes, check_batch_axis, exception_prefix)\u001b[0m\n\u001b[1;32m    119\u001b[0m                                  \u001b[0;34m' to have '\u001b[0m \u001b[0;34m+\u001b[0m \u001b[0mstr\u001b[0m\u001b[0;34m(\u001b[0m\u001b[0mlen\u001b[0m\u001b[0;34m(\u001b[0m\u001b[0mshapes\u001b[0m\u001b[0;34m[\u001b[0m\u001b[0mi\u001b[0m\u001b[0;34m]\u001b[0m\u001b[0;34m)\u001b[0m\u001b[0;34m)\u001b[0m \u001b[0;34m+\u001b[0m\u001b[0;34m\u001b[0m\u001b[0m\n\u001b[1;32m    120\u001b[0m                                  \u001b[0;34m' dimensions, but got array with shape '\u001b[0m \u001b[0;34m+\u001b[0m\u001b[0;34m\u001b[0m\u001b[0m\n\u001b[0;32m--> 121\u001b[0;31m                                  str(array.shape))\n\u001b[0m\u001b[1;32m    122\u001b[0m             \u001b[0;32mfor\u001b[0m \u001b[0mj\u001b[0m\u001b[0;34m,\u001b[0m \u001b[0;34m(\u001b[0m\u001b[0mdim\u001b[0m\u001b[0;34m,\u001b[0m \u001b[0mref_dim\u001b[0m\u001b[0;34m)\u001b[0m \u001b[0;32min\u001b[0m \u001b[0menumerate\u001b[0m\u001b[0;34m(\u001b[0m\u001b[0mzip\u001b[0m\u001b[0;34m(\u001b[0m\u001b[0marray\u001b[0m\u001b[0;34m.\u001b[0m\u001b[0mshape\u001b[0m\u001b[0;34m,\u001b[0m \u001b[0mshapes\u001b[0m\u001b[0;34m[\u001b[0m\u001b[0mi\u001b[0m\u001b[0;34m]\u001b[0m\u001b[0;34m)\u001b[0m\u001b[0;34m)\u001b[0m\u001b[0;34m:\u001b[0m\u001b[0;34m\u001b[0m\u001b[0m\n\u001b[1;32m    123\u001b[0m                 \u001b[0;32mif\u001b[0m \u001b[0;32mnot\u001b[0m \u001b[0mj\u001b[0m \u001b[0;32mand\u001b[0m \u001b[0;32mnot\u001b[0m \u001b[0mcheck_batch_axis\u001b[0m\u001b[0;34m:\u001b[0m\u001b[0;34m\u001b[0m\u001b[0m\n",
      "\u001b[0;31mValueError\u001b[0m: Error when checking model target: expected dense_6 to have 3 dimensions, but got array with shape (156060, 5)"
     ]
    }
   ],
   "source": [
    "if model_type == \"CNN-non-static\":\n",
    "    embedding_layer = model.get_layer(\"embedding\")\n",
    "    embedding_layer.set_weights(embedding_wts)\n",
    "\n",
    "model.compile(loss=\"categorical_crossentropy\", optimizer=optimizers.Adam(), metrics=[\"accuracy\"])\n",
    "\n",
    "histories = Histories()\n",
    "res = model.fit(x_train, y_train, \n",
    "          batch_size = batch_size,\n",
    "          epochs=50,\n",
    "          validation_data=(x_test, y_test), verbose=2, callbacks=[histories])"
   ]
  },
  {
   "cell_type": "code",
   "execution_count": 27,
   "metadata": {},
   "outputs": [
    {
     "data": {
      "text/plain": [
       "256"
      ]
     },
     "execution_count": 27,
     "metadata": {},
     "output_type": "execute_result"
    }
   ],
   "source": [
    "import os\n",
    "os.system('say done')"
   ]
  },
  {
   "cell_type": "markdown",
   "metadata": {},
   "source": [
    "### Computing Accuracy"
   ]
  },
  {
   "cell_type": "code",
   "execution_count": 10,
   "metadata": {},
   "outputs": [
    {
     "name": "stdout",
     "output_type": "stream",
     "text": [
      "Train Accuracy: 63.96%\n",
      "Test Accuracy: 36.43%\n"
     ]
    }
   ],
   "source": [
    "# Final evaluation of the model\n",
    "scores = model.evaluate(x_train, y_train, verbose=0)\n",
    "print(\"Train Accuracy: %.2f%%\" % (scores[1]*100))\n",
    "\n",
    "# Final evaluation of the model\n",
    "scores = model.evaluate(x_test, y_test, verbose=0)\n",
    "\n",
    "print(\"Test Accuracy: %.2f%%\" % (scores[1]*100))"
   ]
  },
  {
   "cell_type": "markdown",
   "metadata": {},
   "source": [
    "### Save the model"
   ]
  },
  {
   "cell_type": "code",
   "execution_count": 41,
   "metadata": {
    "collapsed": true
   },
   "outputs": [],
   "source": [
    "date = str(datetime.date.today() )\n",
    "time = str(datetime.datetime.now().time())[:-7]\n",
    "\n",
    "filename = '/home/shikhar/Datasets/Models/newtrain_' + model_type + '_' + date + '_' +time;\n",
    "with open( filename, 'wb') as output:\n",
    "    pickle.dump([model.get_config(), model.get_weights(), model.history.history], output, pickle.HIGHEST_PROTOCOL)"
   ]
  },
  {
   "cell_type": "markdown",
   "metadata": {},
   "source": [
    "### Plot the results"
   ]
  },
  {
   "cell_type": "code",
   "execution_count": 42,
   "metadata": {},
   "outputs": [
    {
     "data": {
      "image/png": "[encoded data removed]",
      "text/plain": [
       "<matplotlib.figure.Figure at 0x7f167444bc50>"
      ]
     },
     "metadata": {},
     "output_type": "display_data"
    }
   ],
   "source": [
    "import matplotlib.pyplot as plt\n",
    "plt.style.use('ggplot')\n",
    "\n",
    "plt.rcParams[\"figure.figsize\"] = (10,6)\n",
    "plt.plot(model.history.history['acc'])\n",
    "plt.plot(model.history.history['loss'])\n",
    "plt.plot(model.history.history['val_acc'])\n",
    "plt.plot(model.history.history['val_loss'])\n",
    "plt.legend(['Train acc','Train loss','Valid acc', 'Valid loss'], loc=2)\n",
    "plt.xlabel('Epochs')\n",
    "plt.ylabel('Loss/Accuracy')\n",
    "plt.title('Using '+ model_type)\n",
    "# imgName = 'Images/' + model_type + '_' + date + '_' + time + '.jpg'\n",
    "# plt.savefig( imgName, dpi= 200, bbox_inches='tight', transparent=False)\n",
    "plt.show()"
   ]
  },
  {
   "cell_type": "markdown",
   "metadata": {},
   "source": [
    "### Continue from a pretrained model"
   ]
  },
  {
   "cell_type": "code",
   "execution_count": 15,
   "metadata": {},
   "outputs": [],
   "source": [
    "# Loading saved data\n",
    "import pickle\n",
    "\n",
    "filename = '/home/shikhar/Datasets/Models/newtrain_CNN-rand_2017-04-08_16:29:11'\n",
    "with open( filename, 'rb') as input:\n",
    "    out = pickle.load(input)\n",
    "\n",
    "model.compile(loss=\"categorical_crossentropy\", optimizer=optimizers.SGD(0.005), metrics=[\"accuracy\"])\n",
    "# model = Model.from_config(out[0])\n",
    "model.set_weights(out[1])\n",
    "model.history.history = out[2]"
   ]
  },
  {
   "cell_type": "code",
   "execution_count": 38,
   "metadata": {},
   "outputs": [
    {
     "name": "stdout",
     "output_type": "stream",
     "text": [
      "Train on 156060 samples, validate on 2210 samples\n",
      "Epoch 1/300\n",
      "27s - loss: 0.8415 - acc: 0.6568 - val_loss: 1.4342 - val_acc: 0.4005\n",
      "Epoch 2/300\n",
      "27s - loss: 0.8416 - acc: 0.6565 - val_loss: 1.4266 - val_acc: 0.4005\n",
      "Epoch 3/300\n",
      "24s - loss: 0.8389 - acc: 0.6578 - val_loss: 1.4288 - val_acc: 0.4014\n",
      "Epoch 4/300\n",
      "26s - loss: 0.8403 - acc: 0.6564 - val_loss: 1.4244 - val_acc: 0.4041\n",
      "Epoch 5/300\n",
      "25s - loss: 0.8391 - acc: 0.6589 - val_loss: 1.4318 - val_acc: 0.4009\n",
      "Epoch 6/300\n",
      "25s - loss: 0.8393 - acc: 0.6585 - val_loss: 1.4242 - val_acc: 0.4023\n",
      "Epoch 7/300\n",
      "25s - loss: 0.8373 - acc: 0.6582 - val_loss: 1.4232 - val_acc: 0.4023\n",
      "Epoch 8/300\n",
      "25s - loss: 0.8398 - acc: 0.6571 - val_loss: 1.4261 - val_acc: 0.3986\n",
      "Epoch 9/300\n",
      "25s - loss: 0.8365 - acc: 0.6595 - val_loss: 1.4225 - val_acc: 0.4014\n",
      "Epoch 10/300\n",
      "26s - loss: 0.8355 - acc: 0.6593 - val_loss: 1.4259 - val_acc: 0.4063\n",
      "Epoch 11/300\n",
      "30s - loss: 0.8350 - acc: 0.6591 - val_loss: 1.4273 - val_acc: 0.4072\n",
      "Epoch 12/300\n",
      "26s - loss: 0.8342 - acc: 0.6587 - val_loss: 1.4296 - val_acc: 0.4050\n",
      "Epoch 13/300\n",
      "28s - loss: 0.8342 - acc: 0.6591 - val_loss: 1.4270 - val_acc: 0.4045\n",
      "Epoch 14/300\n",
      "25s - loss: 0.8343 - acc: 0.6595 - val_loss: 1.4412 - val_acc: 0.4045\n",
      "Epoch 15/300\n",
      "26s - loss: 0.8325 - acc: 0.6605 - val_loss: 1.4350 - val_acc: 0.4023\n",
      "Epoch 16/300\n",
      "27s - loss: 0.8315 - acc: 0.6603 - val_loss: 1.4337 - val_acc: 0.4045\n",
      "Epoch 17/300\n",
      "27s - loss: 0.8312 - acc: 0.6593 - val_loss: 1.4144 - val_acc: 0.4086\n",
      "Epoch 18/300\n",
      "25s - loss: 0.8316 - acc: 0.6600 - val_loss: 1.4393 - val_acc: 0.4009\n",
      "Epoch 19/300\n",
      "28s - loss: 0.8295 - acc: 0.6611 - val_loss: 1.4405 - val_acc: 0.4059\n",
      "Epoch 20/300\n",
      "25s - loss: 0.8276 - acc: 0.6612 - val_loss: 1.4303 - val_acc: 0.4063\n",
      "Epoch 21/300\n",
      "25s - loss: 0.8287 - acc: 0.6620 - val_loss: 1.4468 - val_acc: 0.3937\n",
      "Epoch 22/300\n",
      "26s - loss: 0.8290 - acc: 0.6592 - val_loss: 1.4310 - val_acc: 0.4077\n",
      "Epoch 23/300\n",
      "25s - loss: 0.8298 - acc: 0.6605 - val_loss: 1.4380 - val_acc: 0.4036\n",
      "Epoch 24/300\n",
      "26s - loss: 0.8296 - acc: 0.6608 - val_loss: 1.4438 - val_acc: 0.3986\n",
      "Epoch 25/300\n",
      "24s - loss: 0.8277 - acc: 0.6621 - val_loss: 1.4290 - val_acc: 0.4086\n",
      "Epoch 26/300\n",
      "26s - loss: 0.8269 - acc: 0.6619 - val_loss: 1.4403 - val_acc: 0.4063\n",
      "Epoch 27/300\n",
      "24s - loss: 0.8272 - acc: 0.6614 - val_loss: 1.4415 - val_acc: 0.4109\n",
      "Epoch 28/300\n",
      "25s - loss: 0.8257 - acc: 0.6620 - val_loss: 1.4396 - val_acc: 0.4054\n",
      "Epoch 29/300\n",
      "26s - loss: 0.8249 - acc: 0.6626 - val_loss: 1.4366 - val_acc: 0.4036\n",
      "Epoch 30/300\n",
      "25s - loss: 0.8269 - acc: 0.6618 - val_loss: 1.4400 - val_acc: 0.4068\n",
      "Epoch 31/300\n",
      "26s - loss: 0.8230 - acc: 0.6623 - val_loss: 1.4387 - val_acc: 0.4113\n",
      "Epoch 32/300\n",
      "24s - loss: 0.8256 - acc: 0.6622 - val_loss: 1.4474 - val_acc: 0.4063\n",
      "Epoch 33/300\n",
      "25s - loss: 0.8233 - acc: 0.6626 - val_loss: 1.4353 - val_acc: 0.4104\n",
      "Epoch 34/300\n",
      "25s - loss: 0.8241 - acc: 0.6626 - val_loss: 1.4275 - val_acc: 0.4095\n",
      "Epoch 35/300\n",
      "24s - loss: 0.8241 - acc: 0.6624 - val_loss: 1.4368 - val_acc: 0.4127\n",
      "Epoch 36/300\n",
      "25s - loss: 0.8218 - acc: 0.6637 - val_loss: 1.4433 - val_acc: 0.4118\n",
      "Epoch 37/300\n",
      "24s - loss: 0.8205 - acc: 0.6650 - val_loss: 1.4562 - val_acc: 0.4059\n",
      "Epoch 38/300\n",
      "26s - loss: 0.8235 - acc: 0.6627 - val_loss: 1.4282 - val_acc: 0.4154\n",
      "Epoch 39/300\n",
      "25s - loss: 0.8208 - acc: 0.6643 - val_loss: 1.4388 - val_acc: 0.4136\n",
      "Epoch 40/300\n",
      "24s - loss: 0.8192 - acc: 0.6646 - val_loss: 1.4317 - val_acc: 0.4149\n",
      "Epoch 41/300\n",
      "25s - loss: 0.8194 - acc: 0.6651 - val_loss: 1.4424 - val_acc: 0.4090\n",
      "Epoch 42/300\n",
      "24s - loss: 0.8191 - acc: 0.6639 - val_loss: 1.4440 - val_acc: 0.4127\n",
      "Epoch 43/300\n",
      "25s - loss: 0.8198 - acc: 0.6639 - val_loss: 1.4493 - val_acc: 0.4113\n",
      "Epoch 44/300\n",
      "25s - loss: 0.8170 - acc: 0.6658 - val_loss: 1.4472 - val_acc: 0.4054\n",
      "Epoch 45/300\n",
      "28s - loss: 0.8185 - acc: 0.6664 - val_loss: 1.4462 - val_acc: 0.4063\n",
      "Epoch 46/300\n",
      "24s - loss: 0.8176 - acc: 0.6648 - val_loss: 1.4263 - val_acc: 0.4113\n",
      "Epoch 47/300\n",
      "24s - loss: 0.8181 - acc: 0.6667 - val_loss: 1.4500 - val_acc: 0.4086\n",
      "Epoch 48/300\n",
      "26s - loss: 0.8155 - acc: 0.6653 - val_loss: 1.4371 - val_acc: 0.4158\n",
      "Epoch 49/300\n",
      "24s - loss: 0.8176 - acc: 0.6645 - val_loss: 1.4470 - val_acc: 0.4122\n",
      "Epoch 50/300\n",
      "25s - loss: 0.8156 - acc: 0.6656 - val_loss: 1.4473 - val_acc: 0.4104\n",
      "Epoch 51/300\n",
      "24s - loss: 0.8144 - acc: 0.6667 - val_loss: 1.4421 - val_acc: 0.4090\n",
      "Epoch 52/300\n",
      "25s - loss: 0.8133 - acc: 0.6673 - val_loss: 1.4534 - val_acc: 0.4072\n",
      "Epoch 53/300\n",
      "25s - loss: 0.8140 - acc: 0.6675 - val_loss: 1.4375 - val_acc: 0.4145\n",
      "Epoch 54/300\n",
      "24s - loss: 0.8124 - acc: 0.6677 - val_loss: 1.4605 - val_acc: 0.4072\n",
      "Epoch 55/300\n",
      "26s - loss: 0.8141 - acc: 0.6664 - val_loss: 1.4503 - val_acc: 0.4122\n",
      "Epoch 56/300\n",
      "24s - loss: 0.8111 - acc: 0.6671 - val_loss: 1.4561 - val_acc: 0.4100\n",
      "Epoch 57/300\n",
      "26s - loss: 0.8117 - acc: 0.6669 - val_loss: 1.4462 - val_acc: 0.4158\n",
      "Epoch 58/300\n",
      "24s - loss: 0.8113 - acc: 0.6668 - val_loss: 1.4386 - val_acc: 0.4113\n",
      "Epoch 59/300\n",
      "26s - loss: 0.8129 - acc: 0.6669 - val_loss: 1.4504 - val_acc: 0.4086\n",
      "Epoch 60/300\n",
      "24s - loss: 0.8113 - acc: 0.6670 - val_loss: 1.4421 - val_acc: 0.4140\n",
      "Epoch 61/300\n",
      "25s - loss: 0.8105 - acc: 0.6670 - val_loss: 1.4441 - val_acc: 0.4140\n",
      "Epoch 62/300\n",
      "27s - loss: 0.8103 - acc: 0.6666 - val_loss: 1.4585 - val_acc: 0.4109\n",
      "Epoch 63/300\n",
      "24s - loss: 0.8088 - acc: 0.6695 - val_loss: 1.4680 - val_acc: 0.4095\n",
      "Epoch 64/300\n",
      "25s - loss: 0.8097 - acc: 0.6677 - val_loss: 1.4450 - val_acc: 0.4140\n",
      "Epoch 65/300\n",
      "24s - loss: 0.8100 - acc: 0.6673 - val_loss: 1.4525 - val_acc: 0.4140\n",
      "Epoch 66/300\n",
      "25s - loss: 0.8102 - acc: 0.6678 - val_loss: 1.4504 - val_acc: 0.4131\n",
      "Epoch 67/300\n",
      "25s - loss: 0.8057 - acc: 0.6704 - val_loss: 1.4565 - val_acc: 0.4100\n",
      "Epoch 68/300\n",
      "24s - loss: 0.8074 - acc: 0.6677 - val_loss: 1.4599 - val_acc: 0.4127\n",
      "Epoch 69/300\n",
      "27s - loss: 0.8067 - acc: 0.6700 - val_loss: 1.4599 - val_acc: 0.4136\n",
      "Epoch 70/300\n",
      "27s - loss: 0.8067 - acc: 0.6696 - val_loss: 1.4458 - val_acc: 0.4176\n",
      "Epoch 71/300\n",
      "27s - loss: 0.8077 - acc: 0.6680 - val_loss: 1.4610 - val_acc: 0.4122\n",
      "Epoch 72/300\n",
      "25s - loss: 0.8082 - acc: 0.6677 - val_loss: 1.4740 - val_acc: 0.4104\n",
      "Epoch 73/300\n",
      "26s - loss: 0.8052 - acc: 0.6691 - val_loss: 1.4529 - val_acc: 0.4081\n",
      "Epoch 74/300\n",
      "24s - loss: 0.8067 - acc: 0.6690 - val_loss: 1.4639 - val_acc: 0.4072\n",
      "Epoch 75/300\n",
      "24s - loss: 0.8063 - acc: 0.6689 - val_loss: 1.4492 - val_acc: 0.4059\n",
      "Epoch 76/300\n",
      "26s - loss: 0.8056 - acc: 0.6698 - val_loss: 1.4587 - val_acc: 0.4095\n",
      "Epoch 77/300\n",
      "26s - loss: 0.8035 - acc: 0.6708 - val_loss: 1.4702 - val_acc: 0.4072\n",
      "Epoch 78/300\n",
      "32s - loss: 0.8042 - acc: 0.6704 - val_loss: 1.4583 - val_acc: 0.4109\n",
      "Epoch 79/300\n",
      "25s - loss: 0.8030 - acc: 0.6697 - val_loss: 1.4699 - val_acc: 0.4086\n",
      "Epoch 80/300\n",
      "26s - loss: 0.8019 - acc: 0.6702 - val_loss: 1.4667 - val_acc: 0.4077\n",
      "Epoch 81/300\n",
      "25s - loss: 0.8044 - acc: 0.6694 - val_loss: 1.4795 - val_acc: 0.4063\n",
      "Epoch 82/300\n",
      "26s - loss: 0.8031 - acc: 0.6700 - val_loss: 1.4533 - val_acc: 0.4095\n",
      "Epoch 83/300\n",
      "25s - loss: 0.8013 - acc: 0.6716 - val_loss: 1.4742 - val_acc: 0.4109\n",
      "Epoch 84/300\n",
      "25s - loss: 0.8031 - acc: 0.6703 - val_loss: 1.4859 - val_acc: 0.4000\n",
      "Epoch 85/300\n",
      "26s - loss: 0.8017 - acc: 0.6704 - val_loss: 1.4837 - val_acc: 0.4045\n",
      "Epoch 86/300\n",
      "25s - loss: 0.7997 - acc: 0.6707 - val_loss: 1.4660 - val_acc: 0.4077\n",
      "Epoch 87/300\n",
      "26s - loss: 0.8004 - acc: 0.6713 - val_loss: 1.4734 - val_acc: 0.4014\n",
      "Epoch 88/300\n",
      "25s - loss: 0.8006 - acc: 0.6713 - val_loss: 1.4504 - val_acc: 0.4131\n",
      "Epoch 89/300\n",
      "26s - loss: 0.8003 - acc: 0.6711 - val_loss: 1.4679 - val_acc: 0.4118\n",
      "Epoch 90/300\n",
      "25s - loss: 0.8011 - acc: 0.6703 - val_loss: 1.4684 - val_acc: 0.4081\n",
      "Epoch 91/300\n",
      "25s - loss: 0.8004 - acc: 0.6711 - val_loss: 1.4751 - val_acc: 0.4090\n",
      "Epoch 92/300\n",
      "26s - loss: 0.7996 - acc: 0.6711 - val_loss: 1.4769 - val_acc: 0.4113\n",
      "Epoch 93/300\n",
      "25s - loss: 0.7990 - acc: 0.6727 - val_loss: 1.4701 - val_acc: 0.4113\n",
      "Epoch 94/300\n",
      "26s - loss: 0.7993 - acc: 0.6714 - val_loss: 1.5000 - val_acc: 0.4050\n",
      "Epoch 95/300\n",
      "25s - loss: 0.8001 - acc: 0.6707 - val_loss: 1.4621 - val_acc: 0.4072\n",
      "Epoch 96/300\n",
      "27s - loss: 0.7981 - acc: 0.6726 - val_loss: 1.4394 - val_acc: 0.4023\n",
      "Epoch 97/300\n",
      "25s - loss: 0.7983 - acc: 0.6716 - val_loss: 1.4752 - val_acc: 0.4131\n",
      "Epoch 98/300\n",
      "26s - loss: 0.7957 - acc: 0.6725 - val_loss: 1.4784 - val_acc: 0.4068\n",
      "Epoch 99/300\n",
      "25s - loss: 0.7978 - acc: 0.6724 - val_loss: 1.4792 - val_acc: 0.4077\n",
      "Epoch 100/300\n"
     ]
    },
    {
     "name": "stdout",
     "output_type": "stream",
     "text": [
      "25s - loss: 0.7973 - acc: 0.6723 - val_loss: 1.4827 - val_acc: 0.4059\n",
      "Epoch 101/300\n",
      "26s - loss: 0.7952 - acc: 0.6723 - val_loss: 1.5040 - val_acc: 0.3977\n",
      "Epoch 102/300\n",
      "25s - loss: 0.7958 - acc: 0.6730 - val_loss: 1.4860 - val_acc: 0.4081\n",
      "Epoch 103/300\n",
      "26s - loss: 0.7962 - acc: 0.6732 - val_loss: 1.4796 - val_acc: 0.4050\n",
      "Epoch 104/300\n",
      "25s - loss: 0.7955 - acc: 0.6733 - val_loss: 1.4791 - val_acc: 0.4036\n",
      "Epoch 105/300\n",
      "26s - loss: 0.7950 - acc: 0.6719 - val_loss: 1.4881 - val_acc: 0.4041\n",
      "Epoch 106/300\n",
      "25s - loss: 0.7953 - acc: 0.6737 - val_loss: 1.4834 - val_acc: 0.4036\n",
      "Epoch 107/300\n",
      "25s - loss: 0.7961 - acc: 0.6726 - val_loss: 1.5021 - val_acc: 0.4009\n",
      "Epoch 108/300\n",
      "26s - loss: 0.7970 - acc: 0.6728 - val_loss: 1.4832 - val_acc: 0.4050\n",
      "Epoch 109/300\n",
      "25s - loss: 0.7938 - acc: 0.6725 - val_loss: 1.4773 - val_acc: 0.4032\n",
      "Epoch 110/300\n",
      "26s - loss: 0.7922 - acc: 0.6729 - val_loss: 1.4872 - val_acc: 0.4072\n",
      "Epoch 111/300\n",
      "25s - loss: 0.7940 - acc: 0.6734 - val_loss: 1.4862 - val_acc: 0.4041\n",
      "Epoch 112/300\n",
      "26s - loss: 0.7932 - acc: 0.6740 - val_loss: 1.4787 - val_acc: 0.4041\n",
      "Epoch 113/300\n",
      "25s - loss: 0.7918 - acc: 0.6735 - val_loss: 1.4720 - val_acc: 0.4140\n",
      "Epoch 114/300\n",
      "26s - loss: 0.7940 - acc: 0.6729 - val_loss: 1.4909 - val_acc: 0.4027\n",
      "Epoch 115/300\n",
      "25s - loss: 0.7922 - acc: 0.6746 - val_loss: 1.4849 - val_acc: 0.4068\n",
      "Epoch 116/300\n",
      "25s - loss: 0.7922 - acc: 0.6747 - val_loss: 1.5020 - val_acc: 0.4009\n",
      "Epoch 117/300\n",
      "27s - loss: 0.7905 - acc: 0.6760 - val_loss: 1.4797 - val_acc: 0.4136\n",
      "Epoch 118/300\n",
      "25s - loss: 0.7925 - acc: 0.6737 - val_loss: 1.4716 - val_acc: 0.4086\n",
      "Epoch 119/300\n",
      "26s - loss: 0.7919 - acc: 0.6738 - val_loss: 1.4783 - val_acc: 0.4081\n",
      "Epoch 120/300\n",
      "25s - loss: 0.7903 - acc: 0.6733 - val_loss: 1.4775 - val_acc: 0.4154\n",
      "Epoch 121/300\n",
      "26s - loss: 0.7895 - acc: 0.6753 - val_loss: 1.4937 - val_acc: 0.4095\n",
      "Epoch 122/300\n",
      "25s - loss: 0.7904 - acc: 0.6748 - val_loss: 1.4796 - val_acc: 0.4090\n",
      "Epoch 123/300\n",
      "25s - loss: 0.7900 - acc: 0.6740 - val_loss: 1.4773 - val_acc: 0.4104\n",
      "Epoch 124/300\n",
      "26s - loss: 0.7906 - acc: 0.6744 - val_loss: 1.4815 - val_acc: 0.4090\n",
      "Epoch 125/300\n",
      "25s - loss: 0.7890 - acc: 0.6759 - val_loss: 1.4764 - val_acc: 0.4113\n",
      "Epoch 126/300\n",
      "26s - loss: 0.7903 - acc: 0.6753 - val_loss: 1.5078 - val_acc: 0.4032\n",
      "Epoch 127/300\n",
      "25s - loss: 0.7898 - acc: 0.6749 - val_loss: 1.4861 - val_acc: 0.4081\n",
      "Epoch 128/300\n",
      "26s - loss: 0.7884 - acc: 0.6749 - val_loss: 1.4971 - val_acc: 0.4018\n",
      "Epoch 129/300\n",
      "25s - loss: 0.7881 - acc: 0.6753 - val_loss: 1.4776 - val_acc: 0.4086\n",
      "Epoch 130/300\n",
      "26s - loss: 0.7872 - acc: 0.6753 - val_loss: 1.4769 - val_acc: 0.4068\n",
      "Epoch 131/300\n",
      "27s - loss: 0.7877 - acc: 0.6750 - val_loss: 1.4843 - val_acc: 0.4113\n",
      "Epoch 132/300\n",
      "25s - loss: 0.7865 - acc: 0.6764 - val_loss: 1.4460 - val_acc: 0.4077\n",
      "Epoch 133/300\n",
      "26s - loss: 0.7865 - acc: 0.6754 - val_loss: 1.4891 - val_acc: 0.4081\n",
      "Epoch 134/300\n",
      "25s - loss: 0.7856 - acc: 0.6762 - val_loss: 1.5006 - val_acc: 0.4095\n",
      "Epoch 135/300\n",
      "26s - loss: 0.7876 - acc: 0.6758 - val_loss: 1.4771 - val_acc: 0.4104\n",
      "Epoch 136/300\n",
      "25s - loss: 0.7857 - acc: 0.6756 - val_loss: 1.4945 - val_acc: 0.4050\n",
      "Epoch 137/300\n",
      "26s - loss: 0.7842 - acc: 0.6782 - val_loss: 1.4768 - val_acc: 0.4158\n",
      "Epoch 138/300\n",
      "25s - loss: 0.7875 - acc: 0.6749 - val_loss: 1.4852 - val_acc: 0.4140\n",
      "Epoch 139/300\n",
      "25s - loss: 0.7853 - acc: 0.6764 - val_loss: 1.4824 - val_acc: 0.4113\n",
      "Epoch 140/300\n",
      "26s - loss: 0.7848 - acc: 0.6767 - val_loss: 1.4848 - val_acc: 0.4045\n",
      "Epoch 141/300\n",
      "25s - loss: 0.7839 - acc: 0.6778 - val_loss: 1.5136 - val_acc: 0.3964\n",
      "Epoch 142/300\n",
      "26s - loss: 0.7855 - acc: 0.6764 - val_loss: 1.4870 - val_acc: 0.4113\n",
      "Epoch 143/300\n",
      "25s - loss: 0.7822 - acc: 0.6783 - val_loss: 1.4920 - val_acc: 0.4109\n",
      "Epoch 144/300\n",
      "26s - loss: 0.7838 - acc: 0.6767 - val_loss: 1.5031 - val_acc: 0.4027\n",
      "Epoch 145/300\n",
      "25s - loss: 0.7822 - acc: 0.6774 - val_loss: 1.5067 - val_acc: 0.4036\n",
      "Epoch 146/300\n",
      "25s - loss: 0.7815 - acc: 0.6774 - val_loss: 1.4895 - val_acc: 0.4045\n",
      "Epoch 147/300\n",
      "26s - loss: 0.7818 - acc: 0.6770 - val_loss: 1.4995 - val_acc: 0.4041\n",
      "Epoch 148/300\n",
      "25s - loss: 0.7810 - acc: 0.6769 - val_loss: 1.4907 - val_acc: 0.4072\n",
      "Epoch 149/300\n",
      "26s - loss: 0.7829 - acc: 0.6780 - val_loss: 1.5228 - val_acc: 0.3991\n",
      "Epoch 150/300\n",
      "25s - loss: 0.7812 - acc: 0.6779 - val_loss: 1.4958 - val_acc: 0.4068\n",
      "Epoch 151/300\n",
      "26s - loss: 0.7819 - acc: 0.6781 - val_loss: 1.5048 - val_acc: 0.4027\n",
      "Epoch 152/300\n",
      "25s - loss: 0.7809 - acc: 0.6790 - val_loss: 1.5146 - val_acc: 0.4000\n",
      "Epoch 153/300\n",
      "25s - loss: 0.7796 - acc: 0.6792 - val_loss: 1.4922 - val_acc: 0.4059\n",
      "Epoch 154/300\n",
      "26s - loss: 0.7789 - acc: 0.6790 - val_loss: 1.5115 - val_acc: 0.4027\n",
      "Epoch 155/300\n",
      "25s - loss: 0.7817 - acc: 0.6769 - val_loss: 1.5089 - val_acc: 0.4032\n",
      "Epoch 156/300\n",
      "26s - loss: 0.7807 - acc: 0.6787 - val_loss: 1.4910 - val_acc: 0.4104\n",
      "Epoch 157/300\n",
      "25s - loss: 0.7804 - acc: 0.6793 - val_loss: 1.5061 - val_acc: 0.4063\n",
      "Epoch 158/300\n",
      "26s - loss: 0.7793 - acc: 0.6772 - val_loss: 1.4865 - val_acc: 0.4140\n",
      "Epoch 159/300\n",
      "25s - loss: 0.7782 - acc: 0.6790 - val_loss: 1.4985 - val_acc: 0.4090\n",
      "Epoch 160/300\n",
      "26s - loss: 0.7792 - acc: 0.6785 - val_loss: 1.4947 - val_acc: 0.4077\n",
      "Epoch 161/300\n",
      "25s - loss: 0.7784 - acc: 0.6788 - val_loss: 1.5068 - val_acc: 0.4036\n",
      "Epoch 162/300\n",
      "25s - loss: 0.7807 - acc: 0.6785 - val_loss: 1.5141 - val_acc: 0.4072\n",
      "Epoch 163/300\n",
      "27s - loss: 0.7774 - acc: 0.6797 - val_loss: 1.5032 - val_acc: 0.4077\n",
      "Epoch 164/300\n",
      "25s - loss: 0.7790 - acc: 0.6783 - val_loss: 1.5067 - val_acc: 0.4081\n",
      "Epoch 165/300\n",
      "27s - loss: 0.7773 - acc: 0.6791 - val_loss: 1.4949 - val_acc: 0.4104\n",
      "Epoch 166/300\n",
      "25s - loss: 0.7779 - acc: 0.6785 - val_loss: 1.5039 - val_acc: 0.4113\n",
      "Epoch 167/300\n",
      "26s - loss: 0.7778 - acc: 0.6794 - val_loss: 1.5037 - val_acc: 0.4122\n",
      "Epoch 168/300\n",
      "25s - loss: 0.7781 - acc: 0.6793 - val_loss: 1.5121 - val_acc: 0.4077\n",
      "Epoch 169/300\n",
      "25s - loss: 0.7771 - acc: 0.6797 - val_loss: 1.4994 - val_acc: 0.4068\n",
      "Epoch 170/300\n",
      "26s - loss: 0.7767 - acc: 0.6798 - val_loss: 1.5098 - val_acc: 0.4104\n",
      "Epoch 171/300\n",
      "25s - loss: 0.7773 - acc: 0.6778 - val_loss: 1.5307 - val_acc: 0.4045\n",
      "Epoch 172/300\n",
      "27s - loss: 0.7764 - acc: 0.6808 - val_loss: 1.5147 - val_acc: 0.4045\n",
      "Epoch 173/300\n",
      "25s - loss: 0.7761 - acc: 0.6793 - val_loss: 1.5147 - val_acc: 0.4068\n",
      "Epoch 174/300\n",
      "26s - loss: 0.7754 - acc: 0.6809 - val_loss: 1.5055 - val_acc: 0.4109\n",
      "Epoch 175/300\n",
      "25s - loss: 0.7760 - acc: 0.6797 - val_loss: 1.5168 - val_acc: 0.4072\n",
      "Epoch 176/300\n",
      "25s - loss: 0.7761 - acc: 0.6802 - val_loss: 1.5143 - val_acc: 0.4041\n",
      "Epoch 177/300\n",
      "26s - loss: 0.7757 - acc: 0.6801 - val_loss: 1.5248 - val_acc: 0.4090\n",
      "Epoch 178/300\n",
      "25s - loss: 0.7755 - acc: 0.6800 - val_loss: 1.5135 - val_acc: 0.4081\n",
      "Epoch 179/300\n",
      "26s - loss: 0.7738 - acc: 0.6818 - val_loss: 1.5131 - val_acc: 0.4063\n",
      "Epoch 180/300\n",
      "25s - loss: 0.7770 - acc: 0.6799 - val_loss: 1.5160 - val_acc: 0.4054\n",
      "Epoch 181/300\n",
      "26s - loss: 0.7744 - acc: 0.6797 - val_loss: 1.5204 - val_acc: 0.4086\n",
      "Epoch 182/300\n",
      "25s - loss: 0.7737 - acc: 0.6810 - val_loss: 1.5231 - val_acc: 0.4090\n",
      "Epoch 183/300\n",
      "26s - loss: 0.7729 - acc: 0.6825 - val_loss: 1.5153 - val_acc: 0.4090\n",
      "Epoch 184/300\n",
      "25s - loss: 0.7739 - acc: 0.6799 - val_loss: 1.4834 - val_acc: 0.4027\n",
      "Epoch 185/300\n",
      "25s - loss: 0.7731 - acc: 0.6800 - val_loss: 1.5257 - val_acc: 0.4063\n",
      "Epoch 186/300\n",
      "26s - loss: 0.7735 - acc: 0.6823 - val_loss: 1.5222 - val_acc: 0.4077\n",
      "Epoch 187/300\n",
      "25s - loss: 0.7733 - acc: 0.6810 - val_loss: 1.5228 - val_acc: 0.4072\n",
      "Epoch 188/300\n",
      "26s - loss: 0.7726 - acc: 0.6815 - val_loss: 1.5198 - val_acc: 0.4090\n",
      "Epoch 189/300\n",
      "25s - loss: 0.7714 - acc: 0.6809 - val_loss: 1.5078 - val_acc: 0.4081\n",
      "Epoch 190/300\n",
      "26s - loss: 0.7713 - acc: 0.6811 - val_loss: 1.5172 - val_acc: 0.4068\n",
      "Epoch 191/300\n",
      "25s - loss: 0.7740 - acc: 0.6805 - val_loss: 1.5129 - val_acc: 0.4063\n",
      "Epoch 192/300\n",
      "25s - loss: 0.7720 - acc: 0.6819 - val_loss: 1.5271 - val_acc: 0.4009\n",
      "Epoch 193/300\n",
      "26s - loss: 0.7721 - acc: 0.6817 - val_loss: 1.5113 - val_acc: 0.4136\n",
      "Epoch 194/300\n",
      "25s - loss: 0.7715 - acc: 0.6808 - val_loss: 1.5179 - val_acc: 0.4054\n",
      "Epoch 195/300\n",
      "26s - loss: 0.7707 - acc: 0.6821 - val_loss: 1.4968 - val_acc: 0.4081\n",
      "Epoch 196/300\n",
      "25s - loss: 0.7723 - acc: 0.6804 - val_loss: 1.5382 - val_acc: 0.4032\n",
      "Epoch 197/300\n",
      "26s - loss: 0.7710 - acc: 0.6821 - val_loss: 1.5256 - val_acc: 0.4036\n",
      "Epoch 198/300\n"
     ]
    },
    {
     "name": "stdout",
     "output_type": "stream",
     "text": [
      "25s - loss: 0.7700 - acc: 0.6823 - val_loss: 1.5298 - val_acc: 0.4068\n",
      "Epoch 199/300\n",
      "25s - loss: 0.7699 - acc: 0.6818 - val_loss: 1.5220 - val_acc: 0.4059\n",
      "Epoch 200/300\n",
      "28s - loss: 0.7706 - acc: 0.6818 - val_loss: 1.5198 - val_acc: 0.4041\n",
      "Epoch 201/300\n",
      "25s - loss: 0.7707 - acc: 0.6814 - val_loss: 1.5121 - val_acc: 0.4095\n",
      "Epoch 202/300\n",
      "26s - loss: 0.7696 - acc: 0.6811 - val_loss: 1.5066 - val_acc: 0.4041\n",
      "Epoch 203/300\n",
      "25s - loss: 0.7701 - acc: 0.6824 - val_loss: 1.5280 - val_acc: 0.4023\n",
      "Epoch 204/300\n",
      "26s - loss: 0.7692 - acc: 0.6821 - val_loss: 1.5235 - val_acc: 0.4063\n",
      "Epoch 205/300\n",
      "25s - loss: 0.7692 - acc: 0.6818 - val_loss: 1.5161 - val_acc: 0.4018\n",
      "Epoch 206/300\n",
      "26s - loss: 0.7695 - acc: 0.6826 - val_loss: 1.5344 - val_acc: 0.4000\n",
      "Epoch 207/300\n",
      "25s - loss: 0.7675 - acc: 0.6835 - val_loss: 1.5290 - val_acc: 0.4041\n",
      "Epoch 208/300\n",
      "25s - loss: 0.7690 - acc: 0.6813 - val_loss: 1.4886 - val_acc: 0.4131\n",
      "Epoch 209/300\n",
      "26s - loss: 0.7689 - acc: 0.6828 - val_loss: 1.5284 - val_acc: 0.4027\n",
      "Epoch 210/300\n",
      "25s - loss: 0.7681 - acc: 0.6827 - val_loss: 1.5290 - val_acc: 0.3995\n",
      "Epoch 211/300\n",
      "26s - loss: 0.7686 - acc: 0.6831 - val_loss: 1.5426 - val_acc: 0.3982\n",
      "Epoch 212/300\n",
      "25s - loss: 0.7675 - acc: 0.6832 - val_loss: 1.5371 - val_acc: 0.3982\n",
      "Epoch 213/300\n",
      "26s - loss: 0.7677 - acc: 0.6826 - val_loss: 1.5213 - val_acc: 0.4077\n",
      "Epoch 214/300\n",
      "26s - loss: 0.7676 - acc: 0.6833 - val_loss: 1.5359 - val_acc: 0.3950\n",
      "Epoch 215/300\n",
      "25s - loss: 0.7676 - acc: 0.6830 - val_loss: 1.5402 - val_acc: 0.4032\n",
      "Epoch 216/300\n",
      "26s - loss: 0.7674 - acc: 0.6840 - val_loss: 1.5367 - val_acc: 0.4005\n",
      "Epoch 217/300\n",
      "25s - loss: 0.7668 - acc: 0.6835 - val_loss: 1.5298 - val_acc: 0.4036\n",
      "Epoch 218/300\n",
      "26s - loss: 0.7680 - acc: 0.6826 - val_loss: 1.5348 - val_acc: 0.4059\n",
      "Epoch 219/300\n",
      "25s - loss: 0.7684 - acc: 0.6819 - val_loss: 1.5295 - val_acc: 0.3991\n",
      "Epoch 220/300\n",
      "26s - loss: 0.7666 - acc: 0.6826 - val_loss: 1.5015 - val_acc: 0.4109\n",
      "Epoch 221/300\n",
      "25s - loss: 0.7671 - acc: 0.6835 - val_loss: 1.5283 - val_acc: 0.3991\n",
      "Epoch 222/300\n",
      "27s - loss: 0.7652 - acc: 0.6836 - val_loss: 1.5382 - val_acc: 0.4054\n",
      "Epoch 223/300\n",
      "27s - loss: 0.7654 - acc: 0.6838 - val_loss: 1.5340 - val_acc: 0.4027\n",
      "Epoch 224/300\n",
      "25s - loss: 0.7645 - acc: 0.6841 - val_loss: 1.5369 - val_acc: 0.4009\n",
      "Epoch 225/300\n",
      "26s - loss: 0.7649 - acc: 0.6836 - val_loss: 1.5249 - val_acc: 0.4023\n",
      "Epoch 226/300\n",
      "25s - loss: 0.7652 - acc: 0.6848 - val_loss: 1.5123 - val_acc: 0.4104\n",
      "Epoch 227/300\n",
      "30s - loss: 0.7663 - acc: 0.6833 - val_loss: 1.5327 - val_acc: 0.4100\n",
      "Epoch 228/300\n",
      "25s - loss: 0.7670 - acc: 0.6838 - val_loss: 1.5376 - val_acc: 0.4036\n",
      "Epoch 229/300\n",
      "26s - loss: 0.7631 - acc: 0.6838 - val_loss: 1.5314 - val_acc: 0.4068\n",
      "Epoch 230/300\n",
      "30s - loss: 0.7655 - acc: 0.6842 - val_loss: 1.5352 - val_acc: 0.4023\n",
      "Epoch 231/300\n"
     ]
    },
    {
     "ename": "KeyboardInterrupt",
     "evalue": "",
     "output_type": "error",
     "traceback": [
      "\u001b[0;31m---------------------------------------------------------------------------\u001b[0m",
      "\u001b[0;31mKeyboardInterrupt\u001b[0m                         Traceback (most recent call last)",
      "\u001b[0;32m<ipython-input-38-e7e41dadf671>\u001b[0m in \u001b[0;36m<module>\u001b[0;34m()\u001b[0m\n\u001b[1;32m      2\u001b[0m           \u001b[0mbatch_size\u001b[0m \u001b[0;34m=\u001b[0m \u001b[0mbatch_size\u001b[0m\u001b[0;34m,\u001b[0m\u001b[0;34m\u001b[0m\u001b[0m\n\u001b[1;32m      3\u001b[0m           \u001b[0mepochs\u001b[0m\u001b[0;34m=\u001b[0m\u001b[0;36m300\u001b[0m\u001b[0;34m,\u001b[0m\u001b[0;34m\u001b[0m\u001b[0m\n\u001b[0;32m----> 4\u001b[0;31m           validation_data=(x_test, y_test), verbose=2)\n\u001b[0m",
      "\u001b[0;32m/usr/local/lib/python3.5/dist-packages/keras/engine/training.py\u001b[0m in \u001b[0;36mfit\u001b[0;34m(self, x, y, batch_size, epochs, verbose, callbacks, validation_split, validation_data, shuffle, class_weight, sample_weight, initial_epoch, **kwargs)\u001b[0m\n\u001b[1;32m   1483\u001b[0m                               \u001b[0mval_f\u001b[0m\u001b[0;34m=\u001b[0m\u001b[0mval_f\u001b[0m\u001b[0;34m,\u001b[0m \u001b[0mval_ins\u001b[0m\u001b[0;34m=\u001b[0m\u001b[0mval_ins\u001b[0m\u001b[0;34m,\u001b[0m \u001b[0mshuffle\u001b[0m\u001b[0;34m=\u001b[0m\u001b[0mshuffle\u001b[0m\u001b[0;34m,\u001b[0m\u001b[0;34m\u001b[0m\u001b[0m\n\u001b[1;32m   1484\u001b[0m                               \u001b[0mcallback_metrics\u001b[0m\u001b[0;34m=\u001b[0m\u001b[0mcallback_metrics\u001b[0m\u001b[0;34m,\u001b[0m\u001b[0;34m\u001b[0m\u001b[0m\n\u001b[0;32m-> 1485\u001b[0;31m                               initial_epoch=initial_epoch)\n\u001b[0m\u001b[1;32m   1486\u001b[0m \u001b[0;34m\u001b[0m\u001b[0m\n\u001b[1;32m   1487\u001b[0m     \u001b[0;32mdef\u001b[0m \u001b[0mevaluate\u001b[0m\u001b[0;34m(\u001b[0m\u001b[0mself\u001b[0m\u001b[0;34m,\u001b[0m \u001b[0mx\u001b[0m\u001b[0;34m,\u001b[0m \u001b[0my\u001b[0m\u001b[0;34m,\u001b[0m \u001b[0mbatch_size\u001b[0m\u001b[0;34m=\u001b[0m\u001b[0;36m32\u001b[0m\u001b[0;34m,\u001b[0m \u001b[0mverbose\u001b[0m\u001b[0;34m=\u001b[0m\u001b[0;36m1\u001b[0m\u001b[0;34m,\u001b[0m \u001b[0msample_weight\u001b[0m\u001b[0;34m=\u001b[0m\u001b[0;32mNone\u001b[0m\u001b[0;34m)\u001b[0m\u001b[0;34m:\u001b[0m\u001b[0;34m\u001b[0m\u001b[0m\n",
      "\u001b[0;32m/usr/local/lib/python3.5/dist-packages/keras/engine/training.py\u001b[0m in \u001b[0;36m_fit_loop\u001b[0;34m(self, f, ins, out_labels, batch_size, epochs, verbose, callbacks, val_f, val_ins, shuffle, callback_metrics, initial_epoch)\u001b[0m\n\u001b[1;32m   1137\u001b[0m                 \u001b[0mbatch_logs\u001b[0m\u001b[0;34m[\u001b[0m\u001b[0;34m'batch'\u001b[0m\u001b[0;34m]\u001b[0m \u001b[0;34m=\u001b[0m \u001b[0mbatch_index\u001b[0m\u001b[0;34m\u001b[0m\u001b[0m\n\u001b[1;32m   1138\u001b[0m                 \u001b[0mbatch_logs\u001b[0m\u001b[0;34m[\u001b[0m\u001b[0;34m'size'\u001b[0m\u001b[0;34m]\u001b[0m \u001b[0;34m=\u001b[0m \u001b[0mlen\u001b[0m\u001b[0;34m(\u001b[0m\u001b[0mbatch_ids\u001b[0m\u001b[0;34m)\u001b[0m\u001b[0;34m\u001b[0m\u001b[0m\n\u001b[0;32m-> 1139\u001b[0;31m                 \u001b[0mcallbacks\u001b[0m\u001b[0;34m.\u001b[0m\u001b[0mon_batch_begin\u001b[0m\u001b[0;34m(\u001b[0m\u001b[0mbatch_index\u001b[0m\u001b[0;34m,\u001b[0m \u001b[0mbatch_logs\u001b[0m\u001b[0;34m)\u001b[0m\u001b[0;34m\u001b[0m\u001b[0m\n\u001b[0m\u001b[1;32m   1140\u001b[0m                 \u001b[0mouts\u001b[0m \u001b[0;34m=\u001b[0m \u001b[0mf\u001b[0m\u001b[0;34m(\u001b[0m\u001b[0mins_batch\u001b[0m\u001b[0;34m)\u001b[0m\u001b[0;34m\u001b[0m\u001b[0m\n\u001b[1;32m   1141\u001b[0m                 \u001b[0;32mif\u001b[0m \u001b[0;32mnot\u001b[0m \u001b[0misinstance\u001b[0m\u001b[0;34m(\u001b[0m\u001b[0mouts\u001b[0m\u001b[0;34m,\u001b[0m \u001b[0mlist\u001b[0m\u001b[0;34m)\u001b[0m\u001b[0;34m:\u001b[0m\u001b[0;34m\u001b[0m\u001b[0m\n",
      "\u001b[0;32m/usr/local/lib/python3.5/dist-packages/keras/callbacks.py\u001b[0m in \u001b[0;36mon_batch_begin\u001b[0;34m(self, batch, logs)\u001b[0m\n\u001b[1;32m     87\u001b[0m             \u001b[0mcallback\u001b[0m\u001b[0;34m.\u001b[0m\u001b[0mon_batch_begin\u001b[0m\u001b[0;34m(\u001b[0m\u001b[0mbatch\u001b[0m\u001b[0;34m,\u001b[0m \u001b[0mlogs\u001b[0m\u001b[0;34m)\u001b[0m\u001b[0;34m\u001b[0m\u001b[0m\n\u001b[1;32m     88\u001b[0m         \u001b[0mself\u001b[0m\u001b[0;34m.\u001b[0m\u001b[0m_delta_ts_batch_begin\u001b[0m\u001b[0;34m.\u001b[0m\u001b[0mappend\u001b[0m\u001b[0;34m(\u001b[0m\u001b[0mtime\u001b[0m\u001b[0;34m.\u001b[0m\u001b[0mtime\u001b[0m\u001b[0;34m(\u001b[0m\u001b[0;34m)\u001b[0m \u001b[0;34m-\u001b[0m \u001b[0mt_before_callbacks\u001b[0m\u001b[0;34m)\u001b[0m\u001b[0;34m\u001b[0m\u001b[0m\n\u001b[0;32m---> 89\u001b[0;31m         \u001b[0mdelta_t_median\u001b[0m \u001b[0;34m=\u001b[0m \u001b[0mnp\u001b[0m\u001b[0;34m.\u001b[0m\u001b[0mmedian\u001b[0m\u001b[0;34m(\u001b[0m\u001b[0mself\u001b[0m\u001b[0;34m.\u001b[0m\u001b[0m_delta_ts_batch_begin\u001b[0m\u001b[0;34m)\u001b[0m\u001b[0;34m\u001b[0m\u001b[0m\n\u001b[0m\u001b[1;32m     90\u001b[0m         if (self._delta_t_batch > 0. and\n\u001b[1;32m     91\u001b[0m            \u001b[0mdelta_t_median\u001b[0m \u001b[0;34m>\u001b[0m \u001b[0;36m0.95\u001b[0m \u001b[0;34m*\u001b[0m \u001b[0mself\u001b[0m\u001b[0;34m.\u001b[0m\u001b[0m_delta_t_batch\u001b[0m \u001b[0;32mand\u001b[0m\u001b[0;34m\u001b[0m\u001b[0m\n",
      "\u001b[0;32m/usr/local/lib/python3.5/dist-packages/numpy/lib/function_base.py\u001b[0m in \u001b[0;36mmedian\u001b[0;34m(a, axis, out, overwrite_input, keepdims)\u001b[0m\n\u001b[1;32m   3942\u001b[0m     \"\"\"\n\u001b[1;32m   3943\u001b[0m     r, k = _ureduce(a, func=_median, axis=axis, out=out,\n\u001b[0;32m-> 3944\u001b[0;31m                     overwrite_input=overwrite_input)\n\u001b[0m\u001b[1;32m   3945\u001b[0m     \u001b[0;32mif\u001b[0m \u001b[0mkeepdims\u001b[0m\u001b[0;34m:\u001b[0m\u001b[0;34m\u001b[0m\u001b[0m\n\u001b[1;32m   3946\u001b[0m         \u001b[0;32mreturn\u001b[0m \u001b[0mr\u001b[0m\u001b[0;34m.\u001b[0m\u001b[0mreshape\u001b[0m\u001b[0;34m(\u001b[0m\u001b[0mk\u001b[0m\u001b[0;34m)\u001b[0m\u001b[0;34m\u001b[0m\u001b[0m\n",
      "\u001b[0;32m/usr/local/lib/python3.5/dist-packages/numpy/lib/function_base.py\u001b[0m in \u001b[0;36m_ureduce\u001b[0;34m(a, func, **kwargs)\u001b[0m\n\u001b[1;32m   3856\u001b[0m         \u001b[0mkeepdim\u001b[0m \u001b[0;34m=\u001b[0m \u001b[0;34m[\u001b[0m\u001b[0;36m1\u001b[0m\u001b[0;34m]\u001b[0m \u001b[0;34m*\u001b[0m \u001b[0ma\u001b[0m\u001b[0;34m.\u001b[0m\u001b[0mndim\u001b[0m\u001b[0;34m\u001b[0m\u001b[0m\n\u001b[1;32m   3857\u001b[0m \u001b[0;34m\u001b[0m\u001b[0m\n\u001b[0;32m-> 3858\u001b[0;31m     \u001b[0mr\u001b[0m \u001b[0;34m=\u001b[0m \u001b[0mfunc\u001b[0m\u001b[0;34m(\u001b[0m\u001b[0ma\u001b[0m\u001b[0;34m,\u001b[0m \u001b[0;34m**\u001b[0m\u001b[0mkwargs\u001b[0m\u001b[0;34m)\u001b[0m\u001b[0;34m\u001b[0m\u001b[0m\n\u001b[0m\u001b[1;32m   3859\u001b[0m     \u001b[0;32mreturn\u001b[0m \u001b[0mr\u001b[0m\u001b[0;34m,\u001b[0m \u001b[0mkeepdim\u001b[0m\u001b[0;34m\u001b[0m\u001b[0m\n\u001b[1;32m   3860\u001b[0m \u001b[0;34m\u001b[0m\u001b[0m\n",
      "\u001b[0;32m/usr/local/lib/python3.5/dist-packages/numpy/lib/function_base.py\u001b[0m in \u001b[0;36m_median\u001b[0;34m(a, axis, out, overwrite_input)\u001b[0m\n\u001b[1;32m   3992\u001b[0m \u001b[0;34m\u001b[0m\u001b[0m\n\u001b[1;32m   3993\u001b[0m     \u001b[0;31m# Check if the array contains any nan's\u001b[0m\u001b[0;34m\u001b[0m\u001b[0;34m\u001b[0m\u001b[0m\n\u001b[0;32m-> 3994\u001b[0;31m     \u001b[0;32mif\u001b[0m \u001b[0mnp\u001b[0m\u001b[0;34m.\u001b[0m\u001b[0missubdtype\u001b[0m\u001b[0;34m(\u001b[0m\u001b[0ma\u001b[0m\u001b[0;34m.\u001b[0m\u001b[0mdtype\u001b[0m\u001b[0;34m,\u001b[0m \u001b[0mnp\u001b[0m\u001b[0;34m.\u001b[0m\u001b[0minexact\u001b[0m\u001b[0;34m)\u001b[0m \u001b[0;32mand\u001b[0m \u001b[0msz\u001b[0m \u001b[0;34m>\u001b[0m \u001b[0;36m0\u001b[0m\u001b[0;34m:\u001b[0m\u001b[0;34m\u001b[0m\u001b[0m\n\u001b[0m\u001b[1;32m   3995\u001b[0m         \u001b[0;31m# warn and return nans like mean would\u001b[0m\u001b[0;34m\u001b[0m\u001b[0;34m\u001b[0m\u001b[0m\n\u001b[1;32m   3996\u001b[0m         \u001b[0mrout\u001b[0m \u001b[0;34m=\u001b[0m \u001b[0mmean\u001b[0m\u001b[0;34m(\u001b[0m\u001b[0mpart\u001b[0m\u001b[0;34m[\u001b[0m\u001b[0mindexer\u001b[0m\u001b[0;34m]\u001b[0m\u001b[0;34m,\u001b[0m \u001b[0maxis\u001b[0m\u001b[0;34m=\u001b[0m\u001b[0maxis\u001b[0m\u001b[0;34m,\u001b[0m \u001b[0mout\u001b[0m\u001b[0;34m=\u001b[0m\u001b[0mout\u001b[0m\u001b[0;34m)\u001b[0m\u001b[0;34m\u001b[0m\u001b[0m\n",
      "\u001b[0;31mKeyboardInterrupt\u001b[0m: "
     ]
    }
   ],
   "source": [
    "res = model.fit(x_train, y_train,\n",
    "          batch_size = batch_size,\n",
    "          epochs=300,\n",
    "          validation_data=(x_test, y_test), verbose=2)"
   ]
  },
  {
   "cell_type": "markdown",
   "metadata": {},
   "source": [
    "### Save the model (marking as continued)"
   ]
  },
  {
   "cell_type": "code",
   "execution_count": 24,
   "metadata": {
    "collapsed": true
   },
   "outputs": [],
   "source": [
    "date = str(datetime.date.today() )\n",
    "time = str(datetime.datetime.now().time())[:-7]\n",
    "\n",
    "filename = '/home/shikhar/Datasets/Models/' + model_type + '_continued_' + date + '_' +time;\n",
    "with open( filename, 'wb') as output:\n",
    "    pickle.dump([model.get_config(), model.get_weights(), model.history.history], output, pickle.HIGHEST_PROTOCOL)"
   ]
  },
  {
   "cell_type": "code",
   "execution_count": 23,
   "metadata": {},
   "outputs": [
    {
     "data": {
      "text/plain": [
       "256"
      ]
     },
     "execution_count": 23,
     "metadata": {},
     "output_type": "execute_result"
    }
   ],
   "source": [
    "import os\n",
    "os.system('say done')"
   ]
  },
  {
   "cell_type": "code",
   "execution_count": 24,
   "metadata": {
    "collapsed": true
   },
   "outputs": [],
   "source": [
    "files = [\n",
    "    'CNN-rand_continued_2017-04-02_19:26:35',\n",
    "    'CNN-rand_continued_2017-04-03_16:50:47',\n",
    "    'CNN-rand_continued_2017-04-03_17:18:47'\n",
    "]"
   ]
  },
  {
   "cell_type": "code",
   "execution_count": 25,
   "metadata": {
    "collapsed": true
   },
   "outputs": [],
   "source": [
    "train_acc, train_loss, val_acc, val_loss = [],[],[],[]\n",
    "\n",
    "for file in files:\n",
    "    filename = '/home/shikhar/Datasets/Models/'  + file\n",
    "    with open( filename, 'rb') as input:\n",
    "        out = pickle.load(input)\n",
    "    train_acc += out[2]['acc']\n",
    "    train_loss += out[2]['loss']\n",
    "    val_acc += out[2]['val_acc']\n",
    "    val_loss += out[2]['val_loss']"
   ]
  },
  {
   "cell_type": "code",
   "execution_count": 35,
   "metadata": {
    "scrolled": true
   },
   "outputs": [
    {
     "data": {
      "image/png": "[encoded data removed]",
      "text/plain": [
       "<matplotlib.figure.Figure at 0x7f9ad4f0c278>"
      ]
     },
     "metadata": {},
     "output_type": "display_data"
    }
   ],
   "source": [
    "import matplotlib.pyplot as plt\n",
    "plt.style.use('ggplot')\n",
    "plt.rcParams[\"figure.figsize\"] = (10,6)\n",
    "plt.plot(train_acc)\n",
    "plt.plot(train_loss)\n",
    "plt.plot(val_acc)\n",
    "# plt.plot(val_loss)\n",
    "plt.legend(['Train acc','Train loss','Valid acc', 'Valid loss'], loc=2)\n",
    "plt.xlabel('Epochs')\n",
    "plt.ylabel('Loss/Accuracy')\n",
    "plt.title('Using '+ model_type)\n",
    "date = str(datetime.date.today() )\n",
    "time = str(datetime.datetime.now().time())[:-7]\n",
    "imgName = 'Images/' + model_type + '_' + date + '_' + time + '.jpg'\n",
    "plt.savefig( imgName, dpi= 200, bbox_inches='tight', transparent=False)\n",
    "plt.show()"
   ]
  }
 ],
 "metadata": {
  "kernelspec": {
   "display_name": "Python 3",
   "language": "python",
   "name": "python3"
  },
  "language_info": {
   "codemirror_mode": {
    "name": "ipython",
    "version": 3
   },
   "file_extension": ".py",
   "mimetype": "text/x-python",
   "name": "python",
   "nbconvert_exporter": "python",
   "pygments_lexer": "ipython3",
   "version": "3.5.2"
  }
 },
 "nbformat": 4,
 "nbformat_minor": 2
}
