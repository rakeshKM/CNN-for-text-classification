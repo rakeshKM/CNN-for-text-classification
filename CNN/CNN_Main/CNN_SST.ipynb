{
 "cells": [
  {
   "cell_type": "code",
   "execution_count": 12,
   "metadata": {
    "collapsed": false,
    "deletable": true,
    "editable": true
   },
   "outputs": [],
   "source": [
    "import keras\n",
    "from keras.datasets import mnist\n",
    "from keras.models import Model, Sequential\n",
    "from keras.layers import Input, Dense, Dropout, Flatten, Embedding, regularizers\n",
    "from keras.layers import Conv1D, MaxPooling1D\n",
    "from keras.layers.merge import Concatenate\n",
    "from keras import optimizers\n",
    "from keras.preprocessing import sequence\n",
    "from keras import backend as K\n",
    "from w2v import train_word2vec \n",
    "import pickle, datetime\n",
    "import numpy as np\n",
    "import difflib"
   ]
  },
  {
   "cell_type": "markdown",
   "metadata": {
    "deletable": true,
    "editable": true
   },
   "source": [
    "# ------------------------------- Data Preprocessing -----------------------------------"
   ]
  },
  {
   "cell_type": "markdown",
   "metadata": {
    "deletable": true,
    "editable": true
   },
   "source": [
    "### Phrase -> index"
   ]
  },
  {
   "cell_type": "code",
   "execution_count": 2,
   "metadata": {
    "collapsed": false,
    "deletable": true,
    "editable": true
   },
   "outputs": [
    {
     "name": "stdout",
     "output_type": "stream",
     "text": [
      "239232 14058\n"
     ]
    }
   ],
   "source": [
    "phr_to_ind = dict()\n",
    "\n",
    "with open('../../Datasets/SST1_dataset/dictionary.txt') as f:\n",
    "    for line in f:\n",
    "        entry = line.split('|')\n",
    "        phr_to_ind[entry[0]] = int(entry[1])\n",
    "\n",
    "keys = phr_to_ind.keys();\n",
    "\n",
    "print(len(phr_to_ind), phr_to_ind['Good'])"
   ]
  },
  {
   "cell_type": "markdown",
   "metadata": {
    "deletable": true,
    "editable": true
   },
   "source": [
    "### Getting Index corresponding to sentences"
   ]
  },
  {
   "cell_type": "code",
   "execution_count": 3,
   "metadata": {
    "collapsed": false,
    "deletable": true,
    "editable": true
   },
   "outputs": [
    {
     "name": "stdout",
     "output_type": "stream",
     "text": [
      "11855\n"
     ]
    }
   ],
   "source": [
    "# Without doing the below computation directly load the stored output\n",
    "sentence_list = []\n",
    "sentiment = []\n",
    "\n",
    "with open('../../Datasets/SST1_dataset/SentenceWithCorrection.txt') as f:\n",
    "    for line in f:\n",
    "        sent = line[:-1]\n",
    "        sentence_list.append(sent)\n",
    "        sentiment.append(phr_to_ind[sent])\n",
    "\n",
    "print(len(sentence_list))"
   ]
  },
  {
   "cell_type": "code",
   "execution_count": 4,
   "metadata": {
    "collapsed": false,
    "deletable": true,
    "editable": true
   },
   "outputs": [],
   "source": [
    "# sentence_list = []\n",
    "# sentiment = []\n",
    "\n",
    "# with open('../../Datasets/SST1_dataset/datasetSentences.txt') as f:\n",
    "#     f.readline()\n",
    "#     for line in f:\n",
    "#         entry = line.split('\\t')\n",
    "#         sent = entry[1][:-1]\n",
    "#         sent = sent.replace('-LRB-', '(')\n",
    "#         sent = sent.replace('-RRB-', ')')\n",
    "    \n",
    "#         if sent in phr_to_ind.keys():\n",
    "#             sentiment.append(phr_to_ind[sent])\n",
    "#         else:\n",
    "#             print('.', end=\"\")\n",
    "#             keys_subset = [k for k in keys if (k[0] == sent[0])]\n",
    "#             key = difflib.get_close_matches(sent, keys_subset, n=1);\n",
    "#             sent = key[0]\n",
    "#             sentiment.append(phr_to_ind[sent])\n",
    "            \n",
    "#         sentence_list.append(sent)\n",
    "        \n",
    "# print(len(sentence_list))\n",
    "\n",
    "# # Written the output in a file\n",
    "# f = open('../../Datasets/SST1_dataset/SentenceWithCorrection.txt', 'w')\n",
    "# for sent in sentence_list:\n",
    "#     f.write(sent + '\\n')\n",
    "# f.close()"
   ]
  },
  {
   "cell_type": "markdown",
   "metadata": {
    "deletable": true,
    "editable": true
   },
   "source": [
    "### Phrase Index -> Sentiment"
   ]
  },
  {
   "cell_type": "code",
   "execution_count": 5,
   "metadata": {
    "collapsed": false,
    "deletable": true,
    "editable": true
   },
   "outputs": [
    {
     "name": "stdout",
     "output_type": "stream",
     "text": [
      "239232\n"
     ]
    }
   ],
   "source": [
    "ind_to_senti = dict()\n",
    "\n",
    "with open('../../Datasets/SST1_dataset/sentiment_labels.txt') as f:\n",
    "    f.readline()\n",
    "    for line in f:\n",
    "        entry = line.split('|')\n",
    "        ind_to_senti[int(entry[0])] = float(entry[1])\n",
    "\n",
    "print(len(ind_to_senti))"
   ]
  },
  {
   "cell_type": "markdown",
   "metadata": {
    "deletable": true,
    "editable": true
   },
   "source": [
    "### Loading train, test and valid split info"
   ]
  },
  {
   "cell_type": "code",
   "execution_count": 6,
   "metadata": {
    "collapsed": false,
    "deletable": true,
    "editable": true
   },
   "outputs": [
    {
     "name": "stdout",
     "output_type": "stream",
     "text": [
      "11855\n",
      "9645 2210 0\n"
     ]
    }
   ],
   "source": [
    "split_ind = []\n",
    "with open('../../Datasets/SST1_dataset/datasetSplit.txt') as f:\n",
    "    f.readline()\n",
    "    for line in f:\n",
    "        entry = line.split(',')\n",
    "        split_ind.append(int(entry[1]))\n",
    "\n",
    "print(len(split_ind))\n",
    "\n",
    "for i in range(len(split_ind)):\n",
    "    if split_ind[i] == 3:\n",
    "        split_ind[i] = 1\n",
    "        \n",
    "N_train = split_ind.count(1)\n",
    "N_test = split_ind.count(2)\n",
    "N_valid = split_ind.count(3)\n",
    "print (N_train, N_test, N_valid)"
   ]
  },
  {
   "cell_type": "markdown",
   "metadata": {
    "deletable": true,
    "editable": true
   },
   "source": [
    "### Assigning label to sentences"
   ]
  },
  {
   "cell_type": "code",
   "execution_count": 7,
   "metadata": {
    "collapsed": false,
    "deletable": true,
    "editable": true
   },
   "outputs": [
    {
     "name": "stdout",
     "output_type": "stream",
     "text": [
      "1510 3140 2242 3111\n"
     ]
    }
   ],
   "source": [
    "N_sent = len(sentence_list);\n",
    "N_category = 5\n",
    "\n",
    "y_label = []\n",
    "\n",
    "for ind in sentiment:\n",
    "    val = ind_to_senti[ind]\n",
    "    if val >= 0.0 and val <= 0.2:\n",
    "        y_label.append(0);\n",
    "    elif val > 0.2 and val <= 0.4:\n",
    "        y_label.append(1)\n",
    "    elif val > 0.4 and val <= 0.6:\n",
    "        y_label.append(2)\n",
    "    elif val > 0.6 and val <= 0.8:\n",
    "        y_label.append(3)\n",
    "    else:\n",
    "        y_label.append(4)\n",
    "\n",
    "print(y_label.count(0), y_label.count(1), y_label.count(2), y_label.count(3))\n",
    "\n",
    "# Labels in one-hot encoding\n",
    "y_train = np.zeros((N_train, N_category), np.uint8)\n",
    "y_test  = np.zeros((N_test , N_category), np.uint8)\n",
    "y_valid = np.zeros((N_valid, N_category), np.uint8)\n",
    "\n",
    "c1,c2,c3 = 0,0,0\n",
    "for i in range(len(y_label)):\n",
    "    label = y_label[i]\n",
    "    if split_ind[i] == 1:\n",
    "        y_train[c1, label] = 1;  c1 += 1\n",
    "    elif split_ind[i] == 2:\n",
    "        y_test [c2, label] = 1;  c2 += 1\n",
    "    else:\n",
    "        y_valid[c3, label] = 1;  c3 += 1"
   ]
  },
  {
   "cell_type": "markdown",
   "metadata": {
    "deletable": true,
    "editable": true
   },
   "source": [
    "### Reducing the size of vocabulary"
   ]
  },
  {
   "cell_type": "code",
   "execution_count": 8,
   "metadata": {
    "collapsed": false,
    "deletable": true,
    "editable": true
   },
   "outputs": [
    {
     "name": "stdout",
     "output_type": "stream",
     "text": [
      "239232 21699\n"
     ]
    }
   ],
   "source": [
    "x_all = []\n",
    "max_sent_len = -1;\n",
    "max_wrd_len = -1\n",
    "wrd_to_ind = dict()\n",
    "\n",
    "ind_new = 1;\n",
    "for sent in sentence_list:\n",
    "    wrds = sent.split()\n",
    "    vec = []\n",
    "    for wrd in wrds:\n",
    "        if wrd not in wrd_to_ind.keys():\n",
    "            wrd_to_ind[wrd] = ind_new\n",
    "            ind_new += 1\n",
    "            \n",
    "        ind = wrd_to_ind[wrd]\n",
    "        vec.append(ind)\n",
    "            \n",
    "    max_sent_len = max(len(vec), max_sent_len)\n",
    "    x_all.append(vec)\n",
    "\n",
    "# Get inverse dictionary\n",
    "ind_to_wrd = dict((v, k) for k, v in wrd_to_ind.items())\n",
    "ind_to_wrd[0] = \"<PAD/>\"\n",
    "\n",
    "print(len(phr_to_ind), len(wrd_to_ind))"
   ]
  },
  {
   "cell_type": "markdown",
   "metadata": {
    "deletable": true,
    "editable": true
   },
   "source": [
    "### Create input features"
   ]
  },
  {
   "cell_type": "code",
   "execution_count": 9,
   "metadata": {
    "collapsed": false,
    "deletable": true,
    "editable": true
   },
   "outputs": [
    {
     "name": "stdout",
     "output_type": "stream",
     "text": [
      "9645 2210 0\n"
     ]
    }
   ],
   "source": [
    "# x_train = np.zeros((N_train, max_sent_len), np.int32)\n",
    "# x_test  = np.zeros((N_test,  max_sent_len), np.int32)\n",
    "# x_valid = np.zeros((N_valid, max_sent_len), np.int32)\n",
    "x_train = []\n",
    "x_test = []\n",
    "x_valid = []\n",
    "\n",
    "c1, c2, c3 = 0,0,0\n",
    "for i in range(len(x_all)):\n",
    "    vec = x_all[i]\n",
    "    if split_ind[i] == 1:\n",
    "        x_train.append(vec)\n",
    "#         x_train[c1,0:len(vec)] = np.int32(vec); \n",
    "        c1 += 1\n",
    "    elif split_ind[i] == 2:\n",
    "        x_test.append(vec)\n",
    "        x_test [c2,0:len(vec)] = np.int32(vec); \n",
    "        c2 += 1\n",
    "    else:\n",
    "        x_valid.append(vec)\n",
    "        x_valid[c3,0:len(vec)] = np.int32(vec); \n",
    "        c3 += 1\n",
    "\n",
    "print(c1, c2, c3)"
   ]
  },
  {
   "cell_type": "code",
   "execution_count": 13,
   "metadata": {
    "collapsed": false
   },
   "outputs": [],
   "source": [
    "x_train = sequence.pad_sequences(x_train, maxlen=max_sent_len, padding=\"post\", truncating=\"post\")\n",
    "x_test = sequence.pad_sequences(x_test, maxlen=max_sent_len, padding=\"post\", truncating=\"post\")"
   ]
  },
  {
   "cell_type": "markdown",
   "metadata": {
    "deletable": true,
    "editable": true
   },
   "source": [
    "# -------------------------------- Training model  -----------------------------------"
   ]
  },
  {
   "cell_type": "markdown",
   "metadata": {
    "deletable": true,
    "editable": true
   },
   "source": [
    "### Model Paremeters"
   ]
  },
  {
   "cell_type": "code",
   "execution_count": 11,
   "metadata": {
    "collapsed": true,
    "deletable": true,
    "editable": true
   },
   "outputs": [],
   "source": [
    "model_type    = 'CNN-rand'  # CNN-rand|CNN-non-static|CNN-static\n",
    "embedding_dim = 10         # word2vec dim\n",
    "vocab_size    = len(ind_to_wrd)"
   ]
  },
  {
   "cell_type": "markdown",
   "metadata": {
    "deletable": true,
    "editable": true
   },
   "source": [
    "### Generate word2vec "
   ]
  },
  {
   "cell_type": "code",
   "execution_count": 12,
   "metadata": {
    "collapsed": false,
    "deletable": true,
    "editable": true
   },
   "outputs": [],
   "source": [
    "if model_type in ['CNN-non-static', 'CNN-static']:\n",
    "    embedding_wts = train_word2vec( np.vstack((x_train, x_test, x_valid)), \n",
    "                                    ind_to_wrd, num_features = embedding_dim)\n",
    "    if model_type == 'CNN-static':\n",
    "        x_train = embedding_wts[0][x_train]\n",
    "        x_test  = embedding_wts[0][x_test]\n",
    "#         x_valid = embedding_wts[0][x_valid]\n",
    "        \n",
    "elif model_type == 'CNN-rand':\n",
    "    embedding_wts = None\n",
    "    \n",
    "else:\n",
    "    raise ValueError(\"Unknown model type\")"
   ]
  },
  {
   "cell_type": "markdown",
   "metadata": {
    "deletable": true,
    "editable": true
   },
   "source": [
    "### Create model"
   ]
  },
  {
   "cell_type": "code",
   "execution_count": 13,
   "metadata": {
    "collapsed": false,
    "deletable": true,
    "editable": true
   },
   "outputs": [
    {
     "name": "stdout",
     "output_type": "stream",
     "text": [
      "____________________________________________________________________________________________________\n",
      "Layer (type)                     Output Shape          Param #     Connected to                     \n",
      "====================================================================================================\n",
      "input_1 (InputLayer)             (None, 56)            0                                            \n",
      "____________________________________________________________________________________________________\n",
      "embedding (Embedding)            (None, 56, 10)        217000                                       \n",
      "____________________________________________________________________________________________________\n",
      "dropout_1 (Dropout)              (None, 56, 10)        0                                            \n",
      "____________________________________________________________________________________________________\n",
      "conv1d_1 (Conv1D)                (None, 54, 10)        310                                          \n",
      "____________________________________________________________________________________________________\n",
      "conv1d_2 (Conv1D)                (None, 53, 10)        410                                          \n",
      "____________________________________________________________________________________________________\n",
      "conv1d_3 (Conv1D)                (None, 52, 10)        510                                          \n",
      "____________________________________________________________________________________________________\n",
      "max_pooling1d_1 (MaxPooling1D)   (None, 1, 10)         0                                            \n",
      "____________________________________________________________________________________________________\n",
      "max_pooling1d_2 (MaxPooling1D)   (None, 1, 10)         0                                            \n",
      "____________________________________________________________________________________________________\n",
      "max_pooling1d_3 (MaxPooling1D)   (None, 1, 10)         0                                            \n",
      "____________________________________________________________________________________________________\n",
      "flatten_1 (Flatten)              (None, 10)            0                                            \n",
      "____________________________________________________________________________________________________\n",
      "flatten_2 (Flatten)              (None, 10)            0                                            \n",
      "____________________________________________________________________________________________________\n",
      "flatten_3 (Flatten)              (None, 10)            0                                            \n",
      "____________________________________________________________________________________________________\n",
      "concatenate_1 (Concatenate)      (None, 30)            0                                            \n",
      "____________________________________________________________________________________________________\n",
      "dropout_2 (Dropout)              (None, 30)            0                                            \n",
      "____________________________________________________________________________________________________\n",
      "dense_1 (Dense)                  (None, 10)            310                                          \n",
      "____________________________________________________________________________________________________\n",
      "dense_2 (Dense)                  (None, 5)             55                                           \n",
      "====================================================================================================\n",
      "Total params: 218,595.0\n",
      "Trainable params: 218,595.0\n",
      "Non-trainable params: 0.0\n",
      "____________________________________________________________________________________________________\n"
     ]
    }
   ],
   "source": [
    "batch_size   = 10\n",
    "filter_sizes = [3,4,5]\n",
    "num_filters  = 10\n",
    "dropout_prob = (0.5, 0.8)\n",
    "hidden_dims  = 10\n",
    "\n",
    "l2_reg = 0.3\n",
    "\n",
    "# Deciding dimension of input based on the model\n",
    "input_shape = (max_sent_len, embedding_dim) if model_type == \"CNN-static\" else (max_sent_len,)\n",
    "model_input = Input(shape = input_shape)\n",
    "\n",
    "# Static model do not have embedding layer\n",
    "if model_type == \"CNN-static\":\n",
    "    z = Dropout(dropout_prob[0])(model_input)\n",
    "else:\n",
    "    z = Embedding(vocab_size, embedding_dim, input_length = max_sent_len, name=\"embedding\", trainable=True)(model_input)\n",
    "    z = Dropout(dropout_prob[0])(z)\n",
    "\n",
    "# Convolution layers\n",
    "z1 = Conv1D(    filters=num_filters, kernel_size=filter_sizes[0], \n",
    "                padding=\"valid\", activation=\"relu\", \n",
    "                strides=1)(z)\n",
    "z1 = MaxPooling1D(pool_size = max_sent_len - filter_sizes[0] +1)(z1)\n",
    "z1 = Flatten()(z1)\n",
    "\n",
    "z2 = Conv1D(    filters=num_filters, kernel_size=filter_sizes[1], \n",
    "                padding=\"valid\", activation=\"relu\", \n",
    "                strides=1)(z)\n",
    "z2 = MaxPooling1D(pool_size=max_sent_len - filter_sizes[1] +1)(z2)\n",
    "z2 = Flatten()(z2)\n",
    "\n",
    "z3 = Conv1D(    filters=num_filters, kernel_size=filter_sizes[2], \n",
    "                padding=\"valid\", activation=\"relu\",\n",
    "                strides=1)(z)\n",
    "z3 = MaxPooling1D(pool_size=max_sent_len - filter_sizes[2] +1)(z3)\n",
    "z3 = Flatten()(z3)\n",
    "\n",
    "# Concatenate the output of all convolution layers\n",
    "z = Concatenate()([z1, z2, z3])\n",
    "z = Dropout(dropout_prob[1])(z)\n",
    "\n",
    "z = Dense(hidden_dims, activation=\"relu\")(z)\n",
    "model_output = Dense(N_category, activation=\"softmax\")(z)\n",
    "    \n",
    "model = Model(model_input, model_output)\n",
    "model.summary()"
   ]
  },
  {
   "cell_type": "markdown",
   "metadata": {
    "deletable": true,
    "editable": true
   },
   "source": [
    "### Train model "
   ]
  },
  {
   "cell_type": "code",
   "execution_count": 16,
   "metadata": {
    "collapsed": false,
    "deletable": true,
    "editable": true,
    "scrolled": true
   },
   "outputs": [
    {
     "name": "stdout",
     "output_type": "stream",
     "text": [
      "Train on 9645 samples, validate on 2210 samples\n",
      "Epoch 1/100\n",
      "13s - loss: 1.5686 - acc: 0.2648 - val_loss: 1.5740 - val_acc: 0.2842\n",
      "Epoch 2/100\n",
      "15s - loss: 1.5632 - acc: 0.2734 - val_loss: 1.5719 - val_acc: 0.2534\n",
      "Epoch 3/100\n",
      "10s - loss: 1.5551 - acc: 0.2942 - val_loss: 1.5561 - val_acc: 0.3140\n",
      "Epoch 4/100\n",
      "8s - loss: 1.5376 - acc: 0.3119 - val_loss: 1.5313 - val_acc: 0.3109\n",
      "Epoch 5/100\n",
      "7s - loss: 1.5105 - acc: 0.3346 - val_loss: 1.5078 - val_acc: 0.3226\n",
      "Epoch 6/100\n",
      "7s - loss: 1.4714 - acc: 0.3532 - val_loss: 1.4500 - val_acc: 0.3606\n",
      "Epoch 7/100\n",
      "8s - loss: 1.4241 - acc: 0.3805 - val_loss: 1.4236 - val_acc: 0.3833\n",
      "Epoch 8/100\n",
      "8s - loss: 1.3848 - acc: 0.3973 - val_loss: 1.4109 - val_acc: 0.3615\n",
      "Epoch 9/100\n",
      "8s - loss: 1.3489 - acc: 0.4048 - val_loss: 1.3993 - val_acc: 0.3796\n",
      "Epoch 10/100\n",
      "7s - loss: 1.3233 - acc: 0.4177 - val_loss: 1.3939 - val_acc: 0.3665\n",
      "Epoch 11/100\n",
      "7s - loss: 1.2922 - acc: 0.4300 - val_loss: 1.3934 - val_acc: 0.3701\n",
      "Epoch 12/100\n",
      "7s - loss: 1.2754 - acc: 0.4405 - val_loss: 1.4024 - val_acc: 0.3688\n",
      "Epoch 13/100\n",
      "7s - loss: 1.2558 - acc: 0.4406 - val_loss: 1.3979 - val_acc: 0.3796\n",
      "Epoch 14/100\n",
      "7s - loss: 1.2349 - acc: 0.4481 - val_loss: 1.4061 - val_acc: 0.3751\n",
      "Epoch 15/100\n",
      "8s - loss: 1.2109 - acc: 0.4568 - val_loss: 1.4049 - val_acc: 0.3878\n",
      "Epoch 16/100\n",
      "8s - loss: 1.2028 - acc: 0.4517 - val_loss: 1.4235 - val_acc: 0.3452\n",
      "Epoch 17/100\n",
      "7s - loss: 1.1840 - acc: 0.4638 - val_loss: 1.4211 - val_acc: 0.3570\n",
      "Epoch 18/100\n",
      "7s - loss: 1.1612 - acc: 0.4759 - val_loss: 1.4232 - val_acc: 0.3588\n",
      "Epoch 19/100\n",
      "8s - loss: 1.1589 - acc: 0.4733 - val_loss: 1.4366 - val_acc: 0.3566\n",
      "Epoch 20/100\n",
      "8s - loss: 1.1381 - acc: 0.4798 - val_loss: 1.4444 - val_acc: 0.3348\n",
      "Epoch 21/100\n",
      "8s - loss: 1.1336 - acc: 0.4899 - val_loss: 1.4525 - val_acc: 0.3380\n",
      "Epoch 22/100\n",
      "8s - loss: 1.1261 - acc: 0.4892 - val_loss: 1.4599 - val_acc: 0.3231\n",
      "Epoch 23/100\n",
      "7s - loss: 1.1085 - acc: 0.4965 - val_loss: 1.4730 - val_acc: 0.3186\n",
      "Epoch 24/100\n",
      "7s - loss: 1.1042 - acc: 0.5013 - val_loss: 1.4713 - val_acc: 0.3186\n",
      "Epoch 25/100\n",
      "7s - loss: 1.0958 - acc: 0.5037 - val_loss: 1.4833 - val_acc: 0.3136\n",
      "Epoch 26/100\n",
      "8s - loss: 1.0841 - acc: 0.5074 - val_loss: 1.4947 - val_acc: 0.3149\n",
      "Epoch 27/100\n",
      "8s - loss: 1.0926 - acc: 0.5068 - val_loss: 1.4904 - val_acc: 0.3122\n",
      "Epoch 28/100\n",
      "7s - loss: 1.0650 - acc: 0.5150 - val_loss: 1.5086 - val_acc: 0.3027\n",
      "Epoch 29/100\n",
      "7s - loss: 1.0772 - acc: 0.5109 - val_loss: 1.5147 - val_acc: 0.3063\n",
      "Epoch 30/100\n",
      "8s - loss: 1.0591 - acc: 0.5210 - val_loss: 1.5128 - val_acc: 0.3081\n",
      "Epoch 31/100\n",
      "8s - loss: 1.0612 - acc: 0.5176 - val_loss: 1.5164 - val_acc: 0.2860\n",
      "Epoch 32/100\n",
      "8s - loss: 1.0407 - acc: 0.5272 - val_loss: 1.5352 - val_acc: 0.3000\n",
      "Epoch 33/100\n",
      "9s - loss: 1.0457 - acc: 0.5321 - val_loss: 1.5325 - val_acc: 0.3000\n",
      "Epoch 34/100\n",
      "8s - loss: 1.0269 - acc: 0.5372 - val_loss: 1.5771 - val_acc: 0.2977\n",
      "Epoch 35/100\n",
      "16s - loss: 1.0323 - acc: 0.5340 - val_loss: 1.5635 - val_acc: 0.2905\n",
      "Epoch 36/100\n",
      "10s - loss: 1.0243 - acc: 0.5347 - val_loss: 1.5644 - val_acc: 0.2964\n",
      "Epoch 37/100\n",
      "12s - loss: 1.0314 - acc: 0.5410 - val_loss: 1.5758 - val_acc: 0.2950\n",
      "Epoch 38/100\n",
      "17s - loss: 1.0270 - acc: 0.5318 - val_loss: 1.5543 - val_acc: 0.2982\n",
      "Epoch 39/100\n",
      "8s - loss: 1.0174 - acc: 0.5341 - val_loss: 1.5838 - val_acc: 0.2995\n",
      "Epoch 40/100\n",
      "8s - loss: 0.9957 - acc: 0.5517 - val_loss: 1.6213 - val_acc: 0.2828\n",
      "Epoch 41/100\n",
      "8s - loss: 0.9956 - acc: 0.5496 - val_loss: 1.6202 - val_acc: 0.2869\n",
      "Epoch 42/100\n",
      "7s - loss: 0.9893 - acc: 0.5484 - val_loss: 1.6164 - val_acc: 0.2796\n",
      "Epoch 43/100\n",
      "8s - loss: 1.0000 - acc: 0.5485 - val_loss: 1.6362 - val_acc: 0.2828\n",
      "Epoch 44/100\n",
      "7s - loss: 0.9759 - acc: 0.5520 - val_loss: 1.6330 - val_acc: 0.2842\n",
      "Epoch 45/100\n",
      "7s - loss: 0.9718 - acc: 0.5588 - val_loss: 1.6625 - val_acc: 0.2855\n",
      "Epoch 46/100\n",
      "7s - loss: 0.9870 - acc: 0.5622 - val_loss: 1.6342 - val_acc: 0.2792\n",
      "Epoch 47/100\n",
      "7s - loss: 0.9726 - acc: 0.5622 - val_loss: 1.6466 - val_acc: 0.2792\n",
      "Epoch 48/100\n",
      "7s - loss: 0.9638 - acc: 0.5658 - val_loss: 1.6638 - val_acc: 0.2715\n",
      "Epoch 49/100\n",
      "8s - loss: 0.9593 - acc: 0.5709 - val_loss: 1.6595 - val_acc: 0.2792\n",
      "Epoch 50/100\n",
      "8s - loss: 0.9676 - acc: 0.5596 - val_loss: 1.6790 - val_acc: 0.2837\n",
      "Epoch 51/100\n",
      "22s - loss: 0.9662 - acc: 0.5653 - val_loss: 1.6803 - val_acc: 0.2864\n",
      "Epoch 52/100\n",
      "9s - loss: 0.9485 - acc: 0.5810 - val_loss: 1.6828 - val_acc: 0.2842\n",
      "Epoch 53/100\n",
      "8s - loss: 0.9567 - acc: 0.5724 - val_loss: 1.6958 - val_acc: 0.2742\n",
      "Epoch 54/100\n",
      "9s - loss: 0.9449 - acc: 0.5799 - val_loss: 1.6728 - val_acc: 0.2747\n",
      "Epoch 55/100\n",
      "7s - loss: 0.9580 - acc: 0.5749 - val_loss: 1.6950 - val_acc: 0.2733\n",
      "Epoch 56/100\n",
      "7s - loss: 0.9452 - acc: 0.5786 - val_loss: 1.7011 - val_acc: 0.2774\n",
      "Epoch 57/100\n",
      "8s - loss: 0.9619 - acc: 0.5746 - val_loss: 1.7037 - val_acc: 0.2706\n",
      "Epoch 58/100\n",
      "7s - loss: 0.9427 - acc: 0.5798 - val_loss: 1.6998 - val_acc: 0.2751\n",
      "Epoch 59/100\n",
      "7s - loss: 0.9366 - acc: 0.5860 - val_loss: 1.7063 - val_acc: 0.2783\n",
      "Epoch 60/100\n",
      "7s - loss: 0.9298 - acc: 0.5888 - val_loss: 1.7400 - val_acc: 0.2724\n",
      "Epoch 61/100\n",
      "7s - loss: 0.9155 - acc: 0.5955 - val_loss: 1.7372 - val_acc: 0.2792\n",
      "Epoch 62/100\n",
      "7s - loss: 0.9253 - acc: 0.5917 - val_loss: 1.7312 - val_acc: 0.2842\n",
      "Epoch 63/100\n",
      "7s - loss: 0.9204 - acc: 0.5994 - val_loss: 1.7509 - val_acc: 0.2742\n",
      "Epoch 64/100\n",
      "7s - loss: 0.9319 - acc: 0.5966 - val_loss: 1.7364 - val_acc: 0.2747\n",
      "Epoch 65/100\n",
      "7s - loss: 0.9047 - acc: 0.6060 - val_loss: 1.7702 - val_acc: 0.2733\n",
      "Epoch 66/100\n",
      "7s - loss: 0.9140 - acc: 0.6012 - val_loss: 1.7876 - val_acc: 0.2733\n",
      "Epoch 67/100\n",
      "7s - loss: 0.9099 - acc: 0.6083 - val_loss: 1.7905 - val_acc: 0.2769\n",
      "Epoch 68/100\n",
      "7s - loss: 0.9033 - acc: 0.6115 - val_loss: 1.7936 - val_acc: 0.2756\n",
      "Epoch 69/100\n",
      "7s - loss: 0.9069 - acc: 0.6024 - val_loss: 1.7961 - val_acc: 0.2774\n",
      "Epoch 70/100\n",
      "8s - loss: 0.8969 - acc: 0.6142 - val_loss: 1.8178 - val_acc: 0.2738\n",
      "Epoch 71/100\n",
      "7s - loss: 0.8998 - acc: 0.6159 - val_loss: 1.7972 - val_acc: 0.2765\n",
      "Epoch 72/100\n",
      "7s - loss: 0.9174 - acc: 0.6081 - val_loss: 1.7829 - val_acc: 0.2747\n",
      "Epoch 73/100\n",
      "7s - loss: 0.9022 - acc: 0.6066 - val_loss: 1.8037 - val_acc: 0.2824\n",
      "Epoch 74/100\n",
      "7s - loss: 0.9115 - acc: 0.6023 - val_loss: 1.7969 - val_acc: 0.2774\n",
      "Epoch 75/100\n",
      "7s - loss: 0.8994 - acc: 0.6161 - val_loss: 1.8046 - val_acc: 0.2814\n",
      "Epoch 76/100\n",
      "7s - loss: 0.9034 - acc: 0.6201 - val_loss: 1.8033 - val_acc: 0.2760\n",
      "Epoch 77/100\n",
      "7s - loss: 0.8768 - acc: 0.6272 - val_loss: 1.8148 - val_acc: 0.2837\n",
      "Epoch 78/100\n",
      "7s - loss: 0.8976 - acc: 0.6190 - val_loss: 1.8204 - val_acc: 0.2842\n",
      "Epoch 79/100\n",
      "7s - loss: 0.8905 - acc: 0.6162 - val_loss: 1.8129 - val_acc: 0.2842\n",
      "Epoch 80/100\n",
      "7s - loss: 0.8903 - acc: 0.6203 - val_loss: 1.8105 - val_acc: 0.2801\n",
      "Epoch 81/100\n",
      "7s - loss: 0.8946 - acc: 0.6232 - val_loss: 1.8012 - val_acc: 0.2828\n",
      "Epoch 82/100\n",
      "8s - loss: 0.8884 - acc: 0.6267 - val_loss: 1.7800 - val_acc: 0.2860\n",
      "Epoch 83/100\n",
      "8s - loss: 0.8807 - acc: 0.6298 - val_loss: 1.8171 - val_acc: 0.2778\n",
      "Epoch 84/100\n",
      "10s - loss: 0.8964 - acc: 0.6164 - val_loss: 1.8059 - val_acc: 0.2756\n",
      "Epoch 85/100\n",
      "10s - loss: 0.8917 - acc: 0.6275 - val_loss: 1.7997 - val_acc: 0.2783\n",
      "Epoch 86/100\n",
      "9s - loss: 0.8722 - acc: 0.6317 - val_loss: 1.8202 - val_acc: 0.2769\n",
      "Epoch 87/100\n",
      "7s - loss: 0.8873 - acc: 0.6279 - val_loss: 1.8300 - val_acc: 0.2765\n",
      "Epoch 88/100\n",
      "9s - loss: 0.8775 - acc: 0.6310 - val_loss: 1.8345 - val_acc: 0.2837\n",
      "Epoch 89/100\n",
      "9s - loss: 0.8742 - acc: 0.6305 - val_loss: 1.8230 - val_acc: 0.2842\n",
      "Epoch 90/100\n",
      "9s - loss: 0.8690 - acc: 0.6373 - val_loss: 1.8372 - val_acc: 0.2792\n",
      "Epoch 91/100\n",
      "7s - loss: 0.8667 - acc: 0.6334 - val_loss: 1.8448 - val_acc: 0.2765\n",
      "Epoch 92/100\n",
      "11s - loss: 0.8662 - acc: 0.6338 - val_loss: 1.8290 - val_acc: 0.2715\n",
      "Epoch 93/100\n",
      "8s - loss: 0.8632 - acc: 0.6379 - val_loss: 1.8491 - val_acc: 0.2756\n",
      "Epoch 94/100\n",
      "7s - loss: 0.8651 - acc: 0.6343 - val_loss: 1.8526 - val_acc: 0.2778\n",
      "Epoch 95/100\n",
      "9s - loss: 0.8713 - acc: 0.6382 - val_loss: 1.8467 - val_acc: 0.2733\n",
      "Epoch 96/100\n",
      "7s - loss: 0.8636 - acc: 0.6382 - val_loss: 1.8501 - val_acc: 0.2710\n",
      "Epoch 97/100\n",
      "7s - loss: 0.8553 - acc: 0.6400 - val_loss: 1.8470 - val_acc: 0.2855\n",
      "Epoch 98/100\n",
      "7s - loss: 0.8594 - acc: 0.6423 - val_loss: 1.8420 - val_acc: 0.2769\n",
      "Epoch 99/100\n",
      "8s - loss: 0.8499 - acc: 0.6432 - val_loss: 1.8315 - val_acc: 0.2733\n",
      "Epoch 100/100\n",
      "7s - loss: 0.8699 - acc: 0.6420 - val_loss: 1.8120 - val_acc: 0.2810\n"
     ]
    }
   ],
   "source": [
    "if model_type == \"CNN-non-static\":\n",
    "    embedding_layer = model.get_layer(\"embedding\")\n",
    "    embedding_layer.set_weights(embedding_wts)\n",
    "\n",
    "model.compile(loss=\"categorical_crossentropy\", optimizer=optimizers.Adam(), metrics=[\"accuracy\"])\n",
    "\n",
    "res = model.fit(x_train, y_train, \n",
    "          batch_size = batch_size,\n",
    "          epochs=100,\n",
    "          validation_data=(x_test, y_test), verbose=2)"
   ]
  },
  {
   "cell_type": "code",
   "execution_count": 22,
   "metadata": {
    "collapsed": false,
    "deletable": true,
    "editable": true
   },
   "outputs": [
    {
     "data": {
      "text/plain": [
       "256"
      ]
     },
     "execution_count": 22,
     "metadata": {},
     "output_type": "execute_result"
    }
   ],
   "source": [
    "import os\n",
    "os.system('say done')"
   ]
  },
  {
   "cell_type": "markdown",
   "metadata": {
    "deletable": true,
    "editable": true
   },
   "source": [
    "### Computing Accuracy"
   ]
  },
  {
   "cell_type": "code",
   "execution_count": 17,
   "metadata": {
    "collapsed": false,
    "deletable": true,
    "editable": true
   },
   "outputs": [
    {
     "name": "stdout",
     "output_type": "stream",
     "text": [
      "Training Accuracy 75.0855365474\n",
      "Testing Accuracy 28.0995475113\n"
     ]
    }
   ],
   "source": [
    "# Training Accuracy\n",
    "predictions = model.predict(x_train)\n",
    "pred_train = np.argmax(predictions, axis=1)\n",
    "train_label = np.argmax(y_train, axis=1)\n",
    "print('Training Accuracy', np.sum(pred_train == train_label) / N_train * 100)\n",
    "\n",
    "# # Training Accuracy\n",
    "# predictions = model.predict(x_valid)\n",
    "# pred_valid = np.argmax(predictions, axis=1)\n",
    "# valid_label = np.argmax(y_valid, axis=1)\n",
    "# print('Validation Accuracy', np.sum(pred_valid == valid_label) / N_valid * 100)\n",
    "\n",
    "# Test Accuracy\n",
    "predictions = model.predict(x_test)\n",
    "pred_test = np.argmax(predictions, axis=1)\n",
    "test_label = np.argmax(y_test, axis=1)\n",
    "print('Testing Accuracy', np.sum(pred_test == test_label) / N_test * 100)"
   ]
  },
  {
   "cell_type": "markdown",
   "metadata": {
    "deletable": true,
    "editable": true
   },
   "source": [
    "### Save the model"
   ]
  },
  {
   "cell_type": "code",
   "execution_count": 18,
   "metadata": {
    "collapsed": false,
    "deletable": true,
    "editable": true
   },
   "outputs": [],
   "source": [
    "date = str(datetime.date.today() )\n",
    "time = str(datetime.datetime.now().time())[:-7]\n",
    "\n",
    "filename = '/home/shikhar/Datasets/Models/review_' + model_type + '_' + date + '_' +time;\n",
    "with open( filename, 'wb') as output:\n",
    "    pickle.dump([model.get_config(), model.get_weights(), model.history.history], output, pickle.HIGHEST_PROTOCOL)"
   ]
  },
  {
   "cell_type": "markdown",
   "metadata": {
    "deletable": true,
    "editable": true
   },
   "source": [
    "### Plot the results"
   ]
  },
  {
   "cell_type": "code",
   "execution_count": 15,
   "metadata": {
    "collapsed": false,
    "deletable": true,
    "editable": true
   },
   "outputs": [
    {
     "data": {
      "image/png": "[encoded data removed]",
      "text/plain": [
       "<matplotlib.figure.Figure at 0x7f0962c1cfd0>"
      ]
     },
     "metadata": {},
     "output_type": "display_data"
    }
   ],
   "source": [
    "import matplotlib.pyplot as plt\n",
    "plt.style.use('ggplot')\n",
    "\n",
    "plt.rcParams[\"figure.figsize\"] = (10,6)\n",
    "plt.plot(res.history['acc'])\n",
    "plt.plot(res.history['loss'])\n",
    "plt.plot(res.history['val_acc'])\n",
    "plt.plot(res.history['val_loss'])\n",
    "plt.legend(['Train acc','Train loss','Valid acc', 'Valid loss'], loc=2)\n",
    "plt.xlabel('Epochs')\n",
    "plt.ylabel('Loss/Accuracy')\n",
    "plt.title('Using '+ model_type)\n",
    "# imgName = 'Images/' + model_type + '_' + date + '_' + time + '.jpg'\n",
    "# plt.savefig( imgName, dpi= 200, bbox_inches='tight', transparent=False)\n",
    "plt.show()"
   ]
  },
  {
   "cell_type": "markdown",
   "metadata": {
    "deletable": true,
    "editable": true
   },
   "source": [
    "### Continue from a pretrained model"
   ]
  },
  {
   "cell_type": "code",
   "execution_count": 19,
   "metadata": {
    "collapsed": true,
    "deletable": true,
    "editable": true
   },
   "outputs": [],
   "source": [
    "# Loading saved data\n",
    "import pickle\n",
    "\n",
    "# filename = '/home/shikhar/Datasets/Models/3_CNN-static_2017-04-04_11:38:41'\n",
    "with open( filename, 'rb') as input:\n",
    "    out = pickle.load(input)\n",
    "\n",
    "model.compile(loss=\"categorical_crossentropy\", optimizer=optimizers.Adam(), metrics=[\"accuracy\"])\n",
    "model.set_weights(out[1])"
   ]
  },
  {
   "cell_type": "code",
   "execution_count": 20,
   "metadata": {
    "collapsed": false,
    "deletable": true,
    "editable": true
   },
   "outputs": [
    {
     "name": "stdout",
     "output_type": "stream",
     "text": [
      "Train on 9645 samples, validate on 2210 samples\n",
      "Epoch 1/300\n",
      "7s - loss: 0.8510 - acc: 0.6471 - val_loss: 1.8517 - val_acc: 0.2833\n",
      "Epoch 2/300\n",
      "7s - loss: 0.8565 - acc: 0.6406 - val_loss: 1.8470 - val_acc: 0.2828\n",
      "Epoch 3/300\n",
      "8s - loss: 0.8558 - acc: 0.6443 - val_loss: 1.8830 - val_acc: 0.2792\n",
      "Epoch 4/300\n",
      "7s - loss: 0.8578 - acc: 0.6410 - val_loss: 1.9108 - val_acc: 0.2765\n",
      "Epoch 5/300\n",
      "7s - loss: 0.8615 - acc: 0.6434 - val_loss: 1.8636 - val_acc: 0.2774\n",
      "Epoch 6/300\n",
      "7s - loss: 0.8436 - acc: 0.6496 - val_loss: 1.8704 - val_acc: 0.2783\n",
      "Epoch 7/300\n",
      "7s - loss: 0.8492 - acc: 0.6497 - val_loss: 1.8681 - val_acc: 0.2733\n",
      "Epoch 8/300\n",
      "7s - loss: 0.8578 - acc: 0.6459 - val_loss: 1.8697 - val_acc: 0.2801\n",
      "Epoch 9/300\n",
      "7s - loss: 0.8479 - acc: 0.6453 - val_loss: 1.8526 - val_acc: 0.2760\n",
      "Epoch 10/300\n",
      "7s - loss: 0.8459 - acc: 0.6486 - val_loss: 1.8848 - val_acc: 0.2810\n",
      "Epoch 11/300\n",
      "8s - loss: 0.8564 - acc: 0.6504 - val_loss: 1.8689 - val_acc: 0.2697\n",
      "Epoch 12/300\n",
      "7s - loss: 0.8373 - acc: 0.6554 - val_loss: 1.8930 - val_acc: 0.2796\n",
      "Epoch 13/300\n",
      "7s - loss: 0.8419 - acc: 0.6569 - val_loss: 1.8929 - val_acc: 0.2756\n",
      "Epoch 14/300\n",
      "7s - loss: 0.8493 - acc: 0.6550 - val_loss: 1.8852 - val_acc: 0.2760\n",
      "Epoch 15/300\n",
      "7s - loss: 0.8417 - acc: 0.6495 - val_loss: 1.9013 - val_acc: 0.2765\n",
      "Epoch 16/300\n",
      "7s - loss: 0.8370 - acc: 0.6604 - val_loss: 1.9409 - val_acc: 0.2719\n",
      "Epoch 17/300\n",
      "7s - loss: 0.8385 - acc: 0.6575 - val_loss: 1.9187 - val_acc: 0.2661\n",
      "Epoch 18/300\n",
      "7s - loss: 0.8320 - acc: 0.6618 - val_loss: 1.9039 - val_acc: 0.2733\n",
      "Epoch 19/300\n",
      "8s - loss: 0.8408 - acc: 0.6557 - val_loss: 1.9330 - val_acc: 0.2701\n",
      "Epoch 20/300\n",
      "7s - loss: 0.8252 - acc: 0.6657 - val_loss: 1.9300 - val_acc: 0.2710\n",
      "Epoch 21/300\n",
      "7s - loss: 0.8450 - acc: 0.6506 - val_loss: 1.9209 - val_acc: 0.2738\n",
      "Epoch 22/300\n",
      "7s - loss: 0.8162 - acc: 0.6663 - val_loss: 1.9368 - val_acc: 0.2751\n",
      "Epoch 23/300\n",
      "7s - loss: 0.8147 - acc: 0.6717 - val_loss: 1.9648 - val_acc: 0.2692\n",
      "Epoch 24/300\n",
      "7s - loss: 0.8300 - acc: 0.6630 - val_loss: 1.9241 - val_acc: 0.2751\n",
      "Epoch 25/300\n",
      "7s - loss: 0.8358 - acc: 0.6575 - val_loss: 1.9293 - val_acc: 0.2765\n",
      "Epoch 26/300\n",
      "7s - loss: 0.8257 - acc: 0.6666 - val_loss: 1.9328 - val_acc: 0.2747\n",
      "Epoch 27/300\n",
      "8s - loss: 0.8344 - acc: 0.6582 - val_loss: 1.9355 - val_acc: 0.2760\n",
      "Epoch 28/300\n",
      "7s - loss: 0.8105 - acc: 0.6722 - val_loss: 1.9492 - val_acc: 0.2647\n",
      "Epoch 29/300\n",
      "7s - loss: 0.8282 - acc: 0.6602 - val_loss: 1.9311 - val_acc: 0.2719\n",
      "Epoch 30/300\n",
      "7s - loss: 0.8261 - acc: 0.6653 - val_loss: 1.9240 - val_acc: 0.2733\n",
      "Epoch 31/300\n",
      "7s - loss: 0.8270 - acc: 0.6665 - val_loss: 1.9273 - val_acc: 0.2769\n",
      "Epoch 32/300\n",
      "7s - loss: 0.8220 - acc: 0.6629 - val_loss: 1.9353 - val_acc: 0.2801\n",
      "Epoch 33/300\n",
      "7s - loss: 0.8254 - acc: 0.6632 - val_loss: 1.9339 - val_acc: 0.2801\n",
      "Epoch 34/300\n",
      "7s - loss: 0.8221 - acc: 0.6660 - val_loss: 1.9720 - val_acc: 0.2833\n",
      "Epoch 35/300\n",
      "7s - loss: 0.8200 - acc: 0.6660 - val_loss: 1.9591 - val_acc: 0.2724\n",
      "Epoch 36/300\n",
      "7s - loss: 0.8129 - acc: 0.6681 - val_loss: 1.9710 - val_acc: 0.2778\n",
      "Epoch 37/300\n",
      "7s - loss: 0.8069 - acc: 0.6702 - val_loss: 1.9923 - val_acc: 0.2792\n",
      "Epoch 38/300\n",
      "7s - loss: 0.8178 - acc: 0.6672 - val_loss: 2.0045 - val_acc: 0.2747\n",
      "Epoch 39/300\n",
      "7s - loss: 0.8128 - acc: 0.6688 - val_loss: 1.9747 - val_acc: 0.2742\n",
      "Epoch 40/300\n",
      "7s - loss: 0.8112 - acc: 0.6743 - val_loss: 1.9756 - val_acc: 0.2742\n",
      "Epoch 41/300\n",
      "7s - loss: 0.8163 - acc: 0.6713 - val_loss: 1.9711 - val_acc: 0.2805\n",
      "Epoch 42/300\n",
      "7s - loss: 0.8306 - acc: 0.6609 - val_loss: 1.9645 - val_acc: 0.2751\n",
      "Epoch 43/300\n",
      "8s - loss: 0.8171 - acc: 0.6740 - val_loss: 1.9873 - val_acc: 0.2733\n",
      "Epoch 44/300\n",
      "7s - loss: 0.8123 - acc: 0.6689 - val_loss: 1.9557 - val_acc: 0.2805\n",
      "Epoch 45/300\n",
      "7s - loss: 0.8039 - acc: 0.6744 - val_loss: 1.9797 - val_acc: 0.2765\n",
      "Epoch 46/300\n",
      "7s - loss: 0.8113 - acc: 0.6705 - val_loss: 2.0075 - val_acc: 0.2783\n",
      "Epoch 47/300\n",
      "7s - loss: 0.8055 - acc: 0.6743 - val_loss: 1.9926 - val_acc: 0.2778\n",
      "Epoch 48/300\n",
      "7s - loss: 0.7968 - acc: 0.6781 - val_loss: 2.0009 - val_acc: 0.2783\n",
      "Epoch 49/300\n",
      "7s - loss: 0.8043 - acc: 0.6784 - val_loss: 1.9972 - val_acc: 0.2756\n",
      "Epoch 50/300\n",
      "7s - loss: 0.7910 - acc: 0.6783 - val_loss: 2.0376 - val_acc: 0.2814\n",
      "Epoch 51/300\n",
      "7s - loss: 0.8185 - acc: 0.6699 - val_loss: 1.9945 - val_acc: 0.2778\n",
      "Epoch 52/300\n",
      "7s - loss: 0.8031 - acc: 0.6736 - val_loss: 2.0289 - val_acc: 0.2765\n",
      "Epoch 53/300\n",
      "7s - loss: 0.8028 - acc: 0.6737 - val_loss: 2.0232 - val_acc: 0.2769\n",
      "Epoch 54/300\n",
      "7s - loss: 0.8003 - acc: 0.6826 - val_loss: 2.0004 - val_acc: 0.2719\n",
      "Epoch 55/300\n",
      "7s - loss: 0.8050 - acc: 0.6798 - val_loss: 2.0118 - val_acc: 0.2688\n",
      "Epoch 56/300\n",
      "7s - loss: 0.7939 - acc: 0.6841 - val_loss: 2.0306 - val_acc: 0.2719\n",
      "Epoch 57/300\n",
      "7s - loss: 0.7922 - acc: 0.6826 - val_loss: 2.0221 - val_acc: 0.2733\n",
      "Epoch 58/300\n",
      "8s - loss: 0.7970 - acc: 0.6820 - val_loss: 1.9997 - val_acc: 0.2706\n",
      "Epoch 59/300\n",
      "7s - loss: 0.7947 - acc: 0.6798 - val_loss: 2.0196 - val_acc: 0.2742\n",
      "Epoch 60/300\n",
      "7s - loss: 0.8111 - acc: 0.6735 - val_loss: 1.9911 - val_acc: 0.2760\n",
      "Epoch 61/300\n",
      "7s - loss: 0.8031 - acc: 0.6818 - val_loss: 2.0014 - val_acc: 0.2769\n",
      "Epoch 62/300\n",
      "7s - loss: 0.7907 - acc: 0.6832 - val_loss: 2.0422 - val_acc: 0.2701\n",
      "Epoch 63/300\n",
      "7s - loss: 0.7954 - acc: 0.6806 - val_loss: 2.0353 - val_acc: 0.2805\n",
      "Epoch 64/300\n",
      "7s - loss: 0.7939 - acc: 0.6830 - val_loss: 2.0403 - val_acc: 0.2855\n",
      "Epoch 65/300\n",
      "7s - loss: 0.7774 - acc: 0.6947 - val_loss: 2.0374 - val_acc: 0.2837\n",
      "Epoch 66/300\n",
      "7s - loss: 0.7945 - acc: 0.6813 - val_loss: 2.0399 - val_acc: 0.2760\n",
      "Epoch 67/300\n",
      "7s - loss: 0.8051 - acc: 0.6732 - val_loss: 2.0120 - val_acc: 0.2738\n",
      "Epoch 68/300\n",
      "7s - loss: 0.8009 - acc: 0.6847 - val_loss: 2.0419 - val_acc: 0.2733\n",
      "Epoch 69/300\n",
      "7s - loss: 0.7880 - acc: 0.6864 - val_loss: 2.0281 - val_acc: 0.2769\n",
      "Epoch 70/300\n",
      "7s - loss: 0.7878 - acc: 0.6870 - val_loss: 2.0661 - val_acc: 0.2833\n",
      "Epoch 71/300\n",
      "7s - loss: 0.7914 - acc: 0.6819 - val_loss: 2.0864 - val_acc: 0.2756\n",
      "Epoch 72/300\n",
      "7s - loss: 0.8064 - acc: 0.6770 - val_loss: 2.0431 - val_acc: 0.2710\n",
      "Epoch 73/300\n",
      "7s - loss: 0.7885 - acc: 0.6866 - val_loss: 2.0526 - val_acc: 0.2837\n",
      "Epoch 74/300\n",
      "8s - loss: 0.7873 - acc: 0.6848 - val_loss: 2.0630 - val_acc: 0.2846\n",
      "Epoch 75/300\n",
      "7s - loss: 0.7811 - acc: 0.6922 - val_loss: 2.0634 - val_acc: 0.2801\n",
      "Epoch 76/300\n",
      "7s - loss: 0.7920 - acc: 0.6841 - val_loss: 2.0730 - val_acc: 0.2783\n",
      "Epoch 77/300\n",
      "7s - loss: 0.7827 - acc: 0.6913 - val_loss: 2.0979 - val_acc: 0.2751\n",
      "Epoch 78/300\n",
      "7s - loss: 0.7856 - acc: 0.6882 - val_loss: 2.0813 - val_acc: 0.2774\n",
      "Epoch 79/300\n",
      "7s - loss: 0.7940 - acc: 0.6853 - val_loss: 2.0532 - val_acc: 0.2824\n",
      "Epoch 80/300\n",
      "7s - loss: 0.7843 - acc: 0.6856 - val_loss: 2.1015 - val_acc: 0.2774\n",
      "Epoch 81/300\n",
      "7s - loss: 0.7747 - acc: 0.6895 - val_loss: 2.0733 - val_acc: 0.2833\n",
      "Epoch 82/300\n",
      "7s - loss: 0.7826 - acc: 0.6864 - val_loss: 2.0811 - val_acc: 0.2778\n",
      "Epoch 83/300\n",
      "7s - loss: 0.7740 - acc: 0.6927 - val_loss: 2.0977 - val_acc: 0.2814\n",
      "Epoch 84/300\n",
      "7s - loss: 0.7828 - acc: 0.6926 - val_loss: 2.0737 - val_acc: 0.2810\n",
      "Epoch 85/300\n",
      "7s - loss: 0.7884 - acc: 0.6852 - val_loss: 2.0743 - val_acc: 0.2742\n",
      "Epoch 86/300\n",
      "7s - loss: 0.7822 - acc: 0.6895 - val_loss: 2.0712 - val_acc: 0.2824\n",
      "Epoch 87/300\n",
      "7s - loss: 0.7963 - acc: 0.6892 - val_loss: 2.0605 - val_acc: 0.2778\n",
      "Epoch 88/300\n",
      "7s - loss: 0.7841 - acc: 0.6891 - val_loss: 2.0739 - val_acc: 0.2756\n",
      "Epoch 89/300\n",
      "7s - loss: 0.7742 - acc: 0.6928 - val_loss: 2.1014 - val_acc: 0.2792\n",
      "Epoch 90/300\n",
      "9s - loss: 0.7943 - acc: 0.6806 - val_loss: 2.0774 - val_acc: 0.2747\n",
      "Epoch 91/300\n",
      "7s - loss: 0.7720 - acc: 0.6954 - val_loss: 2.1046 - val_acc: 0.2810\n",
      "Epoch 92/300\n",
      "7s - loss: 0.7940 - acc: 0.6839 - val_loss: 2.0876 - val_acc: 0.2738\n",
      "Epoch 93/300\n",
      "7s - loss: 0.7834 - acc: 0.6888 - val_loss: 2.0672 - val_acc: 0.2787\n",
      "Epoch 94/300\n",
      "7s - loss: 0.7809 - acc: 0.6896 - val_loss: 2.1074 - val_acc: 0.2873\n",
      "Epoch 95/300\n",
      "7s - loss: 0.7787 - acc: 0.6890 - val_loss: 2.0906 - val_acc: 0.2855\n",
      "Epoch 96/300\n",
      "7s - loss: 0.7837 - acc: 0.6907 - val_loss: 2.0934 - val_acc: 0.2783\n",
      "Epoch 97/300\n",
      "7s - loss: 0.7593 - acc: 0.6987 - val_loss: 2.0738 - val_acc: 0.2928\n",
      "Epoch 98/300\n",
      "7s - loss: 0.7763 - acc: 0.6893 - val_loss: 2.0886 - val_acc: 0.2864\n",
      "Epoch 99/300\n",
      "7s - loss: 0.7766 - acc: 0.6911 - val_loss: 2.0974 - val_acc: 0.2801\n",
      "Epoch 100/300\n",
      "7s - loss: 0.7765 - acc: 0.6939 - val_loss: 2.1305 - val_acc: 0.2738\n",
      "Epoch 101/300\n",
      "7s - loss: 0.7775 - acc: 0.6927 - val_loss: 2.1165 - val_acc: 0.2837\n",
      "Epoch 102/300\n",
      "7s - loss: 0.7685 - acc: 0.6950 - val_loss: 2.1080 - val_acc: 0.2796\n",
      "Epoch 103/300\n",
      "7s - loss: 0.7672 - acc: 0.7005 - val_loss: 2.1006 - val_acc: 0.2742\n",
      "Epoch 104/300\n",
      "7s - loss: 0.7585 - acc: 0.6965 - val_loss: 2.1614 - val_acc: 0.2747\n",
      "Epoch 105/300\n",
      "7s - loss: 0.7732 - acc: 0.6985 - val_loss: 2.1243 - val_acc: 0.2719\n",
      "Epoch 106/300\n",
      "8s - loss: 0.7726 - acc: 0.6963 - val_loss: 2.1289 - val_acc: 0.2810\n",
      "Epoch 107/300\n",
      "7s - loss: 0.7752 - acc: 0.6953 - val_loss: 2.1060 - val_acc: 0.2760\n",
      "Epoch 108/300\n",
      "7s - loss: 0.7677 - acc: 0.6907 - val_loss: 2.1378 - val_acc: 0.2697\n",
      "Epoch 109/300\n",
      "7s - loss: 0.7709 - acc: 0.6941 - val_loss: 2.1103 - val_acc: 0.2778\n",
      "Epoch 110/300\n",
      "7s - loss: 0.7652 - acc: 0.6960 - val_loss: 2.1457 - val_acc: 0.2765\n",
      "Epoch 111/300\n",
      "7s - loss: 0.7729 - acc: 0.6927 - val_loss: 2.1378 - val_acc: 0.2801\n",
      "Epoch 112/300\n",
      "7s - loss: 0.7654 - acc: 0.6941 - val_loss: 2.1884 - val_acc: 0.2774\n",
      "Epoch 113/300\n",
      "7s - loss: 0.7611 - acc: 0.7004 - val_loss: 2.1347 - val_acc: 0.2765\n",
      "Epoch 114/300\n",
      "7s - loss: 0.7625 - acc: 0.7007 - val_loss: 2.1561 - val_acc: 0.2801\n",
      "Epoch 115/300\n",
      "7s - loss: 0.7641 - acc: 0.6964 - val_loss: 2.1393 - val_acc: 0.2878\n",
      "Epoch 116/300\n",
      "8s - loss: 0.7578 - acc: 0.6986 - val_loss: 2.1536 - val_acc: 0.2792\n",
      "Epoch 117/300\n",
      "7s - loss: 0.7648 - acc: 0.6954 - val_loss: 2.1553 - val_acc: 0.2715\n",
      "Epoch 118/300\n",
      "7s - loss: 0.7552 - acc: 0.7017 - val_loss: 2.2175 - val_acc: 0.2656\n",
      "Epoch 119/300\n",
      "7s - loss: 0.7572 - acc: 0.7004 - val_loss: 2.2161 - val_acc: 0.2665\n",
      "Epoch 120/300\n",
      "7s - loss: 0.7539 - acc: 0.6991 - val_loss: 2.1916 - val_acc: 0.2774\n",
      "Epoch 121/300\n",
      "8s - loss: 0.7612 - acc: 0.7070 - val_loss: 2.1783 - val_acc: 0.2688\n",
      "Epoch 122/300\n",
      "7s - loss: 0.7651 - acc: 0.6992 - val_loss: 2.1743 - val_acc: 0.2778\n",
      "Epoch 123/300\n",
      "7s - loss: 0.7617 - acc: 0.7046 - val_loss: 2.1863 - val_acc: 0.2765\n",
      "Epoch 124/300\n",
      "7s - loss: 0.7693 - acc: 0.6996 - val_loss: 2.2086 - val_acc: 0.2643\n",
      "Epoch 125/300\n",
      "7s - loss: 0.7697 - acc: 0.6922 - val_loss: 2.1815 - val_acc: 0.2792\n",
      "Epoch 126/300\n",
      "7s - loss: 0.7540 - acc: 0.7021 - val_loss: 2.2138 - val_acc: 0.2701\n",
      "Epoch 127/300\n",
      "7s - loss: 0.7602 - acc: 0.7081 - val_loss: 2.1812 - val_acc: 0.2724\n",
      "Epoch 128/300\n",
      "7s - loss: 0.7526 - acc: 0.7053 - val_loss: 2.1881 - val_acc: 0.2747\n",
      "Epoch 129/300\n",
      "7s - loss: 0.7476 - acc: 0.7047 - val_loss: 2.1852 - val_acc: 0.2787\n",
      "Epoch 130/300\n",
      "7s - loss: 0.7525 - acc: 0.7079 - val_loss: 2.1859 - val_acc: 0.2719\n",
      "Epoch 131/300\n",
      "7s - loss: 0.7401 - acc: 0.7094 - val_loss: 2.2250 - val_acc: 0.2706\n",
      "Epoch 132/300\n",
      "7s - loss: 0.7650 - acc: 0.7044 - val_loss: 2.1863 - val_acc: 0.2729\n",
      "Epoch 133/300\n",
      "7s - loss: 0.7509 - acc: 0.7052 - val_loss: 2.2117 - val_acc: 0.2787\n",
      "Epoch 134/300\n",
      "7s - loss: 0.7630 - acc: 0.7004 - val_loss: 2.2106 - val_acc: 0.2656\n",
      "Epoch 135/300\n",
      "7s - loss: 0.7525 - acc: 0.7125 - val_loss: 2.2604 - val_acc: 0.2647\n",
      "Epoch 136/300\n",
      "7s - loss: 0.7489 - acc: 0.7008 - val_loss: 2.2571 - val_acc: 0.2701\n",
      "Epoch 137/300\n",
      "8s - loss: 0.7507 - acc: 0.7033 - val_loss: 2.2542 - val_acc: 0.2683\n",
      "Epoch 138/300\n",
      "7s - loss: 0.7413 - acc: 0.7098 - val_loss: 2.2318 - val_acc: 0.2733\n",
      "Epoch 139/300\n",
      "7s - loss: 0.7520 - acc: 0.7044 - val_loss: 2.2566 - val_acc: 0.2742\n",
      "Epoch 140/300\n",
      "7s - loss: 0.7647 - acc: 0.6991 - val_loss: 2.2350 - val_acc: 0.2760\n",
      "Epoch 141/300\n",
      "7s - loss: 0.7496 - acc: 0.7070 - val_loss: 2.2255 - val_acc: 0.2692\n",
      "Epoch 142/300\n",
      "7s - loss: 0.7366 - acc: 0.7150 - val_loss: 2.2641 - val_acc: 0.2747\n",
      "Epoch 143/300\n",
      "7s - loss: 0.7445 - acc: 0.7146 - val_loss: 2.3073 - val_acc: 0.2597\n",
      "Epoch 144/300\n",
      "7s - loss: 0.7470 - acc: 0.7116 - val_loss: 2.2790 - val_acc: 0.2724\n",
      "Epoch 145/300\n",
      "7s - loss: 0.7350 - acc: 0.7131 - val_loss: 2.2977 - val_acc: 0.2661\n",
      "Epoch 146/300\n",
      "7s - loss: 0.7432 - acc: 0.7117 - val_loss: 2.2675 - val_acc: 0.2710\n",
      "Epoch 147/300\n",
      "7s - loss: 0.7476 - acc: 0.7061 - val_loss: 2.3050 - val_acc: 0.2661\n",
      "Epoch 148/300\n",
      "7s - loss: 0.7485 - acc: 0.7129 - val_loss: 2.2517 - val_acc: 0.2652\n",
      "Epoch 149/300\n",
      "7s - loss: 0.7462 - acc: 0.7101 - val_loss: 2.2353 - val_acc: 0.2756\n",
      "Epoch 150/300\n",
      "7s - loss: 0.7420 - acc: 0.7136 - val_loss: 2.2641 - val_acc: 0.2661\n",
      "Epoch 151/300\n",
      "7s - loss: 0.7489 - acc: 0.7120 - val_loss: 2.2639 - val_acc: 0.2692\n",
      "Epoch 152/300\n",
      "7s - loss: 0.7383 - acc: 0.7176 - val_loss: 2.2580 - val_acc: 0.2706\n",
      "Epoch 153/300\n",
      "8s - loss: 0.7556 - acc: 0.7054 - val_loss: 2.2556 - val_acc: 0.2715\n",
      "Epoch 154/300\n",
      "7s - loss: 0.7497 - acc: 0.7133 - val_loss: 2.3205 - val_acc: 0.2606\n",
      "Epoch 155/300\n",
      "7s - loss: 0.7388 - acc: 0.7112 - val_loss: 2.2907 - val_acc: 0.2643\n",
      "Epoch 156/300\n",
      "7s - loss: 0.7432 - acc: 0.7064 - val_loss: 2.3055 - val_acc: 0.2633\n",
      "Epoch 157/300\n",
      "7s - loss: 0.7451 - acc: 0.7147 - val_loss: 2.2612 - val_acc: 0.2724\n",
      "Epoch 158/300\n",
      "7s - loss: 0.7545 - acc: 0.7038 - val_loss: 2.2641 - val_acc: 0.2719\n",
      "Epoch 159/300\n",
      "7s - loss: 0.7271 - acc: 0.7133 - val_loss: 2.2963 - val_acc: 0.2638\n",
      "Epoch 160/300\n",
      "7s - loss: 0.7424 - acc: 0.7116 - val_loss: 2.3030 - val_acc: 0.2647\n",
      "Epoch 161/300\n",
      "7s - loss: 0.7381 - acc: 0.7120 - val_loss: 2.3264 - val_acc: 0.2633\n",
      "Epoch 162/300\n",
      "7s - loss: 0.7456 - acc: 0.7137 - val_loss: 2.3215 - val_acc: 0.2643\n",
      "Epoch 163/300\n",
      "7s - loss: 0.7347 - acc: 0.7146 - val_loss: 2.3064 - val_acc: 0.2674\n",
      "Epoch 164/300\n",
      "7s - loss: 0.7488 - acc: 0.7126 - val_loss: 2.2848 - val_acc: 0.2552\n",
      "Epoch 165/300\n",
      "7s - loss: 0.7452 - acc: 0.7128 - val_loss: 2.3017 - val_acc: 0.2638\n",
      "Epoch 166/300\n",
      "7s - loss: 0.7330 - acc: 0.7175 - val_loss: 2.3085 - val_acc: 0.2611\n",
      "Epoch 167/300\n",
      "7s - loss: 0.7431 - acc: 0.7127 - val_loss: 2.2874 - val_acc: 0.2561\n",
      "Epoch 168/300\n",
      "7s - loss: 0.7363 - acc: 0.7126 - val_loss: 2.3000 - val_acc: 0.2579\n",
      "Epoch 169/300\n",
      "8s - loss: 0.7342 - acc: 0.7145 - val_loss: 2.2753 - val_acc: 0.2570\n",
      "Epoch 170/300\n",
      "7s - loss: 0.7197 - acc: 0.7165 - val_loss: 2.3321 - val_acc: 0.2584\n",
      "Epoch 171/300\n",
      "7s - loss: 0.7263 - acc: 0.7212 - val_loss: 2.3418 - val_acc: 0.2615\n",
      "Epoch 172/300\n",
      "7s - loss: 0.7436 - acc: 0.7078 - val_loss: 2.3174 - val_acc: 0.2615\n",
      "Epoch 173/300\n",
      "7s - loss: 0.7329 - acc: 0.7151 - val_loss: 2.3069 - val_acc: 0.2656\n",
      "Epoch 174/300\n",
      "7s - loss: 0.7373 - acc: 0.7155 - val_loss: 2.3158 - val_acc: 0.2602\n",
      "Epoch 175/300\n",
      "8s - loss: 0.7365 - acc: 0.7160 - val_loss: 2.2909 - val_acc: 0.2593\n",
      "Epoch 176/300\n",
      "7s - loss: 0.7478 - acc: 0.7115 - val_loss: 2.3226 - val_acc: 0.2602\n",
      "Epoch 177/300\n",
      "7s - loss: 0.7243 - acc: 0.7243 - val_loss: 2.3432 - val_acc: 0.2697\n",
      "Epoch 178/300\n",
      "7s - loss: 0.7325 - acc: 0.7146 - val_loss: 2.2845 - val_acc: 0.2688\n",
      "Epoch 179/300\n",
      "7s - loss: 0.7352 - acc: 0.7138 - val_loss: 2.3512 - val_acc: 0.2697\n",
      "Epoch 180/300\n",
      "7s - loss: 0.7237 - acc: 0.7195 - val_loss: 2.3743 - val_acc: 0.2647\n",
      "Epoch 181/300\n",
      "7s - loss: 0.7288 - acc: 0.7182 - val_loss: 2.3470 - val_acc: 0.2629\n",
      "Epoch 182/300\n",
      "7s - loss: 0.7368 - acc: 0.7139 - val_loss: 2.3556 - val_acc: 0.2629\n",
      "Epoch 183/300\n",
      "7s - loss: 0.7246 - acc: 0.7173 - val_loss: 2.3582 - val_acc: 0.2566\n",
      "Epoch 184/300\n",
      "7s - loss: 0.7140 - acc: 0.7210 - val_loss: 2.3784 - val_acc: 0.2647\n",
      "Epoch 185/300\n",
      "8s - loss: 0.7195 - acc: 0.7220 - val_loss: 2.3731 - val_acc: 0.2548\n",
      "Epoch 186/300\n",
      "7s - loss: 0.7374 - acc: 0.7132 - val_loss: 2.3157 - val_acc: 0.2516\n",
      "Epoch 187/300\n",
      "7s - loss: 0.7273 - acc: 0.7172 - val_loss: 2.3893 - val_acc: 0.2606\n",
      "Epoch 188/300\n",
      "7s - loss: 0.7301 - acc: 0.7199 - val_loss: 2.3561 - val_acc: 0.2507\n",
      "Epoch 189/300\n",
      "7s - loss: 0.7174 - acc: 0.7242 - val_loss: 2.3463 - val_acc: 0.2656\n",
      "Epoch 190/300\n",
      "7s - loss: 0.7338 - acc: 0.7104 - val_loss: 2.3430 - val_acc: 0.2480\n",
      "Epoch 191/300\n",
      "7s - loss: 0.7357 - acc: 0.7128 - val_loss: 2.3656 - val_acc: 0.2557\n",
      "Epoch 192/300\n",
      "7s - loss: 0.7165 - acc: 0.7241 - val_loss: 2.3646 - val_acc: 0.2561\n",
      "Epoch 193/300\n",
      "7s - loss: 0.7215 - acc: 0.7191 - val_loss: 2.3528 - val_acc: 0.2624\n",
      "Epoch 194/300\n",
      "7s - loss: 0.7199 - acc: 0.7196 - val_loss: 2.4137 - val_acc: 0.2538\n",
      "Epoch 195/300\n",
      "7s - loss: 0.7222 - acc: 0.7215 - val_loss: 2.3586 - val_acc: 0.2683\n",
      "Epoch 196/300\n",
      "7s - loss: 0.7016 - acc: 0.7266 - val_loss: 2.3745 - val_acc: 0.2652\n",
      "Epoch 197/300\n",
      "7s - loss: 0.7155 - acc: 0.7248 - val_loss: 2.3637 - val_acc: 0.2548\n",
      "Epoch 198/300\n",
      "7s - loss: 0.7018 - acc: 0.7264 - val_loss: 2.3564 - val_acc: 0.2602\n",
      "Epoch 199/300\n",
      "7s - loss: 0.6999 - acc: 0.7335 - val_loss: 2.3563 - val_acc: 0.2656\n",
      "Epoch 200/300\n",
      "7s - loss: 0.7145 - acc: 0.7203 - val_loss: 2.3921 - val_acc: 0.2561\n",
      "Epoch 201/300\n",
      "8s - loss: 0.7114 - acc: 0.7232 - val_loss: 2.3972 - val_acc: 0.2557\n",
      "Epoch 202/300\n",
      "7s - loss: 0.7245 - acc: 0.7171 - val_loss: 2.3586 - val_acc: 0.2638\n",
      "Epoch 203/300\n",
      "7s - loss: 0.7013 - acc: 0.7287 - val_loss: 2.3821 - val_acc: 0.2593\n",
      "Epoch 204/300\n",
      "7s - loss: 0.7198 - acc: 0.7223 - val_loss: 2.3989 - val_acc: 0.2538\n",
      "Epoch 205/300\n",
      "7s - loss: 0.7043 - acc: 0.7283 - val_loss: 2.4333 - val_acc: 0.2493\n",
      "Epoch 206/300\n",
      "7s - loss: 0.7116 - acc: 0.7317 - val_loss: 2.3740 - val_acc: 0.2570\n",
      "Epoch 207/300\n",
      "7s - loss: 0.7130 - acc: 0.7238 - val_loss: 2.3497 - val_acc: 0.2615\n",
      "Epoch 208/300\n",
      "7s - loss: 0.7097 - acc: 0.7279 - val_loss: 2.3550 - val_acc: 0.2588\n",
      "Epoch 209/300\n",
      "7s - loss: 0.7132 - acc: 0.7235 - val_loss: 2.3777 - val_acc: 0.2575\n",
      "Epoch 210/300\n",
      "7s - loss: 0.7095 - acc: 0.7242 - val_loss: 2.3920 - val_acc: 0.2548\n",
      "Epoch 211/300\n",
      "7s - loss: 0.7162 - acc: 0.7252 - val_loss: 2.3616 - val_acc: 0.2606\n",
      "Epoch 212/300\n",
      "7s - loss: 0.7195 - acc: 0.7250 - val_loss: 2.3850 - val_acc: 0.2502\n",
      "Epoch 213/300\n",
      "7s - loss: 0.7236 - acc: 0.7240 - val_loss: 2.3726 - val_acc: 0.2557\n",
      "Epoch 214/300\n",
      "7s - loss: 0.7246 - acc: 0.7230 - val_loss: 2.3877 - val_acc: 0.2534\n",
      "Epoch 215/300\n",
      "7s - loss: 0.7192 - acc: 0.7200 - val_loss: 2.3983 - val_acc: 0.2534\n",
      "Epoch 216/300\n",
      "7s - loss: 0.7233 - acc: 0.7237 - val_loss: 2.3453 - val_acc: 0.2584\n",
      "Epoch 217/300\n",
      "7s - loss: 0.7175 - acc: 0.7200 - val_loss: 2.4070 - val_acc: 0.2579\n",
      "Epoch 218/300\n",
      "7s - loss: 0.7213 - acc: 0.7202 - val_loss: 2.3625 - val_acc: 0.2606\n",
      "Epoch 219/300\n",
      "7s - loss: 0.7166 - acc: 0.7211 - val_loss: 2.3967 - val_acc: 0.2566\n",
      "Epoch 220/300\n",
      "7s - loss: 0.7075 - acc: 0.7302 - val_loss: 2.3874 - val_acc: 0.2525\n",
      "Epoch 221/300\n",
      "7s - loss: 0.7130 - acc: 0.7245 - val_loss: 2.3887 - val_acc: 0.2529\n",
      "Epoch 222/300\n",
      "7s - loss: 0.7038 - acc: 0.7316 - val_loss: 2.3712 - val_acc: 0.2611\n",
      "Epoch 223/300\n",
      "7s - loss: 0.7222 - acc: 0.7243 - val_loss: 2.3682 - val_acc: 0.2538\n",
      "Epoch 224/300\n",
      "7s - loss: 0.7088 - acc: 0.7283 - val_loss: 2.4045 - val_acc: 0.2588\n",
      "Epoch 225/300\n",
      "7s - loss: 0.7034 - acc: 0.7260 - val_loss: 2.3801 - val_acc: 0.2579\n",
      "Epoch 226/300\n",
      "7s - loss: 0.7154 - acc: 0.7208 - val_loss: 2.3851 - val_acc: 0.2548\n",
      "Epoch 227/300\n",
      "7s - loss: 0.7110 - acc: 0.7269 - val_loss: 2.4172 - val_acc: 0.2570\n",
      "Epoch 228/300\n",
      "7s - loss: 0.6981 - acc: 0.7331 - val_loss: 2.4394 - val_acc: 0.2561\n",
      "Epoch 229/300\n",
      "7s - loss: 0.7026 - acc: 0.7299 - val_loss: 2.4009 - val_acc: 0.2665\n",
      "Epoch 230/300\n",
      "7s - loss: 0.7129 - acc: 0.7230 - val_loss: 2.3619 - val_acc: 0.2579\n",
      "Epoch 231/300\n",
      "7s - loss: 0.6979 - acc: 0.7301 - val_loss: 2.4242 - val_acc: 0.2579\n",
      "Epoch 232/300\n",
      "8s - loss: 0.7070 - acc: 0.7304 - val_loss: 2.3996 - val_acc: 0.2615\n",
      "Epoch 233/300\n",
      "7s - loss: 0.6947 - acc: 0.7336 - val_loss: 2.3845 - val_acc: 0.2570\n",
      "Epoch 234/300\n",
      "7s - loss: 0.6993 - acc: 0.7286 - val_loss: 2.3932 - val_acc: 0.2579\n",
      "Epoch 235/300\n",
      "7s - loss: 0.6985 - acc: 0.7332 - val_loss: 2.4230 - val_acc: 0.2575\n",
      "Epoch 236/300\n",
      "7s - loss: 0.7002 - acc: 0.7266 - val_loss: 2.4185 - val_acc: 0.2529\n",
      "Epoch 237/300\n",
      "7s - loss: 0.6937 - acc: 0.7363 - val_loss: 2.4262 - val_acc: 0.2566\n",
      "Epoch 238/300\n",
      "7s - loss: 0.7030 - acc: 0.7280 - val_loss: 2.4024 - val_acc: 0.2688\n",
      "Epoch 239/300\n",
      "7s - loss: 0.6899 - acc: 0.7358 - val_loss: 2.3799 - val_acc: 0.2525\n",
      "Epoch 240/300\n",
      "7s - loss: 0.6859 - acc: 0.7370 - val_loss: 2.4482 - val_acc: 0.2529\n",
      "Epoch 241/300\n",
      "7s - loss: 0.7132 - acc: 0.7241 - val_loss: 2.3955 - val_acc: 0.2538\n",
      "Epoch 242/300\n",
      "7s - loss: 0.7053 - acc: 0.7281 - val_loss: 2.3923 - val_acc: 0.2552\n",
      "Epoch 243/300\n",
      "7s - loss: 0.7009 - acc: 0.7345 - val_loss: 2.3704 - val_acc: 0.2611\n",
      "Epoch 244/300\n",
      "7s - loss: 0.7019 - acc: 0.7296 - val_loss: 2.3871 - val_acc: 0.2656\n",
      "Epoch 245/300\n",
      "7s - loss: 0.6885 - acc: 0.7369 - val_loss: 2.4120 - val_acc: 0.2538\n",
      "Epoch 246/300\n",
      "7s - loss: 0.6979 - acc: 0.7293 - val_loss: 2.3979 - val_acc: 0.2566\n",
      "Epoch 247/300\n",
      "7s - loss: 0.6945 - acc: 0.7354 - val_loss: 2.4209 - val_acc: 0.2620\n",
      "Epoch 248/300\n",
      "8s - loss: 0.6837 - acc: 0.7349 - val_loss: 2.4440 - val_acc: 0.2597\n",
      "Epoch 249/300\n",
      "7s - loss: 0.6913 - acc: 0.7339 - val_loss: 2.3977 - val_acc: 0.2620\n",
      "Epoch 250/300\n",
      "7s - loss: 0.6936 - acc: 0.7263 - val_loss: 2.4164 - val_acc: 0.2602\n",
      "Epoch 251/300\n",
      "7s - loss: 0.6997 - acc: 0.7343 - val_loss: 2.4319 - val_acc: 0.2593\n",
      "Epoch 252/300\n",
      "7s - loss: 0.6913 - acc: 0.7369 - val_loss: 2.3883 - val_acc: 0.2683\n",
      "Epoch 253/300\n",
      "7s - loss: 0.7005 - acc: 0.7313 - val_loss: 2.4295 - val_acc: 0.2570\n",
      "Epoch 254/300\n",
      "8s - loss: 0.6986 - acc: 0.7333 - val_loss: 2.3822 - val_acc: 0.2538\n",
      "Epoch 255/300\n",
      "8s - loss: 0.6985 - acc: 0.7291 - val_loss: 2.4221 - val_acc: 0.2552\n",
      "Epoch 256/300\n",
      "13s - loss: 0.6914 - acc: 0.7343 - val_loss: 2.4188 - val_acc: 0.2579\n",
      "Epoch 257/300\n",
      "10s - loss: 0.6915 - acc: 0.7406 - val_loss: 2.4160 - val_acc: 0.2579\n",
      "Epoch 258/300\n",
      "9s - loss: 0.6765 - acc: 0.7400 - val_loss: 2.4633 - val_acc: 0.2593\n",
      "Epoch 259/300\n",
      "8s - loss: 0.6911 - acc: 0.7347 - val_loss: 2.4561 - val_acc: 0.2588\n",
      "Epoch 260/300\n",
      "8s - loss: 0.6874 - acc: 0.7385 - val_loss: 2.4517 - val_acc: 0.2520\n",
      "Epoch 261/300\n",
      "7s - loss: 0.6859 - acc: 0.7359 - val_loss: 2.4124 - val_acc: 0.2584\n",
      "Epoch 262/300\n",
      "8s - loss: 0.7003 - acc: 0.7319 - val_loss: 2.3803 - val_acc: 0.2557\n",
      "Epoch 263/300\n",
      "8s - loss: 0.7050 - acc: 0.7308 - val_loss: 2.4014 - val_acc: 0.2588\n",
      "Epoch 264/300\n",
      "9s - loss: 0.6988 - acc: 0.7317 - val_loss: 2.4481 - val_acc: 0.2670\n",
      "Epoch 265/300\n",
      "11s - loss: 0.6927 - acc: 0.7350 - val_loss: 2.4174 - val_acc: 0.2611\n",
      "Epoch 266/300\n",
      "9s - loss: 0.6936 - acc: 0.7350 - val_loss: 2.3951 - val_acc: 0.2652\n",
      "Epoch 267/300\n",
      "8s - loss: 0.6975 - acc: 0.7333 - val_loss: 2.4163 - val_acc: 0.2575\n",
      "Epoch 268/300\n",
      "9s - loss: 0.6974 - acc: 0.7256 - val_loss: 2.3959 - val_acc: 0.2588\n",
      "Epoch 269/300\n",
      "8s - loss: 0.6820 - acc: 0.7413 - val_loss: 2.4752 - val_acc: 0.2615\n",
      "Epoch 270/300\n",
      "8s - loss: 0.6982 - acc: 0.7315 - val_loss: 2.4224 - val_acc: 0.2606\n",
      "Epoch 271/300\n",
      "8s - loss: 0.6960 - acc: 0.7308 - val_loss: 2.4557 - val_acc: 0.2570\n",
      "Epoch 272/300\n",
      "8s - loss: 0.7097 - acc: 0.7319 - val_loss: 2.4349 - val_acc: 0.2511\n",
      "Epoch 273/300\n",
      "8s - loss: 0.6975 - acc: 0.7320 - val_loss: 2.4148 - val_acc: 0.2561\n",
      "Epoch 274/300\n",
      "7s - loss: 0.6809 - acc: 0.7374 - val_loss: 2.4139 - val_acc: 0.2557\n",
      "Epoch 275/300\n",
      "7s - loss: 0.6788 - acc: 0.7397 - val_loss: 2.4720 - val_acc: 0.2643\n",
      "Epoch 276/300\n",
      "8s - loss: 0.6793 - acc: 0.7400 - val_loss: 2.5130 - val_acc: 0.2543\n",
      "Epoch 277/300\n",
      "7s - loss: 0.6890 - acc: 0.7365 - val_loss: 2.4592 - val_acc: 0.2534\n",
      "Epoch 278/300\n",
      "7s - loss: 0.6865 - acc: 0.7380 - val_loss: 2.4310 - val_acc: 0.2561\n",
      "Epoch 279/300\n",
      "7s - loss: 0.6825 - acc: 0.7430 - val_loss: 2.4699 - val_acc: 0.2520\n",
      "Epoch 280/300\n",
      "7s - loss: 0.6949 - acc: 0.7353 - val_loss: 2.4682 - val_acc: 0.2493\n",
      "Epoch 281/300\n",
      "7s - loss: 0.6900 - acc: 0.7335 - val_loss: 2.4321 - val_acc: 0.2498\n",
      "Epoch 282/300\n",
      "7s - loss: 0.6799 - acc: 0.7440 - val_loss: 2.4144 - val_acc: 0.2520\n",
      "Epoch 283/300\n",
      "7s - loss: 0.6874 - acc: 0.7399 - val_loss: 2.4822 - val_acc: 0.2466\n",
      "Epoch 284/300\n",
      "8s - loss: 0.6931 - acc: 0.7360 - val_loss: 2.4402 - val_acc: 0.2615\n",
      "Epoch 285/300\n",
      "7s - loss: 0.6885 - acc: 0.7379 - val_loss: 2.4105 - val_acc: 0.2484\n",
      "Epoch 286/300\n",
      "7s - loss: 0.6886 - acc: 0.7348 - val_loss: 2.4738 - val_acc: 0.2520\n",
      "Epoch 287/300\n",
      "7s - loss: 0.6846 - acc: 0.7407 - val_loss: 2.4702 - val_acc: 0.2529\n",
      "Epoch 288/300\n",
      "7s - loss: 0.6863 - acc: 0.7395 - val_loss: 2.4813 - val_acc: 0.2584\n",
      "Epoch 289/300\n",
      "7s - loss: 0.6798 - acc: 0.7424 - val_loss: 2.4837 - val_acc: 0.2534\n",
      "Epoch 290/300\n",
      "7s - loss: 0.6929 - acc: 0.7340 - val_loss: 2.4678 - val_acc: 0.2570\n",
      "Epoch 291/300\n",
      "7s - loss: 0.6789 - acc: 0.7416 - val_loss: 2.4655 - val_acc: 0.2489\n",
      "Epoch 292/300\n",
      "8s - loss: 0.6858 - acc: 0.7390 - val_loss: 2.4381 - val_acc: 0.2516\n",
      "Epoch 293/300\n",
      "7s - loss: 0.6867 - acc: 0.7343 - val_loss: 2.3964 - val_acc: 0.2602\n",
      "Epoch 294/300\n",
      "7s - loss: 0.6852 - acc: 0.7400 - val_loss: 2.4659 - val_acc: 0.2534\n",
      "Epoch 295/300\n",
      "7s - loss: 0.6778 - acc: 0.7399 - val_loss: 2.4632 - val_acc: 0.2529\n",
      "Epoch 296/300\n",
      "7s - loss: 0.6648 - acc: 0.7447 - val_loss: 2.4737 - val_acc: 0.2579\n",
      "Epoch 297/300\n",
      "7s - loss: 0.6839 - acc: 0.7429 - val_loss: 2.4312 - val_acc: 0.2633\n",
      "Epoch 298/300\n",
      "7s - loss: 0.6983 - acc: 0.7300 - val_loss: 2.4223 - val_acc: 0.2557\n",
      "Epoch 299/300\n",
      "7s - loss: 0.6764 - acc: 0.7430 - val_loss: 2.4839 - val_acc: 0.2570\n",
      "Epoch 300/300\n",
      "7s - loss: 0.6759 - acc: 0.7482 - val_loss: 2.4798 - val_acc: 0.2584\n"
     ]
    }
   ],
   "source": [
    "res = model.fit(x_train, y_train,\n",
    "          batch_size = batch_size,\n",
    "          epochs=300,\n",
    "          validation_data=(x_test, y_test), verbose=2)"
   ]
  },
  {
   "cell_type": "markdown",
   "metadata": {
    "deletable": true,
    "editable": true
   },
   "source": [
    "### Save the model (marking as continued)"
   ]
  },
  {
   "cell_type": "code",
   "execution_count": 24,
   "metadata": {
    "collapsed": false,
    "deletable": true,
    "editable": true
   },
   "outputs": [],
   "source": [
    "date = str(datetime.date.today() )\n",
    "time = str(datetime.datetime.now().time())[:-7]\n",
    "\n",
    "filename = '/home/shikhar/Datasets/Models/' + model_type + '_continued_' + date + '_' +time;\n",
    "with open( filename, 'wb') as output:\n",
    "    pickle.dump([model.get_config(), model.get_weights(), model.history.history], output, pickle.HIGHEST_PROTOCOL)"
   ]
  },
  {
   "cell_type": "code",
   "execution_count": 23,
   "metadata": {
    "collapsed": false,
    "deletable": true,
    "editable": true
   },
   "outputs": [
    {
     "data": {
      "text/plain": [
       "256"
      ]
     },
     "execution_count": 23,
     "metadata": {},
     "output_type": "execute_result"
    }
   ],
   "source": [
    "import os\n",
    "os.system('say done')"
   ]
  },
  {
   "cell_type": "code",
   "execution_count": 24,
   "metadata": {
    "collapsed": true,
    "deletable": true,
    "editable": true
   },
   "outputs": [],
   "source": [
    "files = [\n",
    "    'CNN-rand_continued_2017-04-02_19:26:35',\n",
    "    'CNN-rand_continued_2017-04-03_16:50:47',\n",
    "    'CNN-rand_continued_2017-04-03_17:18:47'\n",
    "]"
   ]
  },
  {
   "cell_type": "code",
   "execution_count": 25,
   "metadata": {
    "collapsed": false,
    "deletable": true,
    "editable": true
   },
   "outputs": [],
   "source": [
    "train_acc, train_loss, val_acc, val_loss = [],[],[],[]\n",
    "\n",
    "for file in files:\n",
    "    filename = '/home/shikhar/Datasets/Models/'  + file\n",
    "    with open( filename, 'rb') as input:\n",
    "        out = pickle.load(input)\n",
    "    train_acc += out[2]['acc']\n",
    "    train_loss += out[2]['loss']\n",
    "    val_acc += out[2]['val_acc']\n",
    "    val_loss += out[2]['val_loss']"
   ]
  },
  {
   "cell_type": "code",
   "execution_count": 35,
   "metadata": {
    "collapsed": false,
    "deletable": true,
    "editable": true,
    "scrolled": true
   },
   "outputs": [
    {
     "data": {
      "image/png": "[encoded data removed]",
      "text/plain": [
       "<matplotlib.figure.Figure at 0x7f9ad4f0c278>"
      ]
     },
     "metadata": {},
     "output_type": "display_data"
    }
   ],
   "source": [
    "import matplotlib.pyplot as plt\n",
    "plt.style.use('ggplot')\n",
    "plt.rcParams[\"figure.figsize\"] = (10,6)\n",
    "plt.plot(train_acc)\n",
    "plt.plot(train_loss)\n",
    "plt.plot(val_acc)\n",
    "# plt.plot(val_loss)\n",
    "plt.legend(['Train acc','Train loss','Valid acc', 'Valid loss'], loc=2)\n",
    "plt.xlabel('Epochs')\n",
    "plt.ylabel('Loss/Accuracy')\n",
    "plt.title('Using '+ model_type)\n",
    "date = str(datetime.date.today() )\n",
    "time = str(datetime.datetime.now().time())[:-7]\n",
    "imgName = 'Images/' + model_type + '_' + date + '_' + time + '.jpg'\n",
    "plt.savefig( imgName, dpi= 200, bbox_inches='tight', transparent=False)\n",
    "plt.show()"
   ]
  }
 ],
 "metadata": {
  "kernelspec": {
   "display_name": "Python 3",
   "language": "python",
   "name": "python3"
  },
  "language_info": {
   "codemirror_mode": {
    "name": "ipython",
    "version": 3
   },
   "file_extension": ".py",
   "mimetype": "text/x-python",
   "name": "python",
   "nbconvert_exporter": "python",
   "pygments_lexer": "ipython3",
   "version": "3.5.2"
  }
 },
 "nbformat": 4,
 "nbformat_minor": 2
}
