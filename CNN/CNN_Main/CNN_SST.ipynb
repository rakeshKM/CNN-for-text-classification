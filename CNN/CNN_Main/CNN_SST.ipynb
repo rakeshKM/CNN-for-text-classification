{
 "cells": [
  {
   "cell_type": "code",
   "execution_count": 43,
   "metadata": {
    "collapsed": false,
    "deletable": true,
    "editable": true
   },
   "outputs": [],
   "source": [
    "import keras\n",
    "from keras.datasets import mnist\n",
    "from keras.models import Model, Sequential\n",
    "from keras.layers import Input, Dense, Dropout, Flatten, Embedding\n",
    "from keras.layers import Conv1D, MaxPooling1D\n",
    "from keras.layers.merge import Concatenate\n",
    "from keras import backend as K\n",
    "from w2v import train_word2vec \n",
    "import numpy as np\n",
    "import difflib\n",
    "import matplotlib.pyplot as plt"
   ]
  },
  {
   "cell_type": "markdown",
   "metadata": {
    "deletable": true,
    "editable": true
   },
   "source": [
    "# Data Loading and Preprocessing"
   ]
  },
  {
   "cell_type": "markdown",
   "metadata": {},
   "source": [
    "### Phrase -> index"
   ]
  },
  {
   "cell_type": "code",
   "execution_count": 42,
   "metadata": {
    "collapsed": false,
    "deletable": true,
    "editable": true
   },
   "outputs": [
    {
     "name": "stdout",
     "output_type": "stream",
     "text": [
      "239232 14058\n"
     ]
    }
   ],
   "source": [
    "# Read dictionary\n",
    "phr_to_ind = dict()\n",
    "\n",
    "with open('../../Datasets/SST1_dataset/dictionary.txt') as f:\n",
    "    for line in f:\n",
    "        entry = line.split('|')\n",
    "        phr_to_ind[entry[0]] = int(entry[1])\n",
    "\n",
    "print(len(phr_to_ind), phr_to_ind['Good'])\n",
    "\n",
    "vocabulary_inv = dict((v, k) for k, v in phr_to_ind.items())\n",
    "vocabulary_inv[0] = \"<PAD/>\"\n",
    "\n",
    "keys = phr_to_ind.keys();"
   ]
  },
  {
   "cell_type": "markdown",
   "metadata": {},
   "source": [
    "### Getting Index corresponding to sentences"
   ]
  },
  {
   "cell_type": "code",
   "execution_count": 50,
   "metadata": {
    "collapsed": false,
    "deletable": true,
    "editable": true
   },
   "outputs": [
    {
     "name": "stdout",
     "output_type": "stream",
     "text": [
      "......................11855\n"
     ]
    }
   ],
   "source": [
    "# Loading data sentences\n",
    "sentence_list = []\n",
    "sentiment = []\n",
    "\n",
    "with open('../../Datasets/SST1_dataset/datasetSentences.txt') as f:\n",
    "    f.readline()\n",
    "    for line in f:\n",
    "        entry = line.split('\\t')\n",
    "        sent = entry[1][:-1]\n",
    "        sent = sent.replace('Ã©', 'é')\n",
    "        sent = sent.replace('Ã­', 'í')\n",
    "        sent = sent.replace('-LRB-', '(')\n",
    "        sent = sent.replace('-RRB-', ')')\n",
    "        sent = sent.replace('Ã¼', 'ü')\n",
    "        sent = sent.replace('Ã³', 'ó') \n",
    "        sent = sent.replace('Ã¡', 'á')\n",
    "        sent = sent.replace('Ã¦', 'æ')\n",
    "        sent = sent.replace('Ã¦', 'æ')\n",
    "    \n",
    "        if sent in phr_to_ind.keys():\n",
    "            sentiment.append(phr_to_ind[sent])\n",
    "        else:\n",
    "            print('.', end=\"\")\n",
    "            keys_subset = [k for k in keys if (k[0] == sent[0])]\n",
    "            key = difflib.get_close_matches(sent, keys_subset, n=1);\n",
    "            sent = key[0]\n",
    "            sentiment.append(phr_to_ind[sent])\n",
    "            \n",
    "        sentence_list.append(sent)\n",
    "        \n",
    "print(len(sentence_list))"
   ]
  },
  {
   "cell_type": "markdown",
   "metadata": {
    "deletable": true,
    "editable": true
   },
   "source": [
    "### Phrase Index -> Sentiment"
   ]
  },
  {
   "cell_type": "code",
   "execution_count": 58,
   "metadata": {
    "collapsed": false,
    "deletable": true,
    "editable": true
   },
   "outputs": [
    {
     "name": "stdout",
     "output_type": "stream",
     "text": [
      "239232\n"
     ]
    }
   ],
   "source": [
    "ind_to_senti = dict()\n",
    "\n",
    "with open('../../Datasets/SST1_dataset/sentiment_labels.txt') as f:\n",
    "    f.readline()\n",
    "    for line in f:\n",
    "        entry = line.split('|')\n",
    "        ind_to_senti[int(entry[0])] = float(entry[1])\n",
    "\n",
    "print(len(ind_to_senti))"
   ]
  },
  {
   "cell_type": "markdown",
   "metadata": {},
   "source": [
    "### Assigning label to sentences"
   ]
  },
  {
   "cell_type": "code",
   "execution_count": 62,
   "metadata": {
    "collapsed": false
   },
   "outputs": [
    {
     "name": "stdout",
     "output_type": "stream",
     "text": [
      "1510 3140 2242 4963\n"
     ]
    }
   ],
   "source": [
    "N_sent = len(sentence_list);\n",
    "y_label = np.zeros((N_sent,), np.uint8)\n",
    "\n",
    "counter = 0\n",
    "for ind in sentiment:\n",
    "    val = ind_to_senti[ind]\n",
    "    if val >= 0.0 and val <= 0.2:\n",
    "        y_label[counter] = 0;\n",
    "    elif val > 0.2 and val <= 0.4:\n",
    "        y_label[counter] = 1\n",
    "    elif val > 0.4 and val <= 0.6:\n",
    "        y_label[counter] = 2\n",
    "    else:\n",
    "        y_label[counter] = 3\n",
    "    counter += 1\n",
    "\n",
    "print(np.sum(y_label == 0), np.sum(y_label == 1), np.sum(y_label == 2), np.sum(y_label == 3))"
   ]
  },
  {
   "cell_type": "markdown",
   "metadata": {},
   "source": [
    "### Loading train, test and valid split info"
   ]
  },
  {
   "cell_type": "code",
   "execution_count": 5,
   "metadata": {
    "collapsed": false,
    "deletable": true,
    "editable": true
   },
   "outputs": [
    {
     "name": "stdout",
     "output_type": "stream",
     "text": [
      "11855\n"
     ]
    }
   ],
   "source": [
    "# Loading data split information\n",
    "\n",
    "split_ind = []\n",
    "with open('../../Datasets/SST1_dataset/datasetSplit.txt') as f:\n",
    "    f.readline()\n",
    "    for line in f:\n",
    "        entry = line.split(',')\n",
    "        split_ind.append(int(entry[1]))\n",
    "\n",
    "print(len(split_ind))\n",
    "\n",
    "N_train = split_ind.count(1)\n",
    "N_test = split_ind.count(2)\n",
    "N_valid = split_ind.count(3)\n",
    "print (N_train, N_test, N_valid)"
   ]
  },
  {
   "cell_type": "code",
   "execution_count": 42,
   "metadata": {
    "collapsed": false,
    "deletable": true,
    "editable": true
   },
   "outputs": [],
   "source": [
    "x_train = np.zeros((N_train, max_sent_len), np.uint16)\n",
    "x_test = np.zeros((N_test, max_sent_len), np.uint16)\n",
    "x_valid = np.zeros((N_valid, max_sent_len), np.uint16)\n",
    "\n",
    "c1, c2, c3 = 0,0,0\n",
    "for i in range(len(x_all)):\n",
    "    vec = x_all[i]\n",
    "    if split_ind[i] == 1:\n",
    "        x_train[c1,0:len(vec)] = np.uint16(vec)\n",
    "        c1 += 1\n",
    "    elif split_ind[i] == 2:\n",
    "        x_test[c2,0:len(vec)] = np.uint16(vec)\n",
    "        c2 += 1\n",
    "    else:\n",
    "        x_valid[c3,0:len(vec)] = np.uint16(vec)\n",
    "        c3 += 1"
   ]
  },
  {
   "cell_type": "markdown",
   "metadata": {
    "deletable": true,
    "editable": true
   },
   "source": [
    "# Training model "
   ]
  },
  {
   "cell_type": "code",
   "execution_count": 49,
   "metadata": {
    "collapsed": false,
    "deletable": true,
    "editable": true
   },
   "outputs": [
    {
     "name": "stdout",
     "output_type": "stream",
     "text": [
      "Model type is CNN-static\n",
      "Load existing Word2Vec model '300features_1minwords_10context'\n"
     ]
    },
    {
     "ename": "IndexError",
     "evalue": "arrays used as indices must be of integer (or boolean) type",
     "output_type": "error",
     "traceback": [
      "\u001b[0;31m---------------------------------------------------------------------------\u001b[0m",
      "\u001b[0;31mIndexError\u001b[0m                                Traceback (most recent call last)",
      "\u001b[0;32m<ipython-input-49-a765ccfa7681>\u001b[0m in \u001b[0;36m<module>\u001b[0;34m()\u001b[0m\n\u001b[1;32m      9\u001b[0m                                        min_word_count=min_word_count, context=context)\n\u001b[1;32m     10\u001b[0m     \u001b[0;32mif\u001b[0m \u001b[0mmodel_type\u001b[0m \u001b[0;34m==\u001b[0m \u001b[0;34m\"CNN-static\"\u001b[0m\u001b[0;34m:\u001b[0m\u001b[0;34m\u001b[0m\u001b[0m\n\u001b[0;32m---> 11\u001b[0;31m         \u001b[0mx_train\u001b[0m \u001b[0;34m=\u001b[0m \u001b[0membedding_weights\u001b[0m\u001b[0;34m[\u001b[0m\u001b[0;36m0\u001b[0m\u001b[0;34m]\u001b[0m\u001b[0;34m[\u001b[0m\u001b[0mx_train\u001b[0m\u001b[0;34m]\u001b[0m\u001b[0;34m\u001b[0m\u001b[0m\n\u001b[0m\u001b[1;32m     12\u001b[0m         \u001b[0mx_test\u001b[0m \u001b[0;34m=\u001b[0m \u001b[0membedding_weights\u001b[0m\u001b[0;34m[\u001b[0m\u001b[0;36m0\u001b[0m\u001b[0;34m]\u001b[0m\u001b[0;34m[\u001b[0m\u001b[0mx_test\u001b[0m\u001b[0;34m]\u001b[0m\u001b[0;34m\u001b[0m\u001b[0m\n\u001b[1;32m     13\u001b[0m \u001b[0;34m\u001b[0m\u001b[0m\n",
      "\u001b[0;31mIndexError\u001b[0m: arrays used as indices must be of integer (or boolean) type"
     ]
    }
   ],
   "source": [
    "embedding_dim = 300\n",
    "min_word_count = 1\n",
    "model_type = \"CNN-static\"\n",
    "context = 10\n",
    "embedding_weights = \n",
    "\n",
    "print(\"Model type is\", model_type)\n",
    "if model_type == \"CNN-non-static\" or model_type == \"CNN-static\":\n",
    "    embedding_weights = train_word2vec(np.vstack((x_train, x_test)), vocabulary_inv, num_features=embedding_dim,\n",
    "                                       min_word_count=min_word_count, context=context)\n",
    "    if model_type == \"CNN-static\":\n",
    "        x_train = embedding_weights[0][x_train]\n",
    "        x_test = embedding_weights[0][x_test]\n",
    "        \n",
    "elif model_type == \"CNN-rand\":\n",
    "    embedding_weights = None\n",
    "    \n",
    "else:\n",
    "    raise ValueError(\"Unknown model type\")"
   ]
  },
  {
   "cell_type": "code",
   "execution_count": 54,
   "metadata": {
    "collapsed": false,
    "deletable": true,
    "editable": true
   },
   "outputs": [
    {
     "data": {
      "text/plain": [
       "(239232, 300)"
      ]
     },
     "execution_count": 54,
     "metadata": {},
     "output_type": "execute_result"
    }
   ],
   "source": [
    "embedding_weights[0].shape"
   ]
  }
 ],
 "metadata": {
  "kernelspec": {
   "display_name": "Python 3",
   "language": "python",
   "name": "python3"
  },
  "language_info": {
   "codemirror_mode": {
    "name": "ipython",
    "version": 3
   },
   "file_extension": ".py",
   "mimetype": "text/x-python",
   "name": "python",
   "nbconvert_exporter": "python",
   "pygments_lexer": "ipython3",
   "version": "3.5.2"
  }
 },
 "nbformat": 4,
 "nbformat_minor": 2
}
